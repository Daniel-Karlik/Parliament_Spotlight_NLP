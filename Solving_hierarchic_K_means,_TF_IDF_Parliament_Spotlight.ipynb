{
  "nbformat": 4,
  "nbformat_minor": 0,
  "metadata": {
    "colab": {
      "provenance": [],
      "collapsed_sections": [],
      "toc_visible": true,
      "authorship_tag": "ABX9TyNiC8/UyEfpHQYkS+vtT25x",
      "include_colab_link": true
    },
    "kernelspec": {
      "name": "python3",
      "display_name": "Python 3"
    },
    "language_info": {
      "name": "python"
    }
  },
  "cells": [
    {
      "cell_type": "markdown",
      "metadata": {
        "id": "view-in-github",
        "colab_type": "text"
      },
      "source": [
        "<a href=\"https://colab.research.google.com/github/Daniel-Karlik/Parliament_Spotlight_NLP/blob/dev_model/Solving_hierarchic_K_means%2C_TF_IDF_Parliament_Spotlight.ipynb\" target=\"_parent\"><img src=\"https://colab.research.google.com/assets/colab-badge.svg\" alt=\"Open In Colab\"/></a>"
      ]
    },
    {
      "cell_type": "code",
      "execution_count": 83,
      "metadata": {
        "id": "LMi6NRXyKPCJ"
      },
      "outputs": [],
      "source": [
        "import numpy as np\n",
        "import pandas as pd\n",
        "import pickle\n",
        "import matplotlib.pyplot as plt\n",
        "import glob\n",
        "import re\n",
        "import string"
      ]
    },
    {
      "cell_type": "code",
      "source": [
        "#from google.colab import auth\n",
        "from google.colab import drive\n",
        "#auth.authenticate_user()"
      ],
      "metadata": {
        "id": "CrNM_BNTy3uK"
      },
      "execution_count": 84,
      "outputs": []
    },
    {
      "cell_type": "code",
      "source": [
        "drive.mount('/content/drive/')\n",
        "# Path to our data on google drive\n",
        "DATA_PATH = \"/content/drive/MyDrive/NLP/\""
      ],
      "metadata": {
        "id": "aUOE8gBMy9YZ",
        "colab": {
          "base_uri": "https://localhost:8080/"
        },
        "outputId": "48a6635b-5ae2-4c04-ad7e-365f50bb4678"
      },
      "execution_count": 85,
      "outputs": [
        {
          "output_type": "stream",
          "name": "stdout",
          "text": [
            "Drive already mounted at /content/drive/; to attempt to forcibly remount, call drive.mount(\"/content/drive/\", force_remount=True).\n"
          ]
        }
      ]
    },
    {
      "cell_type": "markdown",
      "source": [
        "## Now we can use TF-IDF"
      ],
      "metadata": {
        "id": "fhuEZsGf4SKb"
      }
    },
    {
      "cell_type": "code",
      "source": [
        "psp_data = pickle.load(open('/content/drive/MyDrive/NLP/Changed/psp_data_300_no_stopwords.pickle', 'rb'))"
      ],
      "metadata": {
        "id": "DnQohfxC7if2"
      },
      "execution_count": 86,
      "outputs": []
    },
    {
      "cell_type": "code",
      "source": [
        "test_data = psp_data.sample(frac=0.2)"
      ],
      "metadata": {
        "id": "VUkfIQ5IfYVz"
      },
      "execution_count": 87,
      "outputs": []
    },
    {
      "cell_type": "code",
      "source": [
        "test_data.head()"
      ],
      "metadata": {
        "colab": {
          "base_uri": "https://localhost:8080/",
          "height": 600
        },
        "id": "ZjbyzQ3C3RP0",
        "outputId": "e3d58bb2-6807-4abf-e5ef-08934551ea4f"
      },
      "execution_count": 88,
      "outputs": [
        {
          "output_type": "execute_result",
          "data": {
            "text/plain": [
              "                   Id  obdobi                      datum  schuze  \\\n",
              "3869    2017_91_00052    2017  2021-03-23T00:00:00+01:00      91   \n",
              "2725   2017_111_01238    2017  2021-07-14T00:00:00+02:00     111   \n",
              "42677   1998_43_01577    1998  2001-12-07T00:00:00+01:00      43   \n",
              "18525   2013_27_02217    2013  2015-05-27T00:00:00+02:00      27   \n",
              "29511   2006_53_00034    2006  2009-03-24T00:00:00+01:00      53   \n",
              "\n",
              "                 celeJmeno              OsobaId  \\\n",
              "3869         Jana Maláčová        jana-malacova   \n",
              "2725        Radek Holomčík                 None   \n",
              "42677   ČR Stanislav Gross      stanislav-gross   \n",
              "18525   Martin Kolovratník   martin-kolovratnik   \n",
              "29511  Miroslav Grebeníček  miroslav-grebenicek   \n",
              "\n",
              "                                      funkce  \\\n",
              "3869   Ministryně práce a sociálních věcí ČR   \n",
              "2725                                Poslanec   \n",
              "42677                         Ministr vnitra   \n",
              "18525                               Poslanec   \n",
              "29511                               Poslanec   \n",
              "\n",
              "                                                    tema  \\\n",
              "3869                                     Zahájení schůze   \n",
              "2725                              547. Ústní interpelace   \n",
              "42677  143 - Návrh na usnesení Poslanecké sněmovny k&...   \n",
              "18525      142. Návrh na volbu členů Rady České televize   \n",
              "29511                                    Zahájení schůze   \n",
              "\n",
              "                                                    text  pocetSlov  \\\n",
              "3869   obecně ráda návrh dětské skupiny resp jesle bu...        562   \n",
              "2725   slovo pane předsedající vážené dámy vážení pán...       1185   \n",
              "42677  pane předsedo kolegové středočeského kraje pos...        549   \n",
              "18525  kolegyně kolegové dobré odpoledne teď volební ...       1037   \n",
              "29511  vážený pane předsedo dámy pánové české společn...       1067   \n",
              "\n",
              "                                          politiciZminky  \n",
              "3869                     [olga-richterova, jan-cizinsky]  \n",
              "2725   [marian-jurecka, petr-pavek-8, jaroslav-jureck...  \n",
              "42677                                                 []  \n",
              "18525  [vitezslav-jandak, vaclav-havel, zbynek-stanju...  \n",
              "29511  [vaclav-havel, jiri-dienstbier, jiri-dienstbie...  "
            ],
            "text/html": [
              "\n",
              "  <div id=\"df-709b776c-38df-4dda-9719-adda4985ba6d\">\n",
              "    <div class=\"colab-df-container\">\n",
              "      <div>\n",
              "<style scoped>\n",
              "    .dataframe tbody tr th:only-of-type {\n",
              "        vertical-align: middle;\n",
              "    }\n",
              "\n",
              "    .dataframe tbody tr th {\n",
              "        vertical-align: top;\n",
              "    }\n",
              "\n",
              "    .dataframe thead th {\n",
              "        text-align: right;\n",
              "    }\n",
              "</style>\n",
              "<table border=\"1\" class=\"dataframe\">\n",
              "  <thead>\n",
              "    <tr style=\"text-align: right;\">\n",
              "      <th></th>\n",
              "      <th>Id</th>\n",
              "      <th>obdobi</th>\n",
              "      <th>datum</th>\n",
              "      <th>schuze</th>\n",
              "      <th>celeJmeno</th>\n",
              "      <th>OsobaId</th>\n",
              "      <th>funkce</th>\n",
              "      <th>tema</th>\n",
              "      <th>text</th>\n",
              "      <th>pocetSlov</th>\n",
              "      <th>politiciZminky</th>\n",
              "    </tr>\n",
              "  </thead>\n",
              "  <tbody>\n",
              "    <tr>\n",
              "      <th>3869</th>\n",
              "      <td>2017_91_00052</td>\n",
              "      <td>2017</td>\n",
              "      <td>2021-03-23T00:00:00+01:00</td>\n",
              "      <td>91</td>\n",
              "      <td>Jana Maláčová</td>\n",
              "      <td>jana-malacova</td>\n",
              "      <td>Ministryně práce a sociálních věcí ČR</td>\n",
              "      <td>Zahájení schůze</td>\n",
              "      <td>obecně ráda návrh dětské skupiny resp jesle bu...</td>\n",
              "      <td>562</td>\n",
              "      <td>[olga-richterova, jan-cizinsky]</td>\n",
              "    </tr>\n",
              "    <tr>\n",
              "      <th>2725</th>\n",
              "      <td>2017_111_01238</td>\n",
              "      <td>2017</td>\n",
              "      <td>2021-07-14T00:00:00+02:00</td>\n",
              "      <td>111</td>\n",
              "      <td>Radek Holomčík</td>\n",
              "      <td>None</td>\n",
              "      <td>Poslanec</td>\n",
              "      <td>547. Ústní interpelace</td>\n",
              "      <td>slovo pane předsedající vážené dámy vážení pán...</td>\n",
              "      <td>1185</td>\n",
              "      <td>[marian-jurecka, petr-pavek-8, jaroslav-jureck...</td>\n",
              "    </tr>\n",
              "    <tr>\n",
              "      <th>42677</th>\n",
              "      <td>1998_43_01577</td>\n",
              "      <td>1998</td>\n",
              "      <td>2001-12-07T00:00:00+01:00</td>\n",
              "      <td>43</td>\n",
              "      <td>ČR Stanislav Gross</td>\n",
              "      <td>stanislav-gross</td>\n",
              "      <td>Ministr vnitra</td>\n",
              "      <td>143 - Návrh na usnesení Poslanecké sněmovny k&amp;...</td>\n",
              "      <td>pane předsedo kolegové středočeského kraje pos...</td>\n",
              "      <td>549</td>\n",
              "      <td>[]</td>\n",
              "    </tr>\n",
              "    <tr>\n",
              "      <th>18525</th>\n",
              "      <td>2013_27_02217</td>\n",
              "      <td>2013</td>\n",
              "      <td>2015-05-27T00:00:00+02:00</td>\n",
              "      <td>27</td>\n",
              "      <td>Martin Kolovratník</td>\n",
              "      <td>martin-kolovratnik</td>\n",
              "      <td>Poslanec</td>\n",
              "      <td>142. Návrh na volbu členů Rady České televize</td>\n",
              "      <td>kolegyně kolegové dobré odpoledne teď volební ...</td>\n",
              "      <td>1037</td>\n",
              "      <td>[vitezslav-jandak, vaclav-havel, zbynek-stanju...</td>\n",
              "    </tr>\n",
              "    <tr>\n",
              "      <th>29511</th>\n",
              "      <td>2006_53_00034</td>\n",
              "      <td>2006</td>\n",
              "      <td>2009-03-24T00:00:00+01:00</td>\n",
              "      <td>53</td>\n",
              "      <td>Miroslav Grebeníček</td>\n",
              "      <td>miroslav-grebenicek</td>\n",
              "      <td>Poslanec</td>\n",
              "      <td>Zahájení schůze</td>\n",
              "      <td>vážený pane předsedo dámy pánové české společn...</td>\n",
              "      <td>1067</td>\n",
              "      <td>[vaclav-havel, jiri-dienstbier, jiri-dienstbie...</td>\n",
              "    </tr>\n",
              "  </tbody>\n",
              "</table>\n",
              "</div>\n",
              "      <button class=\"colab-df-convert\" onclick=\"convertToInteractive('df-709b776c-38df-4dda-9719-adda4985ba6d')\"\n",
              "              title=\"Convert this dataframe to an interactive table.\"\n",
              "              style=\"display:none;\">\n",
              "        \n",
              "  <svg xmlns=\"http://www.w3.org/2000/svg\" height=\"24px\"viewBox=\"0 0 24 24\"\n",
              "       width=\"24px\">\n",
              "    <path d=\"M0 0h24v24H0V0z\" fill=\"none\"/>\n",
              "    <path d=\"M18.56 5.44l.94 2.06.94-2.06 2.06-.94-2.06-.94-.94-2.06-.94 2.06-2.06.94zm-11 1L8.5 8.5l.94-2.06 2.06-.94-2.06-.94L8.5 2.5l-.94 2.06-2.06.94zm10 10l.94 2.06.94-2.06 2.06-.94-2.06-.94-.94-2.06-.94 2.06-2.06.94z\"/><path d=\"M17.41 7.96l-1.37-1.37c-.4-.4-.92-.59-1.43-.59-.52 0-1.04.2-1.43.59L10.3 9.45l-7.72 7.72c-.78.78-.78 2.05 0 2.83L4 21.41c.39.39.9.59 1.41.59.51 0 1.02-.2 1.41-.59l7.78-7.78 2.81-2.81c.8-.78.8-2.07 0-2.86zM5.41 20L4 18.59l7.72-7.72 1.47 1.35L5.41 20z\"/>\n",
              "  </svg>\n",
              "      </button>\n",
              "      \n",
              "  <style>\n",
              "    .colab-df-container {\n",
              "      display:flex;\n",
              "      flex-wrap:wrap;\n",
              "      gap: 12px;\n",
              "    }\n",
              "\n",
              "    .colab-df-convert {\n",
              "      background-color: #E8F0FE;\n",
              "      border: none;\n",
              "      border-radius: 50%;\n",
              "      cursor: pointer;\n",
              "      display: none;\n",
              "      fill: #1967D2;\n",
              "      height: 32px;\n",
              "      padding: 0 0 0 0;\n",
              "      width: 32px;\n",
              "    }\n",
              "\n",
              "    .colab-df-convert:hover {\n",
              "      background-color: #E2EBFA;\n",
              "      box-shadow: 0px 1px 2px rgba(60, 64, 67, 0.3), 0px 1px 3px 1px rgba(60, 64, 67, 0.15);\n",
              "      fill: #174EA6;\n",
              "    }\n",
              "\n",
              "    [theme=dark] .colab-df-convert {\n",
              "      background-color: #3B4455;\n",
              "      fill: #D2E3FC;\n",
              "    }\n",
              "\n",
              "    [theme=dark] .colab-df-convert:hover {\n",
              "      background-color: #434B5C;\n",
              "      box-shadow: 0px 1px 3px 1px rgba(0, 0, 0, 0.15);\n",
              "      filter: drop-shadow(0px 1px 2px rgba(0, 0, 0, 0.3));\n",
              "      fill: #FFFFFF;\n",
              "    }\n",
              "  </style>\n",
              "\n",
              "      <script>\n",
              "        const buttonEl =\n",
              "          document.querySelector('#df-709b776c-38df-4dda-9719-adda4985ba6d button.colab-df-convert');\n",
              "        buttonEl.style.display =\n",
              "          google.colab.kernel.accessAllowed ? 'block' : 'none';\n",
              "\n",
              "        async function convertToInteractive(key) {\n",
              "          const element = document.querySelector('#df-709b776c-38df-4dda-9719-adda4985ba6d');\n",
              "          const dataTable =\n",
              "            await google.colab.kernel.invokeFunction('convertToInteractive',\n",
              "                                                     [key], {});\n",
              "          if (!dataTable) return;\n",
              "\n",
              "          const docLinkHtml = 'Like what you see? Visit the ' +\n",
              "            '<a target=\"_blank\" href=https://colab.research.google.com/notebooks/data_table.ipynb>data table notebook</a>'\n",
              "            + ' to learn more about interactive tables.';\n",
              "          element.innerHTML = '';\n",
              "          dataTable['output_type'] = 'display_data';\n",
              "          await google.colab.output.renderOutput(dataTable, element);\n",
              "          const docLink = document.createElement('div');\n",
              "          docLink.innerHTML = docLinkHtml;\n",
              "          element.appendChild(docLink);\n",
              "        }\n",
              "      </script>\n",
              "    </div>\n",
              "  </div>\n",
              "  "
            ]
          },
          "metadata": {},
          "execution_count": 88
        }
      ]
    },
    {
      "cell_type": "code",
      "source": [
        "test_data.info()"
      ],
      "metadata": {
        "colab": {
          "base_uri": "https://localhost:8080/"
        },
        "id": "V7z2fVes3aj0",
        "outputId": "b9ccfea1-9bd1-43ef-f686-2ef3466ea012"
      },
      "execution_count": 89,
      "outputs": [
        {
          "output_type": "stream",
          "name": "stdout",
          "text": [
            "<class 'pandas.core.frame.DataFrame'>\n",
            "Int64Index: 9790 entries, 3869 to 40696\n",
            "Data columns (total 11 columns):\n",
            " #   Column          Non-Null Count  Dtype \n",
            "---  ------          --------------  ----- \n",
            " 0   Id              9790 non-null   object\n",
            " 1   obdobi          9790 non-null   int64 \n",
            " 2   datum           9790 non-null   object\n",
            " 3   schuze          9790 non-null   int64 \n",
            " 4   celeJmeno       9790 non-null   object\n",
            " 5   OsobaId         9519 non-null   object\n",
            " 6   funkce          9790 non-null   object\n",
            " 7   tema            9790 non-null   object\n",
            " 8   text            9790 non-null   object\n",
            " 9   pocetSlov       9790 non-null   int64 \n",
            " 10  politiciZminky  9496 non-null   object\n",
            "dtypes: int64(3), object(8)\n",
            "memory usage: 917.8+ KB\n"
          ]
        }
      ]
    },
    {
      "cell_type": "markdown",
      "source": [
        "Test sample has 20% of our data, i.e. 9790."
      ],
      "metadata": {
        "id": "MYxfOJEpXAiP"
      }
    },
    {
      "cell_type": "code",
      "source": [
        "from sklearn.feature_extraction.text import TfidfVectorizer\n",
        "from sklearn.feature_extraction.text import CountVectorizer"
      ],
      "metadata": {
        "id": "RdvctmAWXkeS"
      },
      "execution_count": 90,
      "outputs": []
    },
    {
      "cell_type": "code",
      "source": [
        "tfidf_vectorizer = TfidfVectorizer(input='content', max_features = 500, max_df = 0.7, ngram_range=(1, 2)) # Hopefully stop_words will be filtered by TD-IDF mechanism\n",
        "# ngram_range=(1, 1) only unigram, ngram_range=(1, 2) uni and bigrams"
      ],
      "metadata": {
        "id": "Fr7CyI5t68Nz"
      },
      "execution_count": 91,
      "outputs": []
    },
    {
      "cell_type": "code",
      "source": [
        "tfidf_vector = tfidf_vectorizer.fit_transform(test_data['text']) # Run time 146s"
      ],
      "metadata": {
        "id": "pQILybrR7JPw"
      },
      "execution_count": 92,
      "outputs": []
    },
    {
      "cell_type": "code",
      "source": [
        "tfidf_df = pd.DataFrame(tfidf_vector.toarray(), columns=tfidf_vectorizer.get_feature_names_out()) # HERE IT CRASHES with too high max_features "
      ],
      "metadata": {
        "id": "L6Q5o_HO7ehh"
      },
      "execution_count": 93,
      "outputs": []
    },
    {
      "cell_type": "code",
      "source": [
        "#tfidf_df.loc['00_Document Frequency'] = (tfidf_df > 0).sum()"
      ],
      "metadata": {
        "id": "fwgZSzNJ9zvZ"
      },
      "execution_count": 94,
      "outputs": []
    },
    {
      "cell_type": "markdown",
      "source": [
        "### First glance at our featured words"
      ],
      "metadata": {
        "id": "p4h30syz8dgi"
      }
    },
    {
      "cell_type": "code",
      "source": [
        "print(tfidf_df)"
      ],
      "metadata": {
        "colab": {
          "base_uri": "https://localhost:8080/"
        },
        "id": "sr9If1HCCB0H",
        "outputId": "711de215-7c06-462e-944c-2158410e58c0"
      },
      "execution_count": 95,
      "outputs": [
        {
          "output_type": "stream",
          "name": "stdout",
          "text": [
            "           bod      bodu  body    bychom  bychom měli  bydlení  byť  celou  \\\n",
            "0     0.000000  0.000000   0.0  0.000000          0.0      0.0  0.0    0.0   \n",
            "1     0.000000  0.000000   0.0  0.044930          0.0      0.0  0.0    0.0   \n",
            "2     0.000000  0.000000   0.0  0.000000          0.0      0.0  0.0    0.0   \n",
            "3     0.000000  0.000000   0.0  0.045246          0.0      0.0  0.0    0.0   \n",
            "4     0.000000  0.000000   0.0  0.000000          0.0      0.0  0.0    0.0   \n",
            "...        ...       ...   ...       ...          ...      ...  ...    ...   \n",
            "9785  0.000000  0.000000   0.0  0.000000          0.0      0.0  0.0    0.0   \n",
            "9786  0.000000  0.000000   0.0  0.061523          0.0      0.0  0.0    0.0   \n",
            "9787  0.000000  0.000000   0.0  0.000000          0.0      0.0  0.0    0.0   \n",
            "9788  0.295838  0.065528   0.0  0.000000          0.0      0.0  0.0    0.0   \n",
            "9789  0.000000  0.000000   0.0  0.000000          0.0      0.0  0.0    0.0   \n",
            "\n",
            "          celá      celé  ...      říct     říkal      říká  říkám    řízení  \\\n",
            "0     0.000000  0.000000  ...  0.000000  0.000000  0.000000    0.0  0.000000   \n",
            "1     0.000000  0.000000  ...  0.177918  0.000000  0.000000    0.0  0.000000   \n",
            "2     0.074055  0.000000  ...  0.000000  0.000000  0.000000    0.0  0.000000   \n",
            "3     0.000000  0.000000  ...  0.000000  0.062210  0.000000    0.0  0.112866   \n",
            "4     0.000000  0.000000  ...  0.000000  0.000000  0.053261    0.0  0.000000   \n",
            "...        ...       ...  ...       ...       ...       ...    ...       ...   \n",
            "9785  0.000000  0.081007  ...  0.000000  0.000000  0.000000    0.0  0.000000   \n",
            "9786  0.000000  0.000000  ...  0.081208  0.084589  0.000000    0.0  0.000000   \n",
            "9787  0.000000  0.000000  ...  0.000000  0.000000  0.000000    0.0  0.000000   \n",
            "9788  0.000000  0.000000  ...  0.000000  0.000000  0.000000    0.0  0.000000   \n",
            "9789  0.000000  0.000000  ...  0.000000  0.000000  0.000000    0.0  0.000000   \n",
            "\n",
            "      škol  školství  školy  životního  životního prostředí  \n",
            "0      0.0       0.0    0.0    0.00000             0.000000  \n",
            "1      0.0       0.0    0.0    0.07715             0.080421  \n",
            "2      0.0       0.0    0.0    0.00000             0.000000  \n",
            "3      0.0       0.0    0.0    0.00000             0.000000  \n",
            "4      0.0       0.0    0.0    0.00000             0.000000  \n",
            "...    ...       ...    ...        ...                  ...  \n",
            "9785   0.0       0.0    0.0    0.00000             0.000000  \n",
            "9786   0.0       0.0    0.0    0.00000             0.000000  \n",
            "9787   0.0       0.0    0.0    0.00000             0.000000  \n",
            "9788   0.0       0.0    0.0    0.00000             0.000000  \n",
            "9789   0.0       0.0    0.0    0.00000             0.000000  \n",
            "\n",
            "[9790 rows x 500 columns]\n"
          ]
        }
      ]
    },
    {
      "cell_type": "markdown",
      "source": [
        "### Now we remove this auxiliary row"
      ],
      "metadata": {
        "id": "49xIMDsm8k4j"
      }
    },
    {
      "cell_type": "code",
      "source": [
        "#tfidf_df = tfidf_df.drop('00_Document Frequency', errors='ignore')"
      ],
      "metadata": {
        "id": "GCw16ggi4WOC"
      },
      "execution_count": 96,
      "outputs": []
    },
    {
      "cell_type": "code",
      "source": [
        "tfidf_df.stack().reset_index()"
      ],
      "metadata": {
        "colab": {
          "base_uri": "https://localhost:8080/",
          "height": 424
        },
        "id": "h0miuBKt4c10",
        "outputId": "56b18af9-1696-41d2-bd58-7c1ccb31df82"
      },
      "execution_count": 97,
      "outputs": [
        {
          "output_type": "execute_result",
          "data": {
            "text/plain": [
              "         level_0              level_1    0\n",
              "0              0                  bod  0.0\n",
              "1              0                 bodu  0.0\n",
              "2              0                 body  0.0\n",
              "3              0               bychom  0.0\n",
              "4              0          bychom měli  0.0\n",
              "...          ...                  ...  ...\n",
              "4894995     9789                 škol  0.0\n",
              "4894996     9789             školství  0.0\n",
              "4894997     9789                školy  0.0\n",
              "4894998     9789            životního  0.0\n",
              "4894999     9789  životního prostředí  0.0\n",
              "\n",
              "[4895000 rows x 3 columns]"
            ],
            "text/html": [
              "\n",
              "  <div id=\"df-fb999206-1fe8-44ab-aff9-0e20dbe5b214\">\n",
              "    <div class=\"colab-df-container\">\n",
              "      <div>\n",
              "<style scoped>\n",
              "    .dataframe tbody tr th:only-of-type {\n",
              "        vertical-align: middle;\n",
              "    }\n",
              "\n",
              "    .dataframe tbody tr th {\n",
              "        vertical-align: top;\n",
              "    }\n",
              "\n",
              "    .dataframe thead th {\n",
              "        text-align: right;\n",
              "    }\n",
              "</style>\n",
              "<table border=\"1\" class=\"dataframe\">\n",
              "  <thead>\n",
              "    <tr style=\"text-align: right;\">\n",
              "      <th></th>\n",
              "      <th>level_0</th>\n",
              "      <th>level_1</th>\n",
              "      <th>0</th>\n",
              "    </tr>\n",
              "  </thead>\n",
              "  <tbody>\n",
              "    <tr>\n",
              "      <th>0</th>\n",
              "      <td>0</td>\n",
              "      <td>bod</td>\n",
              "      <td>0.0</td>\n",
              "    </tr>\n",
              "    <tr>\n",
              "      <th>1</th>\n",
              "      <td>0</td>\n",
              "      <td>bodu</td>\n",
              "      <td>0.0</td>\n",
              "    </tr>\n",
              "    <tr>\n",
              "      <th>2</th>\n",
              "      <td>0</td>\n",
              "      <td>body</td>\n",
              "      <td>0.0</td>\n",
              "    </tr>\n",
              "    <tr>\n",
              "      <th>3</th>\n",
              "      <td>0</td>\n",
              "      <td>bychom</td>\n",
              "      <td>0.0</td>\n",
              "    </tr>\n",
              "    <tr>\n",
              "      <th>4</th>\n",
              "      <td>0</td>\n",
              "      <td>bychom měli</td>\n",
              "      <td>0.0</td>\n",
              "    </tr>\n",
              "    <tr>\n",
              "      <th>...</th>\n",
              "      <td>...</td>\n",
              "      <td>...</td>\n",
              "      <td>...</td>\n",
              "    </tr>\n",
              "    <tr>\n",
              "      <th>4894995</th>\n",
              "      <td>9789</td>\n",
              "      <td>škol</td>\n",
              "      <td>0.0</td>\n",
              "    </tr>\n",
              "    <tr>\n",
              "      <th>4894996</th>\n",
              "      <td>9789</td>\n",
              "      <td>školství</td>\n",
              "      <td>0.0</td>\n",
              "    </tr>\n",
              "    <tr>\n",
              "      <th>4894997</th>\n",
              "      <td>9789</td>\n",
              "      <td>školy</td>\n",
              "      <td>0.0</td>\n",
              "    </tr>\n",
              "    <tr>\n",
              "      <th>4894998</th>\n",
              "      <td>9789</td>\n",
              "      <td>životního</td>\n",
              "      <td>0.0</td>\n",
              "    </tr>\n",
              "    <tr>\n",
              "      <th>4894999</th>\n",
              "      <td>9789</td>\n",
              "      <td>životního prostředí</td>\n",
              "      <td>0.0</td>\n",
              "    </tr>\n",
              "  </tbody>\n",
              "</table>\n",
              "<p>4895000 rows × 3 columns</p>\n",
              "</div>\n",
              "      <button class=\"colab-df-convert\" onclick=\"convertToInteractive('df-fb999206-1fe8-44ab-aff9-0e20dbe5b214')\"\n",
              "              title=\"Convert this dataframe to an interactive table.\"\n",
              "              style=\"display:none;\">\n",
              "        \n",
              "  <svg xmlns=\"http://www.w3.org/2000/svg\" height=\"24px\"viewBox=\"0 0 24 24\"\n",
              "       width=\"24px\">\n",
              "    <path d=\"M0 0h24v24H0V0z\" fill=\"none\"/>\n",
              "    <path d=\"M18.56 5.44l.94 2.06.94-2.06 2.06-.94-2.06-.94-.94-2.06-.94 2.06-2.06.94zm-11 1L8.5 8.5l.94-2.06 2.06-.94-2.06-.94L8.5 2.5l-.94 2.06-2.06.94zm10 10l.94 2.06.94-2.06 2.06-.94-2.06-.94-.94-2.06-.94 2.06-2.06.94z\"/><path d=\"M17.41 7.96l-1.37-1.37c-.4-.4-.92-.59-1.43-.59-.52 0-1.04.2-1.43.59L10.3 9.45l-7.72 7.72c-.78.78-.78 2.05 0 2.83L4 21.41c.39.39.9.59 1.41.59.51 0 1.02-.2 1.41-.59l7.78-7.78 2.81-2.81c.8-.78.8-2.07 0-2.86zM5.41 20L4 18.59l7.72-7.72 1.47 1.35L5.41 20z\"/>\n",
              "  </svg>\n",
              "      </button>\n",
              "      \n",
              "  <style>\n",
              "    .colab-df-container {\n",
              "      display:flex;\n",
              "      flex-wrap:wrap;\n",
              "      gap: 12px;\n",
              "    }\n",
              "\n",
              "    .colab-df-convert {\n",
              "      background-color: #E8F0FE;\n",
              "      border: none;\n",
              "      border-radius: 50%;\n",
              "      cursor: pointer;\n",
              "      display: none;\n",
              "      fill: #1967D2;\n",
              "      height: 32px;\n",
              "      padding: 0 0 0 0;\n",
              "      width: 32px;\n",
              "    }\n",
              "\n",
              "    .colab-df-convert:hover {\n",
              "      background-color: #E2EBFA;\n",
              "      box-shadow: 0px 1px 2px rgba(60, 64, 67, 0.3), 0px 1px 3px 1px rgba(60, 64, 67, 0.15);\n",
              "      fill: #174EA6;\n",
              "    }\n",
              "\n",
              "    [theme=dark] .colab-df-convert {\n",
              "      background-color: #3B4455;\n",
              "      fill: #D2E3FC;\n",
              "    }\n",
              "\n",
              "    [theme=dark] .colab-df-convert:hover {\n",
              "      background-color: #434B5C;\n",
              "      box-shadow: 0px 1px 3px 1px rgba(0, 0, 0, 0.15);\n",
              "      filter: drop-shadow(0px 1px 2px rgba(0, 0, 0, 0.3));\n",
              "      fill: #FFFFFF;\n",
              "    }\n",
              "  </style>\n",
              "\n",
              "      <script>\n",
              "        const buttonEl =\n",
              "          document.querySelector('#df-fb999206-1fe8-44ab-aff9-0e20dbe5b214 button.colab-df-convert');\n",
              "        buttonEl.style.display =\n",
              "          google.colab.kernel.accessAllowed ? 'block' : 'none';\n",
              "\n",
              "        async function convertToInteractive(key) {\n",
              "          const element = document.querySelector('#df-fb999206-1fe8-44ab-aff9-0e20dbe5b214');\n",
              "          const dataTable =\n",
              "            await google.colab.kernel.invokeFunction('convertToInteractive',\n",
              "                                                     [key], {});\n",
              "          if (!dataTable) return;\n",
              "\n",
              "          const docLinkHtml = 'Like what you see? Visit the ' +\n",
              "            '<a target=\"_blank\" href=https://colab.research.google.com/notebooks/data_table.ipynb>data table notebook</a>'\n",
              "            + ' to learn more about interactive tables.';\n",
              "          element.innerHTML = '';\n",
              "          dataTable['output_type'] = 'display_data';\n",
              "          await google.colab.output.renderOutput(dataTable, element);\n",
              "          const docLink = document.createElement('div');\n",
              "          docLink.innerHTML = docLinkHtml;\n",
              "          element.appendChild(docLink);\n",
              "        }\n",
              "      </script>\n",
              "    </div>\n",
              "  </div>\n",
              "  "
            ]
          },
          "metadata": {},
          "execution_count": 97
        }
      ]
    },
    {
      "cell_type": "markdown",
      "source": [
        "### We rename columns to be more understandables"
      ],
      "metadata": {
        "id": "6QWXM0Jv8WqR"
      }
    },
    {
      "cell_type": "code",
      "source": [
        "tfidf_df = tfidf_df.stack().reset_index() # This is necessary for some reason"
      ],
      "metadata": {
        "id": "2M-_3O2HEAg6"
      },
      "execution_count": 98,
      "outputs": []
    },
    {
      "cell_type": "code",
      "source": [
        "tfidf_df = tfidf_df.rename(columns={0:'tfidf', 'level_0': 'document_id','level_1': 'term'})"
      ],
      "metadata": {
        "id": "oXJmVK_F5Ptq"
      },
      "execution_count": 99,
      "outputs": []
    },
    {
      "cell_type": "code",
      "source": [
        "tfidf_df.sort_values(by=['document_id','tfidf'], ascending=[True,False]).groupby(['document_id']).head(3)"
      ],
      "metadata": {
        "colab": {
          "base_uri": "https://localhost:8080/",
          "height": 424
        },
        "id": "U2wvuhoN3cug",
        "outputId": "36898266-eaa5-4906-db41-0af1bde8eaf0"
      },
      "execution_count": 100,
      "outputs": [
        {
          "output_type": "execute_result",
          "data": {
            "text/plain": [
              "         document_id    term     tfidf\n",
              "43                 0    děti  0.424425\n",
              "89                 0   korun  0.302437\n",
              "96                 0     let  0.277465\n",
              "511                1   chtěl  0.262171\n",
              "916                1     věc  0.242015\n",
              "...              ...     ...       ...\n",
              "4894195         9788    odst  0.328431\n",
              "4894265         9788   práce  0.308334\n",
              "4894965         9789   území  0.487918\n",
              "4894645         9789  našich  0.452534\n",
              "4894907         9789     vím  0.239138\n",
              "\n",
              "[29370 rows x 3 columns]"
            ],
            "text/html": [
              "\n",
              "  <div id=\"df-6ffeb659-7781-44b2-871e-7b83ce5cd942\">\n",
              "    <div class=\"colab-df-container\">\n",
              "      <div>\n",
              "<style scoped>\n",
              "    .dataframe tbody tr th:only-of-type {\n",
              "        vertical-align: middle;\n",
              "    }\n",
              "\n",
              "    .dataframe tbody tr th {\n",
              "        vertical-align: top;\n",
              "    }\n",
              "\n",
              "    .dataframe thead th {\n",
              "        text-align: right;\n",
              "    }\n",
              "</style>\n",
              "<table border=\"1\" class=\"dataframe\">\n",
              "  <thead>\n",
              "    <tr style=\"text-align: right;\">\n",
              "      <th></th>\n",
              "      <th>document_id</th>\n",
              "      <th>term</th>\n",
              "      <th>tfidf</th>\n",
              "    </tr>\n",
              "  </thead>\n",
              "  <tbody>\n",
              "    <tr>\n",
              "      <th>43</th>\n",
              "      <td>0</td>\n",
              "      <td>děti</td>\n",
              "      <td>0.424425</td>\n",
              "    </tr>\n",
              "    <tr>\n",
              "      <th>89</th>\n",
              "      <td>0</td>\n",
              "      <td>korun</td>\n",
              "      <td>0.302437</td>\n",
              "    </tr>\n",
              "    <tr>\n",
              "      <th>96</th>\n",
              "      <td>0</td>\n",
              "      <td>let</td>\n",
              "      <td>0.277465</td>\n",
              "    </tr>\n",
              "    <tr>\n",
              "      <th>511</th>\n",
              "      <td>1</td>\n",
              "      <td>chtěl</td>\n",
              "      <td>0.262171</td>\n",
              "    </tr>\n",
              "    <tr>\n",
              "      <th>916</th>\n",
              "      <td>1</td>\n",
              "      <td>věc</td>\n",
              "      <td>0.242015</td>\n",
              "    </tr>\n",
              "    <tr>\n",
              "      <th>...</th>\n",
              "      <td>...</td>\n",
              "      <td>...</td>\n",
              "      <td>...</td>\n",
              "    </tr>\n",
              "    <tr>\n",
              "      <th>4894195</th>\n",
              "      <td>9788</td>\n",
              "      <td>odst</td>\n",
              "      <td>0.328431</td>\n",
              "    </tr>\n",
              "    <tr>\n",
              "      <th>4894265</th>\n",
              "      <td>9788</td>\n",
              "      <td>práce</td>\n",
              "      <td>0.308334</td>\n",
              "    </tr>\n",
              "    <tr>\n",
              "      <th>4894965</th>\n",
              "      <td>9789</td>\n",
              "      <td>území</td>\n",
              "      <td>0.487918</td>\n",
              "    </tr>\n",
              "    <tr>\n",
              "      <th>4894645</th>\n",
              "      <td>9789</td>\n",
              "      <td>našich</td>\n",
              "      <td>0.452534</td>\n",
              "    </tr>\n",
              "    <tr>\n",
              "      <th>4894907</th>\n",
              "      <td>9789</td>\n",
              "      <td>vím</td>\n",
              "      <td>0.239138</td>\n",
              "    </tr>\n",
              "  </tbody>\n",
              "</table>\n",
              "<p>29370 rows × 3 columns</p>\n",
              "</div>\n",
              "      <button class=\"colab-df-convert\" onclick=\"convertToInteractive('df-6ffeb659-7781-44b2-871e-7b83ce5cd942')\"\n",
              "              title=\"Convert this dataframe to an interactive table.\"\n",
              "              style=\"display:none;\">\n",
              "        \n",
              "  <svg xmlns=\"http://www.w3.org/2000/svg\" height=\"24px\"viewBox=\"0 0 24 24\"\n",
              "       width=\"24px\">\n",
              "    <path d=\"M0 0h24v24H0V0z\" fill=\"none\"/>\n",
              "    <path d=\"M18.56 5.44l.94 2.06.94-2.06 2.06-.94-2.06-.94-.94-2.06-.94 2.06-2.06.94zm-11 1L8.5 8.5l.94-2.06 2.06-.94-2.06-.94L8.5 2.5l-.94 2.06-2.06.94zm10 10l.94 2.06.94-2.06 2.06-.94-2.06-.94-.94-2.06-.94 2.06-2.06.94z\"/><path d=\"M17.41 7.96l-1.37-1.37c-.4-.4-.92-.59-1.43-.59-.52 0-1.04.2-1.43.59L10.3 9.45l-7.72 7.72c-.78.78-.78 2.05 0 2.83L4 21.41c.39.39.9.59 1.41.59.51 0 1.02-.2 1.41-.59l7.78-7.78 2.81-2.81c.8-.78.8-2.07 0-2.86zM5.41 20L4 18.59l7.72-7.72 1.47 1.35L5.41 20z\"/>\n",
              "  </svg>\n",
              "      </button>\n",
              "      \n",
              "  <style>\n",
              "    .colab-df-container {\n",
              "      display:flex;\n",
              "      flex-wrap:wrap;\n",
              "      gap: 12px;\n",
              "    }\n",
              "\n",
              "    .colab-df-convert {\n",
              "      background-color: #E8F0FE;\n",
              "      border: none;\n",
              "      border-radius: 50%;\n",
              "      cursor: pointer;\n",
              "      display: none;\n",
              "      fill: #1967D2;\n",
              "      height: 32px;\n",
              "      padding: 0 0 0 0;\n",
              "      width: 32px;\n",
              "    }\n",
              "\n",
              "    .colab-df-convert:hover {\n",
              "      background-color: #E2EBFA;\n",
              "      box-shadow: 0px 1px 2px rgba(60, 64, 67, 0.3), 0px 1px 3px 1px rgba(60, 64, 67, 0.15);\n",
              "      fill: #174EA6;\n",
              "    }\n",
              "\n",
              "    [theme=dark] .colab-df-convert {\n",
              "      background-color: #3B4455;\n",
              "      fill: #D2E3FC;\n",
              "    }\n",
              "\n",
              "    [theme=dark] .colab-df-convert:hover {\n",
              "      background-color: #434B5C;\n",
              "      box-shadow: 0px 1px 3px 1px rgba(0, 0, 0, 0.15);\n",
              "      filter: drop-shadow(0px 1px 2px rgba(0, 0, 0, 0.3));\n",
              "      fill: #FFFFFF;\n",
              "    }\n",
              "  </style>\n",
              "\n",
              "      <script>\n",
              "        const buttonEl =\n",
              "          document.querySelector('#df-6ffeb659-7781-44b2-871e-7b83ce5cd942 button.colab-df-convert');\n",
              "        buttonEl.style.display =\n",
              "          google.colab.kernel.accessAllowed ? 'block' : 'none';\n",
              "\n",
              "        async function convertToInteractive(key) {\n",
              "          const element = document.querySelector('#df-6ffeb659-7781-44b2-871e-7b83ce5cd942');\n",
              "          const dataTable =\n",
              "            await google.colab.kernel.invokeFunction('convertToInteractive',\n",
              "                                                     [key], {});\n",
              "          if (!dataTable) return;\n",
              "\n",
              "          const docLinkHtml = 'Like what you see? Visit the ' +\n",
              "            '<a target=\"_blank\" href=https://colab.research.google.com/notebooks/data_table.ipynb>data table notebook</a>'\n",
              "            + ' to learn more about interactive tables.';\n",
              "          element.innerHTML = '';\n",
              "          dataTable['output_type'] = 'display_data';\n",
              "          await google.colab.output.renderOutput(dataTable, element);\n",
              "          const docLink = document.createElement('div');\n",
              "          docLink.innerHTML = docLinkHtml;\n",
              "          element.appendChild(docLink);\n",
              "        }\n",
              "      </script>\n",
              "    </div>\n",
              "  </div>\n",
              "  "
            ]
          },
          "metadata": {},
          "execution_count": 100
        }
      ]
    },
    {
      "cell_type": "markdown",
      "source": [
        "We can see above top 3 keywords for each document"
      ],
      "metadata": {
        "id": "-3IXCVonXd53"
      }
    },
    {
      "cell_type": "markdown",
      "source": [
        "## Results above seems promising"
      ],
      "metadata": {
        "id": "ENJAi2ai86Yn"
      }
    },
    {
      "cell_type": "markdown",
      "source": [
        "## Hierarchic k-means"
      ],
      "metadata": {
        "id": "oV8VUtTY4ND8"
      }
    },
    {
      "cell_type": "code",
      "source": [
        "from sklearn.cluster import KMeans\n",
        "\n",
        "num_clusters = 5\n",
        "\n",
        "km = KMeans(n_clusters=num_clusters)\n",
        "\n",
        "km.fit(tfidf_vector)\n",
        "\n",
        "clusters = km.labels_.tolist()"
      ],
      "metadata": {
        "id": "xscskJJEZ4il"
      },
      "execution_count": 101,
      "outputs": []
    },
    {
      "cell_type": "code",
      "source": [
        "test_data['cluster'] = clusters"
      ],
      "metadata": {
        "id": "SJ-iwj6Khy3t"
      },
      "execution_count": 102,
      "outputs": []
    },
    {
      "cell_type": "code",
      "source": [
        "test_data['cluster'].value_counts()"
      ],
      "metadata": {
        "colab": {
          "base_uri": "https://localhost:8080/"
        },
        "id": "4LujW8y0l4jm",
        "outputId": "4eeb01e5-0dcc-4509-e7ba-425255a3b664"
      },
      "execution_count": 103,
      "outputs": [
        {
          "output_type": "execute_result",
          "data": {
            "text/plain": [
              "3    4239\n",
              "1    2528\n",
              "0    1380\n",
              "4    1120\n",
              "2     523\n",
              "Name: cluster, dtype: int64"
            ]
          },
          "metadata": {},
          "execution_count": 103
        }
      ]
    },
    {
      "cell_type": "code",
      "source": [
        "#help_data = test_data[test_data['cluster'] == 0]['text']"
      ],
      "metadata": {
        "id": "nNcuMbEphqRd"
      },
      "execution_count": 104,
      "outputs": []
    },
    {
      "cell_type": "markdown",
      "source": [
        "Not working stuff below"
      ],
      "metadata": {
        "id": "Af9V3xQ_o4Ad"
      }
    },
    {
      "cell_type": "code",
      "source": [
        "# def hier_kmeans(data, max_level, num_clusters, max_cluster, top_keywords):\n",
        "#   km = KMeans(n_clusters = num_clusters)\n",
        "#   km.fit(tfidf_vector)\n",
        "#   clusters = km.labels_.tolist()\n",
        "#   data['cluster'] = clusters\n",
        "#   #data.head()\n",
        "#   id_cl_prev = data[['Id', 'cluster']]\n",
        "#   for i in range(num_clusters):\n",
        "#     #i = 0\n",
        "#     if len(data[data['cluster'] == i]) > max_cluster:\n",
        "#       help_data = data[data['cluster'] == i]\n",
        "#       tfidf_vector_cluster = tfidf_vectorizer.fit_transform(help_data['text'])\n",
        "#       km.fit(tfidf_vector_cluster)\n",
        "#       help_clusters = km.labels_.tolist()\n",
        "#       help_data['cluster2'] = help_clusters\n",
        "#       #data[data['cluster'] == i]['cluster'] = data[data['cluster'] == i]['cluster'].apply(lambda x: \"{}{}\".format(x, help_clusters))\n",
        "    \n",
        "#     if i == 0:\n",
        "#       id_cl_df = help_data[['Id', 'cluster2']].copy()\n",
        "#       print(\"i is: \"); print(i)\n",
        "#       print(len(id_cl_df['cluster2']))\n",
        "#     else:\n",
        "#       id_cl_df = pd.concat([id_cl_df, help_data[['Id', 'cluster2']]], join=\"inner\")\n",
        "#       print(\"i is: \"); print(i)\n",
        "#       print(len(id_cl_df['cluster2']))\n",
        "#   return id_cl_prev, id_cl_df\n"
      ],
      "metadata": {
        "id": "3Bhztzv04MiM"
      },
      "execution_count": 105,
      "outputs": []
    },
    {
      "cell_type": "code",
      "source": [
        "# id_cl, data = hier_kmeans(test_data, 4, 5, 50, 8)"
      ],
      "metadata": {
        "id": "iA8qcgEy4J26"
      },
      "execution_count": 106,
      "outputs": []
    },
    {
      "cell_type": "code",
      "source": [
        "#data.head()"
      ],
      "metadata": {
        "id": "oAVaBQmer3_e"
      },
      "execution_count": 107,
      "outputs": []
    },
    {
      "cell_type": "code",
      "source": [
        "#data.info()"
      ],
      "metadata": {
        "id": "EU_7lhUxpael"
      },
      "execution_count": 108,
      "outputs": []
    },
    {
      "cell_type": "code",
      "source": [
        "tfidf_vectorizer.get_feature_names_out()"
      ],
      "metadata": {
        "colab": {
          "base_uri": "https://localhost:8080/"
        },
        "id": "sjHG1Xvo4Kfc",
        "outputId": "7876c6c9-853e-4cac-ad0a-1fa37c2e736c"
      },
      "execution_count": 109,
      "outputs": [
        {
          "output_type": "execute_result",
          "data": {
            "text/plain": [
              "array(['bod', 'bodu', 'body', 'bychom', 'bychom měli', 'bydlení', 'byť',\n",
              "       'celou', 'celá', 'celé', 'celý', 'chtěl', 'chvíli', 'cílem',\n",
              "       'dalších', 'daní', 'daně', 'demokracie', 'diskuse', 'diskusi',\n",
              "       'dne', 'dneska', 'dnů', 'dobré', 'dobu', 'doby', 'době', 'dobře',\n",
              "       'dokonce', 'domnívám', 'dopravy', 'dovolte', 'dovolím', 'došlo',\n",
              "       'druhá', 'druhé', 'druhého', 'druhý', 'dvou', 'dámy',\n",
              "       'dámy pánové', 'díky', 'dělat', 'děti', 'dětí', 'důležité',\n",
              "       'důvod', 'důvodu', 'důvody', 'důvodů', 'evropské', 'evropské unie',\n",
              "       'financování', 'financí', 'finanční', 'firmy', 'fondu', 'hlasovat',\n",
              "       'hlasování', 'hlasování pořadové', 'hlediska', 'hnutí', 'hodin',\n",
              "       'informace', 'jaké', 'jakým', 'jasné', 'jasně', 'jednoho',\n",
              "       'jednotlivých', 'jednoznačně', 'jednu', 'jedná', 'jednání',\n",
              "       'jedné', 'jim', 'jiného', 'jiný', 'jiných', 'jistě', 'kdyby',\n",
              "       'koalice', 'kolega', 'kolegové', 'kolegy', 'kolegyně',\n",
              "       'kolegyně kolegové', 'komise', 'konkrétní', 'korun', 'kraje',\n",
              "       'kterém', 'kterých', 'kterým', 'kč', 'legislativní', 'let',\n",
              "       'letech', 'li', 'lidi', 'lidé', 'lidí', 'lze', 'majetku', 'mil',\n",
              "       'miliard', 'miliardy', 'milionů', 'mimo', 'ministerstva',\n",
              "       'ministerstvo', 'ministr', 'ministra', 'ministryně', 'mld',\n",
              "       'mnoho', 'moci', 'mohla', 'mohli', 'možnost', 'možnosti', 'možné',\n",
              "       'mu', 'muset', 'musím', 'musíme', 'mého', 'mého názoru', 'místo',\n",
              "       'místopředsedo', 'měl', 'měla', 'měli', 'mělo', 'měly', 'můžeme',\n",
              "       'nakonec', 'naopak', 'naprosto', 'např', 'například', 'navrhuje',\n",
              "       'navrhuji', 'navíc', 'našeho', 'našich', 'naší', 'neboť', 'nebude',\n",
              "       'nebudou', 'nebudu', 'nebylo', 'nechci', 'nejen', 'nejenom',\n",
              "       'nelze', 'nemá', 'nemůže', 'nevím', 'nicméně', 'nikdo', 'nikdy',\n",
              "       'nikoliv', 'no', 'novela', 'novely', 'nového', 'nutné', 'nyní',\n",
              "       'náklady', 'národní', 'návrh', 'návrh přijat', 'návrhem', 'návrhu',\n",
              "       'návrhy', 'návrhů', 'názor', 'názoru', 'nějakou', 'nějaké',\n",
              "       'nějaký', 'nějakým', 'někdy', 'několik', 'některé', 'některých',\n",
              "       'obce', 'obcí', 'období', 'oblasti', 'občany', 'občané', 'občanů',\n",
              "       'ods', 'odst', 'opatření', 'opět', 'osob', 'osoby', 'ostatní',\n",
              "       'otázka', 'otázku', 'otázky', 'ovšem', 'pane',\n",
              "       'pane místopředsedo', 'pane předsedající', 'pane předsedo', 'panu',\n",
              "       'parlamentu', 'peníze', 'peněz', 'platí', 'podmínky', 'podporu',\n",
              "       'podpory', 'podstatě', 'pohledu', 'pojištění', 'policie',\n",
              "       'politické', 'politiky', 'pomoci', 'poměrně', 'poslance',\n",
              "       'poslanci', 'poslanců', 'poslanec', 'poslanecká',\n",
              "       'poslanecká sněmovna', 'poslanecké', 'poslanecké sněmovny',\n",
              "       'poslanecké sněmovně', 'poslankyně', 'poslankyně vážení',\n",
              "       'poslední', 'poté', 'potřeba', 'považuji', 'povinnost',\n",
              "       'pozměňovací', 'pozměňovací návrh', 'pozměňovací návrhy',\n",
              "       'pozornost', 'počet', 'pořadové', 'pořadové číslo', 'pracovní',\n",
              "       'pracovních', 'pravda', 'premiér', 'problém', 'problémy',\n",
              "       'program', 'programu', 'prohlášení', 'projednání', 'projednávání',\n",
              "       'prostředky', 'prostředků', 'prostřednictvím', 'prostředí',\n",
              "       'prvním', 'prvé', 'práce', 'práci', 'práv', 'práva', 'právní',\n",
              "       'právo', 'ptám', 'páni', 'páni poslanci', 'pánové', 'péče', 'péči',\n",
              "       'přece', 'především', 'předpisů', 'předseda', 'předsedající',\n",
              "       'předsedo', 'přesně', 'přesto', 'přesvědčen', 'přijat', 'přitom',\n",
              "       'příjmů', 'přímo', 'případech', 'případně', 'případě', 'rady',\n",
              "       'republice', 'republika', 'republiky', 'resp', 'roce', 'rok',\n",
              "       'roku', 'roky', 'rovněž', 'rozdíl', 'rozhodnutí', 'rozpočet',\n",
              "       'rozpočtu', 'rozvoj', 'ruku', 'rád', 'rámci', 'samozřejmě', 'sb',\n",
              "       'schůze', 'senátu', 'situace', 'situaci', 'slova', 'slovo',\n",
              "       'služby', 'služeb', 'smlouvy', 'snížení', 'sněmovna', 'sněmovny',\n",
              "       'sněmovní', 'sněmovní tisk', 'sněmovně', 'sociální',\n",
              "       'sociální demokracie', 'sociálních', 'soud', 'soudu', 'souladu',\n",
              "       'souvislosti', 'současné', 'současné době', 'současně', 'součástí',\n",
              "       'společnosti', 'správy', 'spíše', 'stanovisko', 'stav', 'stavu',\n",
              "       'stejně', 'strany', 'straně', 'stále', 'stát', 'státní',\n",
              "       'státních', 'státního', 'státního rozpočtu', 'státu', 'svého',\n",
              "       'svém', 'systém', 'systému', 'sám', 'taková', 'takové', 'takový',\n",
              "       'takto', 'tehdy', 'teď', 'tisk', 'tisku', 'tolik', 'totiž',\n",
              "       'touto', 'trhu', 'tzv', 'té', 'téměř', 'týká', 'těch', 'těchto',\n",
              "       'třetí', 'udělat', 'unie', 'určité', 'usnesení', 'ustanovení',\n",
              "       'velice', 'velké', 'veřejné', 'veřejných', 'vlastní', 'vláda',\n",
              "       'vládní', 'vládu', 'vlády', 'vládě', 'vnitra', 'vystoupení',\n",
              "       'vyšší', 'vzdělávání', 'vzhledem', 'vážená', 'vážené',\n",
              "       'vážené kolegyně', 'vážené poslankyně', 'vážení',\n",
              "       'vážení kolegové', 'vážený', 'vážený pane', 'vím', 'víme', 'víte',\n",
              "       'výbor', 'výboru', 'výdaje', 'výše', 'výši', 'včetně', 'věc',\n",
              "       'věci', 'věcí', 'většina', 'větší', 'věřím', 'všech', 'všechny',\n",
              "       'všem', 'vůči', 'vždycky', 'zahajuji', 'zahajuji hlasování',\n",
              "       'zahraniční', 'zaměstnanců', 'zase', 'zatím', 'zařazení',\n",
              "       'zařízení', 'zcela', 'zdravotnictví', 'zdravotní', 'zejména',\n",
              "       'zemi', 'zemí', 'země', 'zemědělství', 'zhruba', 'změna', 'změny',\n",
              "       'znamená', 'znovu', 'znění', 'způsobem', 'zvýšení', 'zájem',\n",
              "       'základní', 'základě', 'zákonem', 'zákony', 'zákoně', 'zákonů',\n",
              "       'zároveň', 'zásadní', 'úplně', 'úprava', 'úpravy', 'úrovni',\n",
              "       'ústavní', 'území', 'úřad', 'úřadu', 'často', 'českou', 'česká',\n",
              "       'česká republika', 'české', 'české republice', 'české republiky',\n",
              "       'čili', 'činnost', 'činnosti', 'členové', 'čr', 'čtení', 'část',\n",
              "       'části', 'číslo', 'řada', 'řadu', 'řečeno', 'řešení', 'řešit',\n",
              "       'řádu', 'říct', 'říkal', 'říká', 'říkám', 'řízení', 'škol',\n",
              "       'školství', 'školy', 'životního', 'životního prostředí'],\n",
              "      dtype=object)"
            ]
          },
          "metadata": {},
          "execution_count": 109
        }
      ]
    },
    {
      "cell_type": "markdown",
      "source": [
        "## Pokus"
      ],
      "metadata": {
        "id": "wb70YIf16tQC"
      }
    },
    {
      "cell_type": "code",
      "source": [
        "from sklearn.feature_extraction.text import TfidfVectorizer"
      ],
      "metadata": {
        "id": "9fNNFKME0s-P"
      },
      "execution_count": 110,
      "outputs": []
    },
    {
      "cell_type": "code",
      "source": [
        "tfidf_df.head()"
      ],
      "metadata": {
        "colab": {
          "base_uri": "https://localhost:8080/",
          "height": 206
        },
        "id": "gGMj0WjJ29tD",
        "outputId": "e6e51645-afa9-4e8d-c127-41c45dbce6a6"
      },
      "execution_count": 111,
      "outputs": [
        {
          "output_type": "execute_result",
          "data": {
            "text/plain": [
              "   document_id         term  tfidf\n",
              "0            0          bod    0.0\n",
              "1            0         bodu    0.0\n",
              "2            0         body    0.0\n",
              "3            0       bychom    0.0\n",
              "4            0  bychom měli    0.0"
            ],
            "text/html": [
              "\n",
              "  <div id=\"df-6cee52bf-68f3-4d6b-ad56-b09c63425c72\">\n",
              "    <div class=\"colab-df-container\">\n",
              "      <div>\n",
              "<style scoped>\n",
              "    .dataframe tbody tr th:only-of-type {\n",
              "        vertical-align: middle;\n",
              "    }\n",
              "\n",
              "    .dataframe tbody tr th {\n",
              "        vertical-align: top;\n",
              "    }\n",
              "\n",
              "    .dataframe thead th {\n",
              "        text-align: right;\n",
              "    }\n",
              "</style>\n",
              "<table border=\"1\" class=\"dataframe\">\n",
              "  <thead>\n",
              "    <tr style=\"text-align: right;\">\n",
              "      <th></th>\n",
              "      <th>document_id</th>\n",
              "      <th>term</th>\n",
              "      <th>tfidf</th>\n",
              "    </tr>\n",
              "  </thead>\n",
              "  <tbody>\n",
              "    <tr>\n",
              "      <th>0</th>\n",
              "      <td>0</td>\n",
              "      <td>bod</td>\n",
              "      <td>0.0</td>\n",
              "    </tr>\n",
              "    <tr>\n",
              "      <th>1</th>\n",
              "      <td>0</td>\n",
              "      <td>bodu</td>\n",
              "      <td>0.0</td>\n",
              "    </tr>\n",
              "    <tr>\n",
              "      <th>2</th>\n",
              "      <td>0</td>\n",
              "      <td>body</td>\n",
              "      <td>0.0</td>\n",
              "    </tr>\n",
              "    <tr>\n",
              "      <th>3</th>\n",
              "      <td>0</td>\n",
              "      <td>bychom</td>\n",
              "      <td>0.0</td>\n",
              "    </tr>\n",
              "    <tr>\n",
              "      <th>4</th>\n",
              "      <td>0</td>\n",
              "      <td>bychom měli</td>\n",
              "      <td>0.0</td>\n",
              "    </tr>\n",
              "  </tbody>\n",
              "</table>\n",
              "</div>\n",
              "      <button class=\"colab-df-convert\" onclick=\"convertToInteractive('df-6cee52bf-68f3-4d6b-ad56-b09c63425c72')\"\n",
              "              title=\"Convert this dataframe to an interactive table.\"\n",
              "              style=\"display:none;\">\n",
              "        \n",
              "  <svg xmlns=\"http://www.w3.org/2000/svg\" height=\"24px\"viewBox=\"0 0 24 24\"\n",
              "       width=\"24px\">\n",
              "    <path d=\"M0 0h24v24H0V0z\" fill=\"none\"/>\n",
              "    <path d=\"M18.56 5.44l.94 2.06.94-2.06 2.06-.94-2.06-.94-.94-2.06-.94 2.06-2.06.94zm-11 1L8.5 8.5l.94-2.06 2.06-.94-2.06-.94L8.5 2.5l-.94 2.06-2.06.94zm10 10l.94 2.06.94-2.06 2.06-.94-2.06-.94-.94-2.06-.94 2.06-2.06.94z\"/><path d=\"M17.41 7.96l-1.37-1.37c-.4-.4-.92-.59-1.43-.59-.52 0-1.04.2-1.43.59L10.3 9.45l-7.72 7.72c-.78.78-.78 2.05 0 2.83L4 21.41c.39.39.9.59 1.41.59.51 0 1.02-.2 1.41-.59l7.78-7.78 2.81-2.81c.8-.78.8-2.07 0-2.86zM5.41 20L4 18.59l7.72-7.72 1.47 1.35L5.41 20z\"/>\n",
              "  </svg>\n",
              "      </button>\n",
              "      \n",
              "  <style>\n",
              "    .colab-df-container {\n",
              "      display:flex;\n",
              "      flex-wrap:wrap;\n",
              "      gap: 12px;\n",
              "    }\n",
              "\n",
              "    .colab-df-convert {\n",
              "      background-color: #E8F0FE;\n",
              "      border: none;\n",
              "      border-radius: 50%;\n",
              "      cursor: pointer;\n",
              "      display: none;\n",
              "      fill: #1967D2;\n",
              "      height: 32px;\n",
              "      padding: 0 0 0 0;\n",
              "      width: 32px;\n",
              "    }\n",
              "\n",
              "    .colab-df-convert:hover {\n",
              "      background-color: #E2EBFA;\n",
              "      box-shadow: 0px 1px 2px rgba(60, 64, 67, 0.3), 0px 1px 3px 1px rgba(60, 64, 67, 0.15);\n",
              "      fill: #174EA6;\n",
              "    }\n",
              "\n",
              "    [theme=dark] .colab-df-convert {\n",
              "      background-color: #3B4455;\n",
              "      fill: #D2E3FC;\n",
              "    }\n",
              "\n",
              "    [theme=dark] .colab-df-convert:hover {\n",
              "      background-color: #434B5C;\n",
              "      box-shadow: 0px 1px 3px 1px rgba(0, 0, 0, 0.15);\n",
              "      filter: drop-shadow(0px 1px 2px rgba(0, 0, 0, 0.3));\n",
              "      fill: #FFFFFF;\n",
              "    }\n",
              "  </style>\n",
              "\n",
              "      <script>\n",
              "        const buttonEl =\n",
              "          document.querySelector('#df-6cee52bf-68f3-4d6b-ad56-b09c63425c72 button.colab-df-convert');\n",
              "        buttonEl.style.display =\n",
              "          google.colab.kernel.accessAllowed ? 'block' : 'none';\n",
              "\n",
              "        async function convertToInteractive(key) {\n",
              "          const element = document.querySelector('#df-6cee52bf-68f3-4d6b-ad56-b09c63425c72');\n",
              "          const dataTable =\n",
              "            await google.colab.kernel.invokeFunction('convertToInteractive',\n",
              "                                                     [key], {});\n",
              "          if (!dataTable) return;\n",
              "\n",
              "          const docLinkHtml = 'Like what you see? Visit the ' +\n",
              "            '<a target=\"_blank\" href=https://colab.research.google.com/notebooks/data_table.ipynb>data table notebook</a>'\n",
              "            + ' to learn more about interactive tables.';\n",
              "          element.innerHTML = '';\n",
              "          dataTable['output_type'] = 'display_data';\n",
              "          await google.colab.output.renderOutput(dataTable, element);\n",
              "          const docLink = document.createElement('div');\n",
              "          docLink.innerHTML = docLinkHtml;\n",
              "          element.appendChild(docLink);\n",
              "        }\n",
              "      </script>\n",
              "    </div>\n",
              "  </div>\n",
              "  "
            ]
          },
          "metadata": {},
          "execution_count": 111
        }
      ]
    },
    {
      "cell_type": "code",
      "source": [
        "tfidf_df.info()"
      ],
      "metadata": {
        "colab": {
          "base_uri": "https://localhost:8080/"
        },
        "id": "Gi4NYdIp85z7",
        "outputId": "e9265dbd-15d5-4ba0-dbc5-08db5ba74dfe"
      },
      "execution_count": 112,
      "outputs": [
        {
          "output_type": "stream",
          "name": "stdout",
          "text": [
            "<class 'pandas.core.frame.DataFrame'>\n",
            "RangeIndex: 4895000 entries, 0 to 4894999\n",
            "Data columns (total 3 columns):\n",
            " #   Column       Dtype  \n",
            "---  ------       -----  \n",
            " 0   document_id  int64  \n",
            " 1   term         object \n",
            " 2   tfidf        float64\n",
            "dtypes: float64(1), int64(1), object(1)\n",
            "memory usage: 112.0+ MB\n"
          ]
        }
      ]
    },
    {
      "cell_type": "markdown",
      "source": [
        "Not good form of tfidf_df, so we transform it."
      ],
      "metadata": {
        "id": "GJuwRP8uZ62-"
      }
    },
    {
      "cell_type": "code",
      "source": [
        "from scipy.cluster.hierarchy import fcluster, linkage"
      ],
      "metadata": {
        "id": "AEY_Dh6b2xnK"
      },
      "execution_count": 113,
      "outputs": []
    },
    {
      "cell_type": "code",
      "source": [
        "tfidf_df = pd.DataFrame(tfidf_vector.toarray(), columns=tfidf_vectorizer.get_feature_names_out()) "
      ],
      "metadata": {
        "id": "x3YLjHJKZu7B"
      },
      "execution_count": 114,
      "outputs": []
    },
    {
      "cell_type": "code",
      "source": [
        "#tfidf_df.head()"
      ],
      "metadata": {
        "id": "yGi4fDGyZwHU"
      },
      "execution_count": 115,
      "outputs": []
    },
    {
      "cell_type": "code",
      "source": [
        "distance_matrix = linkage(tfidf_df, method = 'ward', metric = 'euclidean')"
      ],
      "metadata": {
        "id": "LI2m0Vil85xU"
      },
      "execution_count": 116,
      "outputs": []
    },
    {
      "cell_type": "code",
      "source": [
        "print(distance_matrix)"
      ],
      "metadata": {
        "colab": {
          "base_uri": "https://localhost:8080/"
        },
        "id": "sIYj4ByNDRNP",
        "outputId": "c9557b7a-62fa-41c4-8252-2ce670f2a4db"
      },
      "execution_count": 117,
      "outputs": [
        {
          "output_type": "stream",
          "name": "stdout",
          "text": [
            "[[2.88800000e+03 4.81800000e+03 1.10934250e-01 2.00000000e+00]\n",
            " [4.96000000e+03 5.21300000e+03 1.42026550e-01 2.00000000e+00]\n",
            " [2.74900000e+03 8.26200000e+03 1.89645963e-01 2.00000000e+00]\n",
            " ...\n",
            " [1.95540000e+04 1.95750000e+04 1.15808432e+01 9.11800000e+03]\n",
            " [1.95560000e+04 1.95650000e+04 1.21717388e+01 6.72000000e+02]\n",
            " [1.95760000e+04 1.95770000e+04 2.04377638e+01 9.79000000e+03]]\n"
          ]
        }
      ]
    },
    {
      "cell_type": "markdown",
      "source": [
        "### This matrix\n",
        "\n",
        "\n",
        "```\n",
        "distance_matrix\n",
        "```\n",
        "### contains 4 values, distance_matrix[0] cluster1, distance_matrix[1] cluster2, which merges together.\n",
        "\n",
        "### distance_matrix[2] is distance and distance_matrix[3] number of samples in cluster.  \n"
      ],
      "metadata": {
        "id": "iOiQT9sy8dA7"
      }
    },
    {
      "cell_type": "code",
      "source": [
        "print(np.shape(distance_matrix))"
      ],
      "metadata": {
        "colab": {
          "base_uri": "https://localhost:8080/"
        },
        "id": "gUWViArd6TrA",
        "outputId": "6e39698e-8e15-447c-a4ea-a7f5a6f7a771"
      },
      "execution_count": 118,
      "outputs": [
        {
          "output_type": "stream",
          "name": "stdout",
          "text": [
            "(9789, 4)\n"
          ]
        }
      ]
    },
    {
      "cell_type": "code",
      "source": [
        "dist2 = linkage(tfidf_df, 'average', metric = 'cosine')"
      ],
      "metadata": {
        "id": "GXpehZzc7-O_"
      },
      "execution_count": 119,
      "outputs": []
    },
    {
      "cell_type": "code",
      "source": [
        "print(dist2)"
      ],
      "metadata": {
        "colab": {
          "base_uri": "https://localhost:8080/"
        },
        "id": "6gJcDQz08Ifa",
        "outputId": "131e303b-2cff-48dd-c7f5-060f81cc8ea6"
      },
      "execution_count": 120,
      "outputs": [
        {
          "output_type": "stream",
          "name": "stdout",
          "text": [
            "[[2.88800000e+03 4.81800000e+03 6.15320386e-03 2.00000000e+00]\n",
            " [4.96000000e+03 5.21300000e+03 1.00857705e-02 2.00000000e+00]\n",
            " [2.74900000e+03 8.26200000e+03 1.79827957e-02 2.00000000e+00]\n",
            " ...\n",
            " [1.95550000e+04 1.95750000e+04 9.07633672e-01 1.10800000e+03]\n",
            " [1.86990000e+04 1.95740000e+04 9.17784156e-01 8.68200000e+03]\n",
            " [1.95760000e+04 1.95770000e+04 9.25371857e-01 9.79000000e+03]]\n"
          ]
        }
      ]
    },
    {
      "cell_type": "markdown",
      "source": [
        "## How to use it..."
      ],
      "metadata": {
        "id": "MdM1Lpuc8N9o"
      }
    },
    {
      "cell_type": "code",
      "source": [
        "num_clusters = 250\n",
        "#link_mat = fcluster(distance_matrix, t = 100, criterion = 'maxclust', depth = 8)\n",
        "link_mat = fcluster(distance_matrix, t = num_clusters, criterion = 'maxclust')"
      ],
      "metadata": {
        "id": "2KSTM1d56ToO"
      },
      "execution_count": 121,
      "outputs": []
    },
    {
      "cell_type": "code",
      "source": [
        "print(link_mat)"
      ],
      "metadata": {
        "colab": {
          "base_uri": "https://localhost:8080/"
        },
        "id": "aHyEcQQ74nVo",
        "outputId": "fd88fbbc-c9cd-4424-ea0b-dc0fe9443c5c"
      },
      "execution_count": 122,
      "outputs": [
        {
          "output_type": "stream",
          "name": "stdout",
          "text": [
            "[224  65  21 ... 223 188 197]\n"
          ]
        }
      ]
    },
    {
      "cell_type": "code",
      "source": [
        "print(np.shape(link_mat))"
      ],
      "metadata": {
        "colab": {
          "base_uri": "https://localhost:8080/"
        },
        "id": "eeDMtKyp4qqc",
        "outputId": "d21f4e53-846f-46f8-e558-5b141f2726f1"
      },
      "execution_count": 123,
      "outputs": [
        {
          "output_type": "stream",
          "name": "stdout",
          "text": [
            "(9790,)\n"
          ]
        }
      ]
    },
    {
      "cell_type": "code",
      "source": [
        "from scipy.spatial.distance import euclidean\n",
        "from sklearn.metrics.pairwise import cosine_similarity\n",
        "from scipy.cluster.hierarchy import ward, dendrogram"
      ],
      "metadata": {
        "id": "OnuyL-FPcrRr"
      },
      "execution_count": 124,
      "outputs": []
    },
    {
      "cell_type": "code",
      "source": [],
      "metadata": {
        "id": "JZ_q0oaUdqFd"
      },
      "execution_count": 124,
      "outputs": []
    },
    {
      "cell_type": "code",
      "source": [
        "fig, ax = plt.subplots(figsize=(15, 80)) # set size\n",
        "ax = dendrogram(distance_matrix, truncate_mode='lastp', p=250, leaf_font_size=12. ,orientation=\"right\");\n",
        "\n",
        "plt.tick_params(\\\n",
        "    axis= 'x',          # changes apply to the x-axis\n",
        "    which='both',      # both major and minor ticks are affected\n",
        "    bottom='off',      # ticks along the bottom edge are off\n",
        "    top='off',         # ticks along the top edge are off\n",
        "    labelbottom='off')\n",
        "\n",
        "plt.tight_layout() "
      ],
      "metadata": {
        "colab": {
          "base_uri": "https://localhost:8080/",
          "height": 1000
        },
        "id": "b22guzDG7xmF",
        "outputId": "c12abb0b-e660-4d66-ba74-14e58e55862e"
      },
      "execution_count": 125,
      "outputs": [
        {
          "output_type": "display_data",
          "data": {
            "text/plain": [
              "<Figure size 1080x5760 with 1 Axes>"
            ],
            "image/png": "[encoded data removed]"
          },
          "metadata": {
            "needs_background": "light"
          }
        }
      ]
    },
    {
      "cell_type": "code",
      "source": [],
      "metadata": {
        "id": "wmdAxlFy7xiu"
      },
      "execution_count": 125,
      "outputs": []
    },
    {
      "cell_type": "code",
      "source": [
        "import matplotlib.pyplot as plt"
      ],
      "metadata": {
        "id": "QyxPAE4242jN"
      },
      "execution_count": 126,
      "outputs": []
    },
    {
      "cell_type": "code",
      "source": [
        "plt.hist(link_mat, bins=num_clusters)\n",
        "plt.show()"
      ],
      "metadata": {
        "colab": {
          "base_uri": "https://localhost:8080/",
          "height": 265
        },
        "id": "YNfDa7rM4yPa",
        "outputId": "d6d22671-aa3e-4c4f-f41a-37a7292adeed"
      },
      "execution_count": 127,
      "outputs": [
        {
          "output_type": "display_data",
          "data": {
            "text/plain": [
              "<Figure size 432x288 with 1 Axes>"
            ],
            "image/png": "[encoded data removed]"
          },
          "metadata": {
            "needs_background": "light"
          }
        }
      ]
    },
    {
      "cell_type": "markdown",
      "source": [
        "## fcluster of 2 clusters and 3 clusters"
      ],
      "metadata": {
        "id": "gUElg-bDbSjR"
      }
    },
    {
      "cell_type": "code",
      "source": [
        "link_mat3 = fcluster(distance_matrix, t = 3, criterion = 'maxclust')"
      ],
      "metadata": {
        "id": "tjSxnGA65jys"
      },
      "execution_count": 128,
      "outputs": []
    },
    {
      "cell_type": "code",
      "source": [
        "print(link_mat3)"
      ],
      "metadata": {
        "colab": {
          "base_uri": "https://localhost:8080/"
        },
        "id": "adv9byo0bR-v",
        "outputId": "d6eea698-0ade-42ea-eb88-7e7d72784717"
      },
      "execution_count": 129,
      "outputs": [
        {
          "output_type": "stream",
          "name": "stdout",
          "text": [
            "[1 1 1 ... 1 1 1]\n"
          ]
        }
      ]
    },
    {
      "cell_type": "code",
      "source": [
        "plt.hist(link_mat3, bins=3)\n",
        "plt.show()"
      ],
      "metadata": {
        "colab": {
          "base_uri": "https://localhost:8080/",
          "height": 265
        },
        "id": "xRol3S2gbR7X",
        "outputId": "f9f75aa8-2fa3-4e54-b8ca-c016e8df58b7"
      },
      "execution_count": 130,
      "outputs": [
        {
          "output_type": "display_data",
          "data": {
            "text/plain": [
              "<Figure size 432x288 with 1 Axes>"
            ],
            "image/png": "[encoded data removed]"
          },
          "metadata": {
            "needs_background": "light"
          }
        }
      ]
    },
    {
      "cell_type": "code",
      "source": [
        "fig, ax = plt.subplots(figsize=(3, 5)) # set size\n",
        "ax = dendrogram(distance_matrix, truncate_mode='lastp', p=3, leaf_font_size=12. ,orientation=\"right\");\n",
        "\n",
        "plt.tick_params(\\\n",
        "    axis= 'x',          # changes apply to the x-axis\n",
        "    which='both',      # both major and minor ticks are affected\n",
        "    bottom='off',      # ticks along the bottom edge are off\n",
        "    top='off',         # ticks along the top edge are off\n",
        "    labelbottom='off')\n",
        "\n",
        "plt.tight_layout() "
      ],
      "metadata": {
        "colab": {
          "base_uri": "https://localhost:8080/",
          "height": 369
        },
        "id": "gDs5q-p3bomb",
        "outputId": "e6bca0db-3f4d-41cc-f2b8-c8dfbfa5283a"
      },
      "execution_count": 131,
      "outputs": [
        {
          "output_type": "display_data",
          "data": {
            "text/plain": [
              "<Figure size 216x360 with 1 Axes>"
            ],
            "image/png": "[encoded data removed]"
          },
          "metadata": {
            "needs_background": "light"
          }
        }
      ]
    },
    {
      "cell_type": "code",
      "source": [
        "link_mat2 = fcluster(distance_matrix, t = 2, criterion = 'maxclust')"
      ],
      "metadata": {
        "id": "0jFT-3X_bojX"
      },
      "execution_count": 132,
      "outputs": []
    },
    {
      "cell_type": "code",
      "source": [
        "plt.hist(link_mat2, bins=2)\n",
        "plt.show()"
      ],
      "metadata": {
        "colab": {
          "base_uri": "https://localhost:8080/",
          "height": 265
        },
        "id": "3t4f4aiXbogS",
        "outputId": "eb96fc51-64db-4c4c-d554-c18a5fa0430d"
      },
      "execution_count": 133,
      "outputs": [
        {
          "output_type": "display_data",
          "data": {
            "text/plain": [
              "<Figure size 432x288 with 1 Axes>"
            ],
            "image/png": "[encoded data removed]"
          },
          "metadata": {
            "needs_background": "light"
          }
        }
      ]
    },
    {
      "cell_type": "code",
      "source": [
        "fig, ax = plt.subplots(figsize=(5, 5)) # set size\n",
        "ax = dendrogram(distance_matrix, truncate_mode='lastp', p=2, leaf_font_size=12. ,orientation=\"right\");\n",
        "\n",
        "plt.tick_params(\\\n",
        "    axis= 'x',          # changes apply to the x-axis\n",
        "    which='both',      # both major and minor ticks are affected\n",
        "    bottom='off',      # ticks along the bottom edge are off\n",
        "    top='off',         # ticks along the top edge are off\n",
        "    labelbottom='off')\n",
        "\n",
        "plt.tight_layout() "
      ],
      "metadata": {
        "colab": {
          "base_uri": "https://localhost:8080/",
          "height": 369
        },
        "id": "bMkDFmTVbod0",
        "outputId": "9af4d49a-fbee-433b-999b-06ba5f469f1a"
      },
      "execution_count": 134,
      "outputs": [
        {
          "output_type": "display_data",
          "data": {
            "text/plain": [
              "<Figure size 360x360 with 1 Axes>"
            ],
            "image/png": "[encoded data removed]"
          },
          "metadata": {
            "needs_background": "light"
          }
        }
      ]
    },
    {
      "cell_type": "markdown",
      "source": [
        "## We would like to try find solution for 250 clusters using \n",
        "\n",
        "\n",
        "```\n",
        "fcluster()\n",
        "```\n",
        "\n"
      ],
      "metadata": {
        "id": "nLzv-GFDb28m"
      }
    },
    {
      "cell_type": "code",
      "source": [
        "num_clusters = 250\n",
        "#link_mat = fcluster(distance_matrix, t = 100, criterion = 'maxclust', depth = 8)\n",
        "clusters_250 = fcluster(distance_matrix, t = num_clusters, criterion = 'maxclust')"
      ],
      "metadata": {
        "id": "UVDpxPHcbT1C"
      },
      "execution_count": 135,
      "outputs": []
    },
    {
      "cell_type": "code",
      "source": [
        "def get_top_keywords(data, clusters, labels, n_terms):\n",
        "    df = pd.DataFrame(data.todense()).groupby(clusters).mean()\n",
        "    #tfidf_vector.toarray() # hope this can be commented\n",
        "    for i,r in df.iterrows():\n",
        "        print('\\nCluster {}'.format(i))\n",
        "        print(', '.join([labels[t] for t in np.argsort(r)[-n_terms:]]))\n",
        "        print(\" \".join([format(df.loc[i,x], \"10.3f\") for x in np.argsort(r)[-n_terms:]]))\n",
        "\n",
        "\n",
        "get_top_keywords(tfidf_vector, clusters_250, tfidf_vectorizer.get_feature_names(), 5)"
      ],
      "metadata": {
        "colab": {
          "base_uri": "https://localhost:8080/"
        },
        "id": "bCk_HJSFbe76",
        "outputId": "c7df0a9a-3064-4c82-8301-6187a4d85927"
      },
      "execution_count": 136,
      "outputs": [
        {
          "output_type": "stream",
          "name": "stderr",
          "text": [
            "/usr/local/lib/python3.7/dist-packages/sklearn/utils/deprecation.py:87: FutureWarning: Function get_feature_names is deprecated; get_feature_names is deprecated in 1.0 and will be removed in 1.2. Please use get_feature_names_out instead.\n",
            "  warnings.warn(msg, category=FutureWarning)\n"
          ]
        },
        {
          "output_type": "stream",
          "name": "stdout",
          "text": [
            "\n",
            "Cluster 1\n",
            "mld, rozpočtu, kč, korun, mil\n",
            "     0.089      0.091      0.119      0.153      0.458\n",
            "\n",
            "Cluster 2\n",
            "mil, zvýšení, pojištění, daně, kč\n",
            "     0.053      0.061      0.066      0.091      0.500\n",
            "\n",
            "Cluster 3\n",
            "rok, majetku, mld, fondu, kč\n",
            "     0.112      0.182      0.321      0.406      0.447\n",
            "\n",
            "Cluster 4\n",
            "státního rozpočtu, státního, rozpočtu, mld, kč\n",
            "     0.129      0.145      0.234      0.365      0.479\n",
            "\n",
            "Cluster 5\n",
            "usnesení, státního rozpočtu, státního, rozpočtu, rok\n",
            "     0.127      0.132      0.189      0.190      0.251\n",
            "\n",
            "Cluster 6\n",
            "korun, státních, státního rozpočtu, státního, rozpočtu\n",
            "     0.077      0.105      0.214      0.229      0.249\n",
            "\n",
            "Cluster 7\n",
            "rok, mld, státního, státního rozpočtu, rozpočtu\n",
            "     0.136      0.167      0.320      0.329      0.435\n",
            "\n",
            "Cluster 8\n",
            "státního, státního rozpočtu, rozpočet, vláda, rozpočtu\n",
            "     0.151      0.162      0.177      0.190      0.349\n",
            "\n",
            "Cluster 9\n",
            "rozpočtu, rok, roce, rozpočet, mld\n",
            "     0.077      0.095      0.099      0.105      0.469\n",
            "\n",
            "Cluster 10\n",
            "mil, roce, rok, korun, mld\n",
            "     0.077      0.086      0.104      0.366      0.370\n",
            "\n",
            "Cluster 11\n",
            "náklady, milionů, návrh, dětí, korun\n",
            "     0.063      0.067      0.080      0.125      0.452\n",
            "\n",
            "Cluster 12\n",
            "roce, programu, rozpočtu, korun, milionů\n",
            "     0.063      0.075      0.094      0.232      0.374\n",
            "\n",
            "Cluster 13\n",
            "výdaje, státní, rok, rozpočtu, rozpočet\n",
            "     0.098      0.099      0.107      0.146      0.425\n",
            "\n",
            "Cluster 14\n",
            "korun, vláda, rozpočtu, mld, výdaje\n",
            "     0.100      0.138      0.194      0.227      0.267\n",
            "\n",
            "Cluster 15\n",
            "evropské unie, mld, unie, korun, evropské\n",
            "     0.157      0.160      0.177      0.203      0.208\n",
            "\n",
            "Cluster 16\n",
            "financí, miliard, korun, vláda, rozpočtu\n",
            "     0.094      0.101      0.119      0.125      0.149\n",
            "\n",
            "Cluster 17\n",
            "státního, výši, miliardy, rozpočtu, korun\n",
            "     0.233      0.238      0.281      0.284      0.393\n",
            "\n",
            "Cluster 18\n",
            "rok, roce, miliard, korun, miliardy\n",
            "     0.098      0.116      0.169      0.245      0.377\n",
            "\n",
            "Cluster 19\n",
            "korun, vláda, rozpočet, rozpočtu, miliard\n",
            "     0.135      0.136      0.177      0.251      0.395\n",
            "\n",
            "Cluster 20\n",
            "peníze, firmy, těch, korun, miliard\n",
            "     0.073      0.084      0.103      0.117      0.402\n",
            "\n",
            "Cluster 21\n",
            "návrh, české, unie, evropské unie, evropské\n",
            "     0.093      0.121      0.179      0.180      0.213\n",
            "\n",
            "Cluster 22\n",
            "evropské unie, české republiky, republiky, české, evropské\n",
            "     0.171      0.218      0.222      0.232      0.280\n",
            "\n",
            "Cluster 23\n",
            "republiky, české, evropské unie, unie, evropské\n",
            "     0.082      0.083      0.325      0.371      0.372\n",
            "\n",
            "Cluster 24\n",
            "rámci, evropské unie, unie, evropské, komise\n",
            "     0.082      0.162      0.176      0.301      0.337\n",
            "\n",
            "Cluster 25\n",
            "evropské unie, unie, zemí, země, evropské\n",
            "     0.181      0.205      0.209      0.216      0.267\n",
            "\n",
            "Cluster 26\n",
            "rady, české, evropské unie, unie, evropské\n",
            "     0.059      0.065      0.205      0.252      0.309\n",
            "\n",
            "Cluster 27\n",
            "fondu, ministerstvo, prostředí, životního, životního prostředí\n",
            "     0.060      0.065      0.329      0.340      0.354\n",
            "\n",
            "Cluster 28\n",
            "životního, životního prostředí, pozměňovací návrh, pozměňovací, prostředí\n",
            "     0.177      0.185      0.194      0.264      0.267\n",
            "\n",
            "Cluster 29\n",
            "chtěl, zemědělství, životního, životního prostředí, prostředí\n",
            "     0.055      0.058      0.134      0.139      0.252\n",
            "\n",
            "Cluster 30\n",
            "vlády, naší, ústavní, občané, demokracie\n",
            "     0.066      0.076      0.088      0.098      0.510\n",
            "\n",
            "Cluster 31\n",
            "vlády, vláda, demokracie, sociální, sociální demokracie\n",
            "     0.074      0.074      0.247      0.250      0.254\n",
            "\n",
            "Cluster 32\n",
            "české, občany, občanů, vláda, hnutí\n",
            "     0.108      0.131      0.148      0.243      0.358\n",
            "\n",
            "Cluster 33\n",
            "předseda, vnitra, no, české, hnutí\n",
            "     0.046      0.048      0.057      0.067      0.433\n",
            "\n",
            "Cluster 34\n",
            "mu, ministr, vlády, vláda, premiér\n",
            "     0.064      0.070      0.106      0.146      0.455\n",
            "\n",
            "Cluster 35\n",
            "sociální, vládě, vlády, vláda, prohlášení\n",
            "     0.064      0.070      0.151      0.226      0.402\n",
            "\n",
            "Cluster 36\n",
            "poslanecké, ministr, předseda, vláda, vlády\n",
            "     0.061      0.079      0.113      0.179      0.348\n",
            "\n",
            "Cluster 37\n",
            "vládu, vládě, české, vlády, vláda\n",
            "     0.067      0.071      0.076      0.130      0.364\n",
            "\n",
            "Cluster 38\n",
            "českou, té, česká, české, národní\n",
            "     0.047      0.047      0.116      0.138      0.540\n",
            "\n",
            "Cluster 39\n",
            "systém, kraje, řízení, ministerstvo, dopravy\n",
            "     0.053      0.056      0.059      0.093      0.417\n",
            "\n",
            "Cluster 40\n",
            "problém, samozřejmě, teď, systému, systém\n",
            "     0.044      0.050      0.052      0.211      0.402\n",
            "\n",
            "Cluster 41\n",
            "teď, znamená, té, těch, samozřejmě\n",
            "     0.063      0.070      0.072      0.086      0.277\n",
            "\n",
            "Cluster 42\n",
            "těch, řešit, problém, vláda, řešení\n",
            "     0.064      0.083      0.108      0.122      0.378\n",
            "\n",
            "Cluster 43\n",
            "znamená, otázka, měli, řešit, problém\n",
            "     0.053      0.055      0.056      0.087      0.369\n",
            "\n",
            "Cluster 44\n",
            "vláda, rozvoj, evropské, programu, program\n",
            "     0.072      0.078      0.093      0.204      0.363\n",
            "\n",
            "Cluster 45\n",
            "finanční, programu, financování, prostředky, prostředků\n",
            "     0.058      0.065      0.077      0.217      0.246\n",
            "\n",
            "Cluster 46\n",
            "právní, školství, samozřejmě, dne, hlediska\n",
            "     0.068      0.069      0.071      0.167      0.325\n",
            "\n",
            "Cluster 47\n",
            "výboru, ministerstvo, novely, řízení, rozvoj\n",
            "     0.088      0.090      0.090      0.122      0.437\n",
            "\n",
            "Cluster 48\n",
            "těch, školství, práce, úrovni, financování\n",
            "     0.056      0.063      0.064      0.065      0.392\n",
            "\n",
            "Cluster 49\n",
            "ministryně, ministerstva, pane, financí, ministerstvo\n",
            "     0.057      0.063      0.064      0.109      0.294\n",
            "\n",
            "Cluster 50\n",
            "těch, samozřejmě, jakým, nějakým, způsobem\n",
            "     0.067      0.074      0.146      0.161      0.222\n",
            "\n",
            "Cluster 51\n",
            "ministerstvo, chtěl, zdravotní, samozřejmě, čili\n",
            "     0.061      0.067      0.077      0.096      0.353\n",
            "\n",
            "Cluster 52\n",
            "té, měl, úplně, teď, informace\n",
            "     0.066      0.073      0.073      0.095      0.390\n",
            "\n",
            "Cluster 53\n",
            "způsobem, těchto, samozřejmě, nicméně, podstatě\n",
            "     0.069      0.070      0.096      0.106      0.349\n",
            "\n",
            "Cluster 54\n",
            "zatím, situace, stále, těch, té\n",
            "     0.057      0.059      0.073      0.074      0.094\n",
            "\n",
            "Cluster 55\n",
            "samozřejmě, česká republika, republika, české, česká\n",
            "     0.083      0.085      0.086      0.092      0.099\n",
            "\n",
            "Cluster 56\n",
            "těch, znamená, podmínky, samozřejmě, firmy\n",
            "     0.062      0.063      0.074      0.077      0.123\n",
            "\n",
            "Cluster 57\n",
            "hnutí, těch, říká, teď, ministryně\n",
            "     0.055      0.066      0.068      0.069      0.516\n",
            "\n",
            "Cluster 58\n",
            "teď, těch, lidi, lidé, lidí\n",
            "     0.076      0.083      0.112      0.144      0.203\n",
            "\n",
            "Cluster 59\n",
            "samozřejmě, případě, těch, vláda, opatření\n",
            "     0.054      0.054      0.055      0.055      0.514\n",
            "\n",
            "Cluster 60\n",
            "opatření, vláda, dnů, stav, stavu\n",
            "     0.136      0.143      0.152      0.314      0.346\n",
            "\n",
            "Cluster 61\n",
            "stát, těch, vláda, peněz, peníze\n",
            "     0.068      0.071      0.071      0.083      0.378\n",
            "\n",
            "Cluster 62\n",
            "úplně, teď, zdravotnictví, té, těch\n",
            "     0.072      0.080      0.085      0.168      0.298\n",
            "\n",
            "Cluster 63\n",
            "říct, dneska, těch, úplně, potřeba\n",
            "     0.077      0.094      0.102      0.104      0.342\n",
            "\n",
            "Cluster 64\n",
            "té, dělat, řešit, chvíli, říct\n",
            "     0.069      0.076      0.097      0.116      0.144\n",
            "\n",
            "Cluster 65\n",
            "říct, té, těch, dneska, teď\n",
            "     0.079      0.080      0.093      0.119      0.126\n",
            "\n",
            "Cluster 66\n",
            "vláda, těch, dneska, dokonce, zemi\n",
            "     0.079      0.083      0.137      0.180      0.223\n",
            "\n",
            "Cluster 67\n",
            "let, teď, peníze, úplně, no\n",
            "     0.065      0.078      0.091      0.158      0.377\n",
            "\n",
            "Cluster 68\n",
            "no, teď, nevím, víte, názor\n",
            "     0.074      0.078      0.123      0.129      0.174\n",
            "\n",
            "Cluster 69\n",
            "ministryně, teď, té, těch, samozřejmě\n",
            "     0.063      0.068      0.072      0.081      0.088\n",
            "\n",
            "Cluster 70\n",
            "teď, těch, dneska, té, přece\n",
            "     0.068      0.070      0.080      0.101      0.290\n",
            "\n",
            "Cluster 71\n",
            "pravda, naprosto, teď, říkám, ministr\n",
            "     0.059      0.059      0.087      0.091      0.093\n",
            "\n",
            "Cluster 72\n",
            "strany, sociální, vláda, kolega, ods\n",
            "     0.051      0.055      0.066      0.079      0.454\n",
            "\n",
            "Cluster 73\n",
            "přece, lidí, pánové, dámy pánové, dámy\n",
            "     0.103      0.111      0.168      0.174      0.174\n",
            "\n",
            "Cluster 74\n",
            "české, republiky, pánové, dámy, dámy pánové\n",
            "     0.060      0.062      0.222      0.224      0.234\n",
            "\n",
            "Cluster 75\n",
            "vláda, vlády, vládě, strany, politické\n",
            "     0.110      0.117      0.149      0.159      0.218\n",
            "\n",
            "Cluster 76\n",
            "právo, návrh, poslanecké, poslanecké sněmovně, sněmovně\n",
            "     0.067      0.067      0.191      0.237      0.249\n",
            "\n",
            "Cluster 77\n",
            "veřejných, demokracie, ods, vládní, koalice\n",
            "     0.085      0.098      0.109      0.153      0.304\n",
            "\n",
            "Cluster 78\n",
            "vlády, zemědělství, věcí, ministra, ministr\n",
            "     0.086      0.093      0.124      0.209      0.267\n",
            "\n",
            "Cluster 79\n",
            "prostřednictvím, pane, pane předsedo, předsedo, předseda\n",
            "     0.092      0.099      0.138      0.141      0.191\n",
            "\n",
            "Cluster 80\n",
            "korun, vlády, vážený, vážený pane, pane\n",
            "     0.095      0.102      0.114      0.115      0.172\n",
            "\n",
            "Cluster 81\n",
            "té, těchto, státu, samozřejmě, společnosti\n",
            "     0.049      0.055      0.059      0.068      0.423\n",
            "\n",
            "Cluster 82\n",
            "vlády, české, bychom, naší, země\n",
            "     0.061      0.069      0.081      0.182      0.187\n",
            "\n",
            "Cluster 83\n",
            "samozřejmě, státní, roce, státu, stát\n",
            "     0.069      0.071      0.075      0.107      0.308\n",
            "\n",
            "Cluster 84\n",
            "letech, stát, návrh, čtení, let\n",
            "     0.056      0.059      0.085      0.086      0.236\n",
            "\n",
            "Cluster 85\n",
            "domnívám, samozřejmě, rád, chtěl, velice\n",
            "     0.056      0.063      0.067      0.084      0.347\n",
            "\n",
            "Cluster 86\n",
            "návrhu, části, chtěl, návrh, domnívám\n",
            "     0.065      0.066      0.073      0.095      0.438\n",
            "\n",
            "Cluster 87\n",
            "českou, bychom, vláda, vlády, stanovisko\n",
            "     0.081      0.096      0.138      0.147      0.439\n",
            "\n",
            "Cluster 88\n",
            "poslanecké, návrh, přesvědčen, zákonů, zákony\n",
            "     0.057      0.066      0.124      0.146      0.151\n",
            "\n",
            "Cluster 89\n",
            "dámy pánové, dámy, pánové, chtěl, návrh\n",
            "     0.051      0.052      0.056      0.057      0.066\n",
            "\n",
            "Cluster 90\n",
            "soud, veřejné, návrh, soudu, moci\n",
            "     0.079      0.081      0.099      0.104      0.378\n",
            "\n",
            "Cluster 91\n",
            "samozřejmě, výboru, návrh, návrhu, věci\n",
            "     0.067      0.067      0.080      0.080      0.085\n",
            "\n",
            "Cluster 92\n",
            "věci, země, bychom měli, měli, bychom\n",
            "     0.061      0.077      0.107      0.152      0.177\n",
            "\n",
            "Cluster 93\n",
            "samozřejmě, bychom, návrh, těch, věc\n",
            "     0.042      0.043      0.044      0.047      0.052\n",
            "\n",
            "Cluster 94\n",
            "věc, jednání, samozřejmě, poslanec, kolega\n",
            "     0.063      0.064      0.069      0.080      0.371\n",
            "\n",
            "Cluster 95\n",
            "návrh, znění, navrhuji, úplně, náklady\n",
            "     0.063      0.068      0.072      0.080      0.445\n",
            "\n",
            "Cluster 96\n",
            "české, pane, kolegyně, prostřednictvím, kolegové\n",
            "     0.057      0.067      0.072      0.072      0.077\n",
            "\n",
            "Cluster 97\n",
            "republiky, české, česká, česká republika, republika\n",
            "     0.064      0.072      0.238      0.249      0.253\n",
            "\n",
            "Cluster 98\n",
            "vláda, vlády, politiky, české, zahraniční\n",
            "     0.081      0.087      0.127      0.137      0.474\n",
            "\n",
            "Cluster 99\n",
            "situace, společnosti, rady, česká, české\n",
            "     0.056      0.064      0.084      0.159      0.425\n",
            "\n",
            "Cluster 100\n",
            "české republiky, republiky, republice, české republice, české\n",
            "     0.080      0.084      0.176      0.180      0.198\n",
            "\n",
            "Cluster 101\n",
            "evropské, právní, trhu, služby, služeb\n",
            "     0.078      0.094      0.114      0.116      0.527\n",
            "\n",
            "Cluster 102\n",
            "financování, české, návrh, služeb, služby\n",
            "     0.050      0.061      0.071      0.086      0.430\n",
            "\n",
            "Cluster 103\n",
            "ministra, ministerstva, ministerstvo, ministr, vnitra\n",
            "     0.073      0.078      0.085      0.091      0.433\n",
            "\n",
            "Cluster 104\n",
            "nějaké, samozřejmě, informace, vnitra, policie\n",
            "     0.062      0.064      0.089      0.131      0.236\n",
            "\n",
            "Cluster 105\n",
            "republiky, oblasti, české, činnost, činnosti\n",
            "     0.057      0.067      0.074      0.212      0.271\n",
            "\n",
            "Cluster 106\n",
            "vnitra, republiky, české, české republiky, policie\n",
            "     0.070      0.071      0.071      0.072      0.549\n",
            "\n",
            "Cluster 107\n",
            "ústavní, české republiky, české, parlamentu, republiky\n",
            "     0.127      0.143      0.154      0.156      0.217\n",
            "\n",
            "Cluster 108\n",
            "české republiky, zájem, české, republiky, občanů\n",
            "     0.129      0.131      0.133      0.141      0.234\n",
            "\n",
            "Cluster 109\n",
            "návrhu, návrh, české republiky, republiky, české\n",
            "     0.060      0.078      0.183      0.191      0.203\n",
            "\n",
            "Cluster 110\n",
            "republika, smlouvy, české, české republiky, republiky\n",
            "     0.130      0.137      0.212      0.223      0.238\n",
            "\n",
            "Cluster 111\n",
            "vláda, území, české, české republiky, republiky\n",
            "     0.080      0.095      0.292      0.304      0.327\n",
            "\n",
            "Cluster 112\n",
            "rady, číslo, výboru, usnesení, komise\n",
            "     0.113      0.117      0.184      0.291      0.443\n",
            "\n",
            "Cluster 113\n",
            "věci, poslanecké, sněmovny, české, komise\n",
            "     0.052      0.052      0.055      0.060      0.481\n",
            "\n",
            "Cluster 114\n",
            "komise, dne, poslanecké, sněmovny, poslanecké sněmovny\n",
            "     0.156      0.184      0.334      0.338      0.376\n",
            "\n",
            "Cluster 115\n",
            "návrh, jednání, poslanecké sněmovny, sněmovny, poslanecké\n",
            "     0.075      0.075      0.210      0.217      0.242\n",
            "\n",
            "Cluster 116\n",
            "poslanecká, sněmovny, poslanecké, sněmovna, usnesení\n",
            "     0.075      0.076      0.076      0.079      0.416\n",
            "\n",
            "Cluster 117\n",
            "poslanecké, vláda, sněmovna, poslanecká, poslanecká sněmovna\n",
            "     0.099      0.105      0.230      0.240      0.244\n",
            "\n",
            "Cluster 118\n",
            "poslanecká, české republiky, české, republiky, usnesení\n",
            "     0.158      0.167      0.168      0.179      0.260\n",
            "\n",
            "Cluster 119\n",
            "jednání, hlasování, číslo, schůze, hodin\n",
            "     0.079      0.083      0.091      0.119      0.494\n",
            "\n",
            "Cluster 120\n",
            "řádu, sněmovny, body, programu, schůze\n",
            "     0.086      0.094      0.101      0.108      0.383\n",
            "\n",
            "Cluster 121\n",
            "navrhuji, vlády, zařazení, bodu, bod\n",
            "     0.094      0.105      0.193      0.196      0.216\n",
            "\n",
            "Cluster 122\n",
            "říct, včetně, chtěl, body, bod\n",
            "     0.060      0.065      0.067      0.078      0.442\n",
            "\n",
            "Cluster 123\n",
            "návrh, sněmovní tisk, tisku, sněmovní, tisk\n",
            "     0.107      0.116      0.139      0.156      0.206\n",
            "\n",
            "Cluster 124\n",
            "návrh, sněmovní tisk, sněmovní, tisk, bod\n",
            "     0.158      0.218      0.222      0.249      0.273\n",
            "\n",
            "Cluster 125\n",
            "návrhy, návrhu, znění, návrh, senátu\n",
            "     0.075      0.090      0.106      0.140      0.418\n",
            "\n",
            "Cluster 126\n",
            "poslanecké sněmovny, usnesení, výbor, poslanecké, výboru\n",
            "     0.149      0.155      0.168      0.184      0.205\n",
            "\n",
            "Cluster 127\n",
            "návrh, právní, výboru, usnesení, výbor\n",
            "     0.126      0.162      0.168      0.168      0.211\n",
            "\n",
            "Cluster 128\n",
            "návrh, projednání, usnesení, výboru, výbor\n",
            "     0.091      0.091      0.103      0.245      0.382\n",
            "\n",
            "Cluster 129\n",
            "kraje, sociální, služby, služeb, sociálních\n",
            "     0.107      0.138      0.141      0.345      0.428\n",
            "\n",
            "Cluster 130\n",
            "úřadu, zaměstnanců, pracovní, práci, práce\n",
            "     0.079      0.086      0.095      0.110      0.549\n",
            "\n",
            "Cluster 131\n",
            "ministerstvo, sociální, věcí, práce, sociálních\n",
            "     0.083      0.094      0.213      0.279      0.415\n",
            "\n",
            "Cluster 132\n",
            "návrh, samozřejmě, věcí, sociálních, práce\n",
            "     0.067      0.079      0.118      0.150      0.281\n",
            "\n",
            "Cluster 133\n",
            "obce, vláda, návrh, peníze, kraje\n",
            "     0.054      0.057      0.064      0.078      0.488\n",
            "\n",
            "Cluster 134\n",
            "kraje, návrh, samozřejmě, obcí, obce\n",
            "     0.047      0.059      0.064      0.171      0.445\n",
            "\n",
            "Cluster 135\n",
            "daně, příjmů, obce, daní, obcí\n",
            "     0.145      0.152      0.262      0.296      0.428\n",
            "\n",
            "Cluster 136\n",
            "ministerstva, prostředí, území, obce, obcí\n",
            "     0.056      0.067      0.110      0.162      0.480\n",
            "\n",
            "Cluster 137\n",
            "korun, snížení, návrh, daní, daně\n",
            "     0.057      0.059      0.074      0.132      0.661\n",
            "\n",
            "Cluster 138\n",
            "příjmů, korun, snížení, daní, daně\n",
            "     0.081      0.089      0.094      0.108      0.405\n",
            "\n",
            "Cluster 139\n",
            "ministra, ministerstva, ministerstvo, ministr, financí\n",
            "     0.080      0.082      0.119      0.129      0.385\n",
            "\n",
            "Cluster 140\n",
            "daně, financí, ministryně, správy, finanční\n",
            "     0.087      0.098      0.109      0.188      0.410\n",
            "\n",
            "Cluster 141\n",
            "obce, návrh, pane, daně, daní\n",
            "     0.058      0.067      0.069      0.119      0.457\n",
            "\n",
            "Cluster 142\n",
            "mld, daně, návrh, korun, příjmů\n",
            "     0.084      0.102      0.108      0.121      0.475\n",
            "\n",
            "Cluster 143\n",
            "korun, příjmů, daní, daně, financí\n",
            "     0.079      0.085      0.114      0.226      0.230\n",
            "\n",
            "Cluster 144\n",
            "senátu, návrh, soudu, republiky, ústavní\n",
            "     0.067      0.071      0.076      0.077      0.429\n",
            "\n",
            "Cluster 145\n",
            "návrh, české, práva, soud, soudu\n",
            "     0.069      0.072      0.082      0.162      0.422\n",
            "\n",
            "Cluster 146\n",
            "odst, ustanovení, soudu, ústavní, soud\n",
            "     0.052      0.059      0.173      0.212      0.397\n",
            "\n",
            "Cluster 147\n",
            "soud, řádu, soudu, návrh, řízení\n",
            "     0.051      0.051      0.065      0.069      0.518\n",
            "\n",
            "Cluster 148\n",
            "řádu, soud, návrh, řízení, rozhodnutí\n",
            "     0.076      0.085      0.104      0.111      0.405\n",
            "\n",
            "Cluster 149\n",
            "soud, právní, věci, soudu, řízení\n",
            "     0.073      0.074      0.076      0.094      0.227\n",
            "\n",
            "Cluster 150\n",
            "řízení, právo, právní, práv, práva\n",
            "     0.076      0.083      0.100      0.147      0.436\n",
            "\n",
            "Cluster 151\n",
            "kolega, stát, práv, práva, právo\n",
            "     0.065      0.073      0.094      0.109      0.529\n",
            "\n",
            "Cluster 152\n",
            "české, ústavní, práva, právo, práv\n",
            "     0.047      0.051      0.092      0.103      0.395\n",
            "\n",
            "Cluster 153\n",
            "opatření, správy, státní, úřadu, úřad\n",
            "     0.055      0.068      0.073      0.111      0.449\n",
            "\n",
            "Cluster 154\n",
            "sb, senátu, návrh, úřad, úřadu\n",
            "     0.053      0.059      0.059      0.180      0.491\n",
            "\n",
            "Cluster 155\n",
            "finanční, řízení, návrh, správy, veřejné\n",
            "     0.090      0.103      0.159      0.198      0.469\n",
            "\n",
            "Cluster 156\n",
            "vláda, úřadu, veřejné, státní, správy\n",
            "     0.059      0.084      0.172      0.189      0.389\n",
            "\n",
            "Cluster 157\n",
            "podporu, korun, veřejné, státní, podpory\n",
            "     0.077      0.090      0.096      0.222      0.380\n",
            "\n",
            "Cluster 158\n",
            "návrh, správy, státní, státního, státních\n",
            "     0.068      0.085      0.145      0.193      0.344\n",
            "\n",
            "Cluster 159\n",
            "návrh, let, služby, správy, státní\n",
            "     0.063      0.063      0.077      0.120      0.486\n",
            "\n",
            "Cluster 160\n",
            "páni, páni poslanci, poslankyně vážení, poslankyně, vážené poslankyně\n",
            "     0.120      0.125      0.130      0.134      0.149\n",
            "\n",
            "Cluster 161\n",
            "návrh, práva, právo, úprava, právní\n",
            "     0.061      0.103      0.104      0.105      0.389\n",
            "\n",
            "Cluster 162\n",
            "návrhu, návrh, úpravy, úprava, právní\n",
            "     0.085      0.099      0.166      0.199      0.280\n",
            "\n",
            "Cluster 163\n",
            "návrhu, návrh, názoru, mého, mého názoru\n",
            "     0.083      0.101      0.198      0.216      0.218\n",
            "\n",
            "Cluster 164\n",
            "chtěl, návrhu, pozměňovací návrh, pozměňovací, návrh\n",
            "     0.059      0.083      0.128      0.142      0.198\n",
            "\n",
            "Cluster 165\n",
            "poslance, vláda, vládní, návrhu, návrh\n",
            "     0.044      0.055      0.084      0.147      0.294\n",
            "\n",
            "Cluster 166\n",
            "novely, návrh, návrhu, řízení, řádu\n",
            "     0.070      0.090      0.098      0.099      0.340\n",
            "\n",
            "Cluster 167\n",
            "výši, osob, návrhu, návrh, oblasti\n",
            "     0.054      0.064      0.069      0.083      0.096\n",
            "\n",
            "Cluster 168\n",
            "včetně, souladu, pojištění, odst, systému\n",
            "     0.080      0.120      0.136      0.162      0.271\n",
            "\n",
            "Cluster 169\n",
            "české, právní, práci, sb, předpisů\n",
            "     0.083      0.085      0.102      0.107      0.157\n",
            "\n",
            "Cluster 170\n",
            "znění, návrh, osoby, sb, číslo\n",
            "     0.077      0.079      0.092      0.144      0.460\n",
            "\n",
            "Cluster 171\n",
            "prostředí, návrhu, jedná, návrh, povinnost\n",
            "     0.066      0.067      0.067      0.070      0.403\n",
            "\n",
            "Cluster 172\n",
            "pracovních, případech, návrh, dobu, dnů\n",
            "     0.070      0.072      0.098      0.103      0.519\n",
            "\n",
            "Cluster 173\n",
            "návrhy, navrhuji, návrhů, návrh, návrhu\n",
            "     0.101      0.121      0.139      0.139      0.141\n",
            "\n",
            "Cluster 174\n",
            "stavu, rady, návrh, vlády, legislativní\n",
            "     0.077      0.082      0.093      0.121      0.521\n",
            "\n",
            "Cluster 175\n",
            "otázka, udělat, senátu, čtení, druhého\n",
            "     0.053      0.066      0.067      0.282      0.284\n",
            "\n",
            "Cluster 176\n",
            "výbor, návrh, projednávání, čtení, výboru\n",
            "     0.081      0.084      0.096      0.103      0.253\n",
            "\n",
            "Cluster 177\n",
            "sb, evropské, odst, novely, novela\n",
            "     0.080      0.082      0.082      0.159      0.440\n",
            "\n",
            "Cluster 178\n",
            "výboru, tzv, novela, návrh, novely\n",
            "     0.081      0.081      0.109      0.114      0.298\n",
            "\n",
            "Cluster 179\n",
            "návrh, povinnost, návrhu, výbor, ustanovení\n",
            "     0.072      0.077      0.096      0.105      0.365\n",
            "\n",
            "Cluster 180\n",
            "čtení, sb, novely, návrhu, návrh\n",
            "     0.091      0.092      0.105      0.124      0.172\n",
            "\n",
            "Cluster 181\n",
            "sociálních, osoby, korun, péče, péči\n",
            "     0.114      0.133      0.135      0.152      0.502\n",
            "\n",
            "Cluster 182\n",
            "sociálních, osob, sociální, osoby, pomoci\n",
            "     0.088      0.113      0.116      0.196      0.493\n",
            "\n",
            "Cluster 183\n",
            "návrhu, české, návrh, osob, osoby\n",
            "     0.055      0.056      0.077      0.256      0.263\n",
            "\n",
            "Cluster 184\n",
            "sociálních, státní, podpory, práce, sociální\n",
            "     0.091      0.092      0.114      0.115      0.367\n",
            "\n",
            "Cluster 185\n",
            "let, roku, těch, sociální, zvýšení\n",
            "     0.095      0.095      0.096      0.098      0.273\n",
            "\n",
            "Cluster 186\n",
            "znamená, trhu, práce, pracovních, pracovní\n",
            "     0.094      0.102      0.164      0.175      0.203\n",
            "\n",
            "Cluster 187\n",
            "těchto, státních, české, korun, zaměstnanců\n",
            "     0.052      0.086      0.088      0.139      0.531\n",
            "\n",
            "Cluster 188\n",
            "dobu, odst, doby, práce, pracovní\n",
            "     0.133      0.145      0.163      0.225      0.481\n",
            "\n",
            "Cluster 189\n",
            "pracovní, dobu, práce, doby, zaměstnanců\n",
            "     0.106      0.118      0.119      0.145      0.171\n",
            "\n",
            "Cluster 190\n",
            "financí, návrh, řízení, veřejné, veřejných\n",
            "     0.065      0.066      0.075      0.100      0.424\n",
            "\n",
            "Cluster 191\n",
            "podmínky, evropské unie, evropské, unie, trhu\n",
            "     0.064      0.068      0.087      0.091      0.568\n",
            "\n",
            "Cluster 192\n",
            "korun, roku, kč, rok, roce\n",
            "     0.088      0.093      0.096      0.131      0.395\n",
            "\n",
            "Cluster 193\n",
            "rok, politiky, období, roce, roku\n",
            "     0.067      0.085      0.119      0.131      0.203\n",
            "\n",
            "Cluster 194\n",
            "republiky, české, návrh, státu, majetku\n",
            "     0.053      0.054      0.062      0.087      0.498\n",
            "\n",
            "Cluster 195\n",
            "oblasti, návrh, české, řízení, čr\n",
            "     0.043      0.045      0.047      0.048      0.444\n",
            "\n",
            "Cluster 196\n",
            "práva, ustanovení, unie, evropské, smlouvy\n",
            "     0.053      0.054      0.057      0.079      0.406\n",
            "\n",
            "Cluster 197\n",
            "návrh, stát, případě, národní, území\n",
            "     0.047      0.048      0.051      0.055      0.426\n",
            "\n",
            "Cluster 198\n",
            "české, osob, smlouvy, státu, území\n",
            "     0.124      0.134      0.166      0.198      0.246\n",
            "\n",
            "Cluster 199\n",
            "správy, území, sb, kraje, státu\n",
            "     0.089      0.090      0.094      0.108      0.251\n",
            "\n",
            "Cluster 200\n",
            "unie, evropské, české, roce, zemědělství\n",
            "     0.047      0.055      0.056      0.059      0.521\n",
            "\n",
            "Cluster 201\n",
            "české, rozvoj, návrh, samozřejmě, bydlení\n",
            "     0.045      0.053      0.054      0.056      0.723\n",
            "\n",
            "Cluster 202\n",
            "sociálních, pomoci, práce, sociální, bydlení\n",
            "     0.084      0.091      0.104      0.144      0.441\n",
            "\n",
            "Cluster 203\n",
            "počet, komise, druhého, fondu, rady\n",
            "     0.123      0.145      0.173      0.321      0.449\n",
            "\n",
            "Cluster 204\n",
            "společnosti, dne, rozhodnutí, české, rady\n",
            "     0.046      0.047      0.071      0.099      0.515\n",
            "\n",
            "Cluster 205\n",
            "státní, rozpočtu, státního, fondu, bydlení\n",
            "     0.080      0.118      0.165      0.437      0.504\n",
            "\n",
            "Cluster 206\n",
            "prostředků, rozpočet, státního, rozpočtu, fondu\n",
            "     0.143      0.171      0.198      0.247      0.378\n",
            "\n",
            "Cluster 207\n",
            "chtěl, sb, návrh, majetku, fondu\n",
            "     0.053      0.054      0.063      0.127      0.488\n",
            "\n",
            "Cluster 208\n",
            "pozměňovací návrh, návrh, pozměňovací návrhy, návrhy, pozměňovací\n",
            "     0.093      0.110      0.257      0.275      0.290\n",
            "\n",
            "Cluster 209\n",
            "výboru, návrhu, návrh, pozměňovací návrh, pozměňovací\n",
            "     0.064      0.088      0.217      0.296      0.315\n",
            "\n",
            "Cluster 210\n",
            "návrh, předpisů, odst, znění, sb\n",
            "     0.069      0.109      0.126      0.172      0.517\n",
            "\n",
            "Cluster 211\n",
            "návrh, slova, pozměňovací návrh, pozměňovací, odst\n",
            "     0.148      0.151      0.239      0.244      0.359\n",
            "\n",
            "Cluster 212\n",
            "sb, slovo, bodu, slova, odst\n",
            "     0.102      0.105      0.120      0.374      0.483\n",
            "\n",
            "Cluster 213\n",
            "slova, navrhuji, znění, ustanovení, odst\n",
            "     0.083      0.092      0.096      0.123      0.522\n",
            "\n",
            "Cluster 214\n",
            "korun, práce, výši, pracovní, pojištění\n",
            "     0.114      0.115      0.127      0.175      0.335\n",
            "\n",
            "Cluster 215\n",
            "návrhu, systému, návrh, zdravotní, pojištění\n",
            "     0.053      0.054      0.068      0.107      0.477\n",
            "\n",
            "Cluster 216\n",
            "ministerstva, zdravotní, zařízení, ministerstvo, zdravotnictví\n",
            "     0.055      0.059      0.061      0.096      0.478\n",
            "\n",
            "Cluster 217\n",
            "právní, zdravotní, kraje, péči, péče\n",
            "     0.062      0.082      0.097      0.110      0.505\n",
            "\n",
            "Cluster 218\n",
            "péči, zdravotnictví, zařízení, zdravotní, péče\n",
            "     0.188      0.191      0.191      0.342      0.369\n",
            "\n",
            "Cluster 219\n",
            "fondu, pojištění, péče, zdravotnictví, zdravotní\n",
            "     0.087      0.091      0.102      0.120      0.527\n",
            "\n",
            "Cluster 220\n",
            "miliard, péči, péče, zdravotní, zdravotnictví\n",
            "     0.145      0.149      0.209      0.269      0.416\n",
            "\n",
            "Cluster 221\n",
            "péče, péči, pojištění, zdravotní, zdravotnictví\n",
            "     0.081      0.082      0.087      0.188      0.237\n",
            "\n",
            "Cluster 222\n",
            "ústavní, děti, dětí, péče, zařízení\n",
            "     0.191      0.243      0.248      0.306      0.380\n",
            "\n",
            "Cluster 223\n",
            "kraje, samozřejmě, návrhu, návrh, zařízení\n",
            "     0.057      0.057      0.062      0.093      0.442\n",
            "\n",
            "Cluster 224\n",
            "vzdělávání, návrh, péče, dětí, děti\n",
            "     0.067      0.067      0.097      0.106      0.451\n",
            "\n",
            "Cluster 225\n",
            "usnesení, výboru, majetku, fondu, dětí\n",
            "     0.084      0.104      0.117      0.383      0.567\n",
            "\n",
            "Cluster 226\n",
            "právní, právo, péče, děti, dětí\n",
            "     0.052      0.058      0.068      0.228      0.456\n",
            "\n",
            "Cluster 227\n",
            "návrh, školy, škol, školství, vzdělávání\n",
            "     0.059      0.103      0.120      0.135      0.496\n",
            "\n",
            "Cluster 228\n",
            "ministerstva, ministerstvo, školy, škol, školství\n",
            "     0.075      0.102      0.114      0.143      0.485\n",
            "\n",
            "Cluster 229\n",
            "školství, škol, dětí, děti, školy\n",
            "     0.122      0.132      0.163      0.172      0.361\n",
            "\n",
            "Cluster 230\n",
            "financování, vzdělávání, školství, školy, škol\n",
            "     0.060      0.147      0.194      0.312      0.373\n",
            "\n",
            "Cluster 231\n",
            "pořadové číslo, hlasování pořadové, návrhem, hlasování, bod\n",
            "     0.272      0.274      0.279      0.315      0.316\n",
            "\n",
            "Cluster 232\n",
            "hlasování pořadové, pořadové, pořadové číslo, bod, hlasování\n",
            "     0.223      0.226      0.227      0.233      0.386\n",
            "\n",
            "Cluster 233\n",
            "číslo, hlasování, pořadové číslo, pořadové, hlasování pořadové\n",
            "     0.300      0.334      0.350      0.350      0.351\n",
            "\n",
            "Cluster 234\n",
            "hlasování pořadové, pořadové, pořadové číslo, ruku, hlasování\n",
            "     0.260      0.264      0.265      0.271      0.496\n",
            "\n",
            "Cluster 235\n",
            "návrh, hlasování pořadové, pořadové, pořadové číslo, hlasování\n",
            "     0.229      0.299      0.299      0.300      0.400\n",
            "\n",
            "Cluster 236\n",
            "zahajuji hlasování, zahajuji, návrh, bodu, hlasování\n",
            "     0.228      0.244      0.256      0.262      0.356\n",
            "\n",
            "Cluster 237\n",
            "číslo, zahajuji, zahajuji hlasování, bod, hlasování\n",
            "     0.219      0.230      0.249      0.282      0.474\n",
            "\n",
            "Cluster 238\n",
            "návrh, hlasovat, usnesení, jednání, hlasování\n",
            "     0.074      0.090      0.095      0.106      0.563\n",
            "\n",
            "Cluster 239\n",
            "poslance, poté, bychom, hlasování, hlasovat\n",
            "     0.129      0.135      0.187      0.269      0.281\n",
            "\n",
            "Cluster 240\n",
            "předpisů, sb, usnesení, hlasování, znění\n",
            "     0.211      0.232      0.279      0.292      0.346\n",
            "\n",
            "Cluster 241\n",
            "zahajuji hlasování, projednání, návrh, hlasování, výboru\n",
            "     0.235      0.288      0.329      0.382      0.424\n",
            "\n",
            "Cluster 242\n",
            "zahajuji hlasování, číslo, zahajuji, usnesení, hlasování\n",
            "     0.166      0.168      0.178      0.229      0.366\n",
            "\n",
            "Cluster 243\n",
            "přijat, návrhu, návrh přijat, hlasování, návrh\n",
            "     0.144      0.159      0.165      0.279      0.312\n",
            "\n",
            "Cluster 244\n",
            "poslankyně, zdravotní, pracovní, poslanec, důvody\n",
            "     0.159      0.165      0.343      0.450      0.671\n",
            "\n",
            "Cluster 245\n",
            "zahraniční, hodin, zdravotní, pracovní, důvody\n",
            "     0.128      0.175      0.184      0.386      0.721\n",
            "\n",
            "Cluster 246\n",
            "poslankyně, hodin, poslanec, pracovních, důvodů\n",
            "     0.129      0.186      0.428      0.449      0.545\n",
            "\n",
            "Cluster 247\n",
            "zahraniční, důvodu, hodin, pracovních, důvodů\n",
            "     0.154      0.169      0.182      0.457      0.644\n",
            "\n",
            "Cluster 248\n",
            "poslanecké sněmovny, hlasování, číslo, poslanec, schůze\n",
            "     0.159      0.182      0.192      0.274      0.305\n",
            "\n",
            "Cluster 249\n",
            "zahraniční, body, poslankyně, schůze, poslanec\n",
            "     0.103      0.116      0.123      0.138      0.633\n",
            "\n",
            "Cluster 250\n",
            "poslanec, jednání, body, důvody, schůze\n",
            "     0.163      0.167      0.200      0.208      0.225\n"
          ]
        }
      ]
    },
    {
      "cell_type": "markdown",
      "source": [
        "### Be carefull those tfidf numbers are in opposite direction"
      ],
      "metadata": {
        "id": "xpYVSVAdkVoZ"
      }
    },
    {
      "cell_type": "code",
      "source": [
        "df_250 = pd.DataFrame(tfidf_vector.todense()).groupby(clusters_250).mean()"
      ],
      "metadata": {
        "id": "NepLs_NWem3z"
      },
      "execution_count": 137,
      "outputs": []
    },
    {
      "cell_type": "code",
      "source": [
        "print(df_250)"
      ],
      "metadata": {
        "colab": {
          "base_uri": "https://localhost:8080/"
        },
        "id": "UvWc65Akbe4i",
        "outputId": "507e32a0-8e57-4231-889e-016165ba774a"
      },
      "execution_count": 138,
      "outputs": [
        {
          "output_type": "stream",
          "name": "stdout",
          "text": [
            "          0         1         2         3         4         5         6    \\\n",
            "1    0.001673  0.004672  0.000000  0.020013  0.002682  0.015686  0.004782   \n",
            "2    0.018204  0.006078  0.000983  0.024559  0.002568  0.002862  0.013010   \n",
            "3    0.000000  0.008399  0.000000  0.004530  0.000000  0.072050  0.000000   \n",
            "4    0.000677  0.006802  0.001738  0.006124  0.005046  0.008863  0.004572   \n",
            "5    0.011874  0.003748  0.000000  0.004467  0.006619  0.000000  0.000000   \n",
            "..        ...       ...       ...       ...       ...       ...       ...   \n",
            "246  0.048252  0.000992  0.064521  0.025529  0.009675  0.000000  0.000000   \n",
            "247  0.044337  0.012368  0.068883  0.022626  0.012765  0.000000  0.000000   \n",
            "248  0.087661  0.029612  0.039886  0.024500  0.005482  0.000000  0.000675   \n",
            "249  0.049912  0.053103  0.116133  0.036838  0.007873  0.000000  0.000000   \n",
            "250  0.139226  0.068738  0.200038  0.042200  0.012324  0.000000  0.001896   \n",
            "\n",
            "          7         8         9    ...       490       491       492  \\\n",
            "1    0.007821  0.004930  0.008228  ...  0.007868  0.009658  0.008732   \n",
            "2    0.004741  0.002770  0.005537  ...  0.004712  0.000592  0.005365   \n",
            "3    0.009654  0.003030  0.002250  ...  0.000000  0.002795  0.000000   \n",
            "4    0.001933  0.005090  0.006758  ...  0.000000  0.003865  0.008366   \n",
            "5    0.000000  0.000000  0.012491  ...  0.000000  0.000000  0.003877   \n",
            "..        ...       ...       ...  ...       ...       ...       ...   \n",
            "246  0.004089  0.000000  0.001534  ...  0.000000  0.001332  0.000000   \n",
            "247  0.000574  0.000843  0.000000  ...  0.000000  0.000000  0.000000   \n",
            "248  0.003972  0.000000  0.002563  ...  0.000000  0.000000  0.000000   \n",
            "249  0.007770  0.004572  0.004464  ...  0.000000  0.009474  0.008944   \n",
            "250  0.000000  0.000000  0.000000  ...  0.000000  0.000000  0.000000   \n",
            "\n",
            "          493       494       495       496       497       498       499  \n",
            "1    0.006689  0.011438  0.015763  0.029527  0.021838  0.007144  0.005704  \n",
            "2    0.004890  0.013576  0.000000  0.005406  0.000000  0.010734  0.004254  \n",
            "3    0.000000  0.002084  0.000000  0.000000  0.000000  0.000000  0.000000  \n",
            "4    0.002260  0.004326  0.008043  0.012390  0.002269  0.000000  0.000000  \n",
            "5    0.010583  0.012893  0.003583  0.003563  0.007344  0.004167  0.004343  \n",
            "..        ...       ...       ...       ...       ...       ...       ...  \n",
            "246  0.000000  0.000000  0.000000  0.000000  0.000000  0.011822  0.012324  \n",
            "247  0.000000  0.000000  0.000000  0.000000  0.000000  0.000000  0.000000  \n",
            "248  0.000000  0.000000  0.000000  0.000000  0.000000  0.000000  0.000000  \n",
            "249  0.000000  0.000000  0.000000  0.000000  0.000000  0.000000  0.000000  \n",
            "250  0.000000  0.000000  0.003178  0.000000  0.000000  0.018452  0.019234  \n",
            "\n",
            "[250 rows x 500 columns]\n"
          ]
        }
      ]
    },
    {
      "cell_type": "code",
      "source": [
        "df_250.loc[1,1]"
      ],
      "metadata": {
        "colab": {
          "base_uri": "https://localhost:8080/"
        },
        "id": "dSO4QeeXjOxM",
        "outputId": "325bf1be-14d2-4690-e4d6-1a911405e44a"
      },
      "execution_count": 139,
      "outputs": [
        {
          "output_type": "execute_result",
          "data": {
            "text/plain": [
              "0.004671910469932521"
            ]
          },
          "metadata": {},
          "execution_count": 139
        }
      ]
    },
    {
      "cell_type": "markdown",
      "source": [
        "## For first 5 clusters"
      ],
      "metadata": {
        "id": "GQWfvfDOdbea"
      }
    },
    {
      "cell_type": "code",
      "source": [
        "num_clusters = 5\n",
        "#link_mat = fcluster(distance_matrix, t = 100, criterion = 'maxclust', depth = 8)\n",
        "clusters_5 = fcluster(distance_matrix, t = num_clusters, criterion = 'maxclust')"
      ],
      "metadata": {
        "id": "nBNaIGvUbe1p"
      },
      "execution_count": 140,
      "outputs": []
    },
    {
      "cell_type": "code",
      "source": [
        "get_top_keywords(tfidf_vector, clusters_5, tfidf_vectorizer.get_feature_names_out(), 10)"
      ],
      "metadata": {
        "colab": {
          "base_uri": "https://localhost:8080/"
        },
        "id": "7iq3zCycdPQy",
        "outputId": "bea35770-53f6-402c-effb-d55eec7cad8d"
      },
      "execution_count": 141,
      "outputs": [
        {
          "output_type": "stream",
          "name": "stdout",
          "text": [
            "\n",
            "Cluster 1\n",
            "vláda, rozpočet, miliard, rok, státního rozpočtu, kč, státního, mld, korun, rozpočtu\n",
            "     0.067      0.076      0.080      0.082      0.088      0.092      0.094      0.121      0.135      0.154\n",
            "\n",
            "Cluster 2\n",
            "republika, česká, zemí, komise, české republiky, republiky, české, evropské unie, unie, evropské\n",
            "     0.051      0.051      0.056      0.056      0.076      0.079      0.097      0.221      0.251      0.302\n",
            "\n",
            "Cluster 3\n",
            "té, pane, republiky, těch, vlády, návrhu, vláda, samozřejmě, české, návrh\n",
            "     0.031      0.032      0.033      0.034      0.035      0.038      0.040      0.042      0.048      0.060\n",
            "\n",
            "Cluster 4\n",
            "návrh přijat, bod, zahajuji hlasování, zahajuji, hlasování pořadové, pořadové číslo, pořadové, číslo, návrh, hlasování\n",
            "     0.133      0.136      0.139      0.139      0.163      0.164      0.164      0.187      0.190      0.376\n",
            "\n",
            "Cluster 5\n",
            "číslo, poslankyně, zahraniční, hodin, pracovní, pracovních, schůze, důvodů, důvody, poslanec\n",
            "     0.090      0.101      0.105      0.110      0.120      0.133      0.171      0.182      0.234      0.237\n"
          ]
        },
        {
          "output_type": "stream",
          "name": "stderr",
          "text": [
            "/usr/local/lib/python3.7/dist-packages/sklearn/utils/deprecation.py:87: FutureWarning: Function get_feature_names is deprecated; get_feature_names is deprecated in 1.0 and will be removed in 1.2. Please use get_feature_names_out instead.\n",
            "  warnings.warn(msg, category=FutureWarning)\n"
          ]
        }
      ]
    },
    {
      "cell_type": "markdown",
      "source": [
        "6 clusters"
      ],
      "metadata": {
        "id": "OzVcWbMDd3Uy"
      }
    },
    {
      "cell_type": "code",
      "source": [
        "num_clusters = 6\n",
        "#link_mat = fcluster(distance_matrix, t = 100, criterion = 'maxclust', depth = 8)\n",
        "clusters_6 = fcluster(distance_matrix, t = num_clusters, criterion = 'maxclust')"
      ],
      "metadata": {
        "id": "cZ7YneLqdPNW"
      },
      "execution_count": 142,
      "outputs": []
    },
    {
      "cell_type": "code",
      "source": [
        "get_top_keywords(tfidf_vector, clusters_6, tfidf_vectorizer.get_feature_names_out(), 10)"
      ],
      "metadata": {
        "colab": {
          "base_uri": "https://localhost:8080/"
        },
        "id": "41OiEQxGd22q",
        "outputId": "8a3c01a6-98a6-458b-c60a-2a7e01a9a964"
      },
      "execution_count": 143,
      "outputs": [
        {
          "output_type": "stream",
          "name": "stdout",
          "text": [
            "\n",
            "Cluster 1\n",
            "vláda, rozpočet, miliard, rok, státního rozpočtu, kč, státního, mld, korun, rozpočtu\n",
            "     0.067      0.076      0.080      0.082      0.088      0.092      0.094      0.121      0.135      0.154\n",
            "\n",
            "Cluster 2\n",
            "republika, česká, zemí, komise, české republiky, republiky, české, evropské unie, unie, evropské\n",
            "     0.051      0.051      0.056      0.056      0.076      0.079      0.097      0.221      0.251      0.302\n",
            "\n",
            "Cluster 3\n",
            "pane, té, těch, republiky, návrhu, vlády, vláda, samozřejmě, české, návrh\n",
            "     0.032      0.033      0.036      0.036      0.037      0.037      0.043      0.043      0.051      0.057\n",
            "\n",
            "Cluster 4\n",
            "školství, pozměňovací návrh, školy, péče, pojištění, zdravotní, odst, návrh, pozměňovací, zdravotnictví\n",
            "     0.058      0.059      0.059      0.061      0.062      0.065      0.068      0.076      0.077      0.080\n",
            "\n",
            "Cluster 5\n",
            "návrh přijat, bod, zahajuji hlasování, zahajuji, hlasování pořadové, pořadové číslo, pořadové, číslo, návrh, hlasování\n",
            "     0.133      0.136      0.139      0.139      0.163      0.164      0.164      0.187      0.190      0.376\n",
            "\n",
            "Cluster 6\n",
            "číslo, poslankyně, zahraniční, hodin, pracovní, pracovních, schůze, důvodů, důvody, poslanec\n",
            "     0.090      0.101      0.105      0.110      0.120      0.133      0.171      0.182      0.234      0.237\n"
          ]
        }
      ]
    },
    {
      "cell_type": "markdown",
      "source": [
        "Cluster 3 was split into cluster 3 and 4 above."
      ],
      "metadata": {
        "id": "vRB_SVNxqIFu"
      }
    },
    {
      "cell_type": "code",
      "source": [],
      "metadata": {
        "id": "MqD8B5Dwd2zP"
      },
      "execution_count": 143,
      "outputs": []
    },
    {
      "cell_type": "code",
      "source": [],
      "metadata": {
        "id": "iccgE8tPd2Xe"
      },
      "execution_count": 143,
      "outputs": []
    },
    {
      "cell_type": "markdown",
      "source": [
        "## Uninteresting rest"
      ],
      "metadata": {
        "id": "DCkKAaQHpTvH"
      }
    },
    {
      "cell_type": "markdown",
      "source": [
        "### K-means"
      ],
      "metadata": {
        "id": "ZbN_jW2N1lvB"
      }
    },
    {
      "cell_type": "code",
      "source": [
        "from sklearn.cluster import KMeans\n",
        "\n",
        "num_clusters = 5\n",
        "\n",
        "km = KMeans(n_clusters=num_clusters)\n",
        "\n",
        "km.fit(tfidf_vector)\n",
        "\n",
        "clusters = km.labels_.tolist()"
      ],
      "metadata": {
        "id": "E2VGbeWF0tlb"
      },
      "execution_count": 144,
      "outputs": []
    },
    {
      "cell_type": "markdown",
      "source": [
        "### Saving and loading K-mean model, NOT WORKING NOW..."
      ],
      "metadata": {
        "id": "GD6DwKpY1oQ1"
      }
    },
    {
      "cell_type": "code",
      "source": [
        "test_data['cluster'] = clusters"
      ],
      "metadata": {
        "id": "iV4OM2PZ1Eyo"
      },
      "execution_count": 145,
      "outputs": []
    },
    {
      "cell_type": "code",
      "source": [
        "test_data.head()"
      ],
      "metadata": {
        "colab": {
          "base_uri": "https://localhost:8080/",
          "height": 600
        },
        "id": "-jb90AQN1Evz",
        "outputId": "4ca766fa-b69d-4040-fb17-6d58f42d4b71"
      },
      "execution_count": 146,
      "outputs": [
        {
          "output_type": "execute_result",
          "data": {
            "text/plain": [
              "                   Id  obdobi                      datum  schuze  \\\n",
              "3869    2017_91_00052    2017  2021-03-23T00:00:00+01:00      91   \n",
              "2725   2017_111_01238    2017  2021-07-14T00:00:00+02:00     111   \n",
              "42677   1998_43_01577    1998  2001-12-07T00:00:00+01:00      43   \n",
              "18525   2013_27_02217    2013  2015-05-27T00:00:00+02:00      27   \n",
              "29511   2006_53_00034    2006  2009-03-24T00:00:00+01:00      53   \n",
              "\n",
              "                 celeJmeno              OsobaId  \\\n",
              "3869         Jana Maláčová        jana-malacova   \n",
              "2725        Radek Holomčík                 None   \n",
              "42677   ČR Stanislav Gross      stanislav-gross   \n",
              "18525   Martin Kolovratník   martin-kolovratnik   \n",
              "29511  Miroslav Grebeníček  miroslav-grebenicek   \n",
              "\n",
              "                                      funkce  \\\n",
              "3869   Ministryně práce a sociálních věcí ČR   \n",
              "2725                                Poslanec   \n",
              "42677                         Ministr vnitra   \n",
              "18525                               Poslanec   \n",
              "29511                               Poslanec   \n",
              "\n",
              "                                                    tema  \\\n",
              "3869                                     Zahájení schůze   \n",
              "2725                              547. Ústní interpelace   \n",
              "42677  143 - Návrh na usnesení Poslanecké sněmovny k&...   \n",
              "18525      142. Návrh na volbu členů Rady České televize   \n",
              "29511                                    Zahájení schůze   \n",
              "\n",
              "                                                    text  pocetSlov  \\\n",
              "3869   obecně ráda návrh dětské skupiny resp jesle bu...        562   \n",
              "2725   slovo pane předsedající vážené dámy vážení pán...       1185   \n",
              "42677  pane předsedo kolegové středočeského kraje pos...        549   \n",
              "18525  kolegyně kolegové dobré odpoledne teď volební ...       1037   \n",
              "29511  vážený pane předsedo dámy pánové české společn...       1067   \n",
              "\n",
              "                                          politiciZminky  cluster  \n",
              "3869                     [olga-richterova, jan-cizinsky]        1  \n",
              "2725   [marian-jurecka, petr-pavek-8, jaroslav-jureck...        1  \n",
              "42677                                                 []        0  \n",
              "18525  [vitezslav-jandak, vaclav-havel, zbynek-stanju...        0  \n",
              "29511  [vaclav-havel, jiri-dienstbier, jiri-dienstbie...        0  "
            ],
            "text/html": [
              "\n",
              "  <div id=\"df-a79d1883-b5e0-4347-9e7a-2dc916208c68\">\n",
              "    <div class=\"colab-df-container\">\n",
              "      <div>\n",
              "<style scoped>\n",
              "    .dataframe tbody tr th:only-of-type {\n",
              "        vertical-align: middle;\n",
              "    }\n",
              "\n",
              "    .dataframe tbody tr th {\n",
              "        vertical-align: top;\n",
              "    }\n",
              "\n",
              "    .dataframe thead th {\n",
              "        text-align: right;\n",
              "    }\n",
              "</style>\n",
              "<table border=\"1\" class=\"dataframe\">\n",
              "  <thead>\n",
              "    <tr style=\"text-align: right;\">\n",
              "      <th></th>\n",
              "      <th>Id</th>\n",
              "      <th>obdobi</th>\n",
              "      <th>datum</th>\n",
              "      <th>schuze</th>\n",
              "      <th>celeJmeno</th>\n",
              "      <th>OsobaId</th>\n",
              "      <th>funkce</th>\n",
              "      <th>tema</th>\n",
              "      <th>text</th>\n",
              "      <th>pocetSlov</th>\n",
              "      <th>politiciZminky</th>\n",
              "      <th>cluster</th>\n",
              "    </tr>\n",
              "  </thead>\n",
              "  <tbody>\n",
              "    <tr>\n",
              "      <th>3869</th>\n",
              "      <td>2017_91_00052</td>\n",
              "      <td>2017</td>\n",
              "      <td>2021-03-23T00:00:00+01:00</td>\n",
              "      <td>91</td>\n",
              "      <td>Jana Maláčová</td>\n",
              "      <td>jana-malacova</td>\n",
              "      <td>Ministryně práce a sociálních věcí ČR</td>\n",
              "      <td>Zahájení schůze</td>\n",
              "      <td>obecně ráda návrh dětské skupiny resp jesle bu...</td>\n",
              "      <td>562</td>\n",
              "      <td>[olga-richterova, jan-cizinsky]</td>\n",
              "      <td>1</td>\n",
              "    </tr>\n",
              "    <tr>\n",
              "      <th>2725</th>\n",
              "      <td>2017_111_01238</td>\n",
              "      <td>2017</td>\n",
              "      <td>2021-07-14T00:00:00+02:00</td>\n",
              "      <td>111</td>\n",
              "      <td>Radek Holomčík</td>\n",
              "      <td>None</td>\n",
              "      <td>Poslanec</td>\n",
              "      <td>547. Ústní interpelace</td>\n",
              "      <td>slovo pane předsedající vážené dámy vážení pán...</td>\n",
              "      <td>1185</td>\n",
              "      <td>[marian-jurecka, petr-pavek-8, jaroslav-jureck...</td>\n",
              "      <td>1</td>\n",
              "    </tr>\n",
              "    <tr>\n",
              "      <th>42677</th>\n",
              "      <td>1998_43_01577</td>\n",
              "      <td>1998</td>\n",
              "      <td>2001-12-07T00:00:00+01:00</td>\n",
              "      <td>43</td>\n",
              "      <td>ČR Stanislav Gross</td>\n",
              "      <td>stanislav-gross</td>\n",
              "      <td>Ministr vnitra</td>\n",
              "      <td>143 - Návrh na usnesení Poslanecké sněmovny k&amp;...</td>\n",
              "      <td>pane předsedo kolegové středočeského kraje pos...</td>\n",
              "      <td>549</td>\n",
              "      <td>[]</td>\n",
              "      <td>0</td>\n",
              "    </tr>\n",
              "    <tr>\n",
              "      <th>18525</th>\n",
              "      <td>2013_27_02217</td>\n",
              "      <td>2013</td>\n",
              "      <td>2015-05-27T00:00:00+02:00</td>\n",
              "      <td>27</td>\n",
              "      <td>Martin Kolovratník</td>\n",
              "      <td>martin-kolovratnik</td>\n",
              "      <td>Poslanec</td>\n",
              "      <td>142. Návrh na volbu členů Rady České televize</td>\n",
              "      <td>kolegyně kolegové dobré odpoledne teď volební ...</td>\n",
              "      <td>1037</td>\n",
              "      <td>[vitezslav-jandak, vaclav-havel, zbynek-stanju...</td>\n",
              "      <td>0</td>\n",
              "    </tr>\n",
              "    <tr>\n",
              "      <th>29511</th>\n",
              "      <td>2006_53_00034</td>\n",
              "      <td>2006</td>\n",
              "      <td>2009-03-24T00:00:00+01:00</td>\n",
              "      <td>53</td>\n",
              "      <td>Miroslav Grebeníček</td>\n",
              "      <td>miroslav-grebenicek</td>\n",
              "      <td>Poslanec</td>\n",
              "      <td>Zahájení schůze</td>\n",
              "      <td>vážený pane předsedo dámy pánové české společn...</td>\n",
              "      <td>1067</td>\n",
              "      <td>[vaclav-havel, jiri-dienstbier, jiri-dienstbie...</td>\n",
              "      <td>0</td>\n",
              "    </tr>\n",
              "  </tbody>\n",
              "</table>\n",
              "</div>\n",
              "      <button class=\"colab-df-convert\" onclick=\"convertToInteractive('df-a79d1883-b5e0-4347-9e7a-2dc916208c68')\"\n",
              "              title=\"Convert this dataframe to an interactive table.\"\n",
              "              style=\"display:none;\">\n",
              "        \n",
              "  <svg xmlns=\"http://www.w3.org/2000/svg\" height=\"24px\"viewBox=\"0 0 24 24\"\n",
              "       width=\"24px\">\n",
              "    <path d=\"M0 0h24v24H0V0z\" fill=\"none\"/>\n",
              "    <path d=\"M18.56 5.44l.94 2.06.94-2.06 2.06-.94-2.06-.94-.94-2.06-.94 2.06-2.06.94zm-11 1L8.5 8.5l.94-2.06 2.06-.94-2.06-.94L8.5 2.5l-.94 2.06-2.06.94zm10 10l.94 2.06.94-2.06 2.06-.94-2.06-.94-.94-2.06-.94 2.06-2.06.94z\"/><path d=\"M17.41 7.96l-1.37-1.37c-.4-.4-.92-.59-1.43-.59-.52 0-1.04.2-1.43.59L10.3 9.45l-7.72 7.72c-.78.78-.78 2.05 0 2.83L4 21.41c.39.39.9.59 1.41.59.51 0 1.02-.2 1.41-.59l7.78-7.78 2.81-2.81c.8-.78.8-2.07 0-2.86zM5.41 20L4 18.59l7.72-7.72 1.47 1.35L5.41 20z\"/>\n",
              "  </svg>\n",
              "      </button>\n",
              "      \n",
              "  <style>\n",
              "    .colab-df-container {\n",
              "      display:flex;\n",
              "      flex-wrap:wrap;\n",
              "      gap: 12px;\n",
              "    }\n",
              "\n",
              "    .colab-df-convert {\n",
              "      background-color: #E8F0FE;\n",
              "      border: none;\n",
              "      border-radius: 50%;\n",
              "      cursor: pointer;\n",
              "      display: none;\n",
              "      fill: #1967D2;\n",
              "      height: 32px;\n",
              "      padding: 0 0 0 0;\n",
              "      width: 32px;\n",
              "    }\n",
              "\n",
              "    .colab-df-convert:hover {\n",
              "      background-color: #E2EBFA;\n",
              "      box-shadow: 0px 1px 2px rgba(60, 64, 67, 0.3), 0px 1px 3px 1px rgba(60, 64, 67, 0.15);\n",
              "      fill: #174EA6;\n",
              "    }\n",
              "\n",
              "    [theme=dark] .colab-df-convert {\n",
              "      background-color: #3B4455;\n",
              "      fill: #D2E3FC;\n",
              "    }\n",
              "\n",
              "    [theme=dark] .colab-df-convert:hover {\n",
              "      background-color: #434B5C;\n",
              "      box-shadow: 0px 1px 3px 1px rgba(0, 0, 0, 0.15);\n",
              "      filter: drop-shadow(0px 1px 2px rgba(0, 0, 0, 0.3));\n",
              "      fill: #FFFFFF;\n",
              "    }\n",
              "  </style>\n",
              "\n",
              "      <script>\n",
              "        const buttonEl =\n",
              "          document.querySelector('#df-a79d1883-b5e0-4347-9e7a-2dc916208c68 button.colab-df-convert');\n",
              "        buttonEl.style.display =\n",
              "          google.colab.kernel.accessAllowed ? 'block' : 'none';\n",
              "\n",
              "        async function convertToInteractive(key) {\n",
              "          const element = document.querySelector('#df-a79d1883-b5e0-4347-9e7a-2dc916208c68');\n",
              "          const dataTable =\n",
              "            await google.colab.kernel.invokeFunction('convertToInteractive',\n",
              "                                                     [key], {});\n",
              "          if (!dataTable) return;\n",
              "\n",
              "          const docLinkHtml = 'Like what you see? Visit the ' +\n",
              "            '<a target=\"_blank\" href=https://colab.research.google.com/notebooks/data_table.ipynb>data table notebook</a>'\n",
              "            + ' to learn more about interactive tables.';\n",
              "          element.innerHTML = '';\n",
              "          dataTable['output_type'] = 'display_data';\n",
              "          await google.colab.output.renderOutput(dataTable, element);\n",
              "          const docLink = document.createElement('div');\n",
              "          docLink.innerHTML = docLinkHtml;\n",
              "          element.appendChild(docLink);\n",
              "        }\n",
              "      </script>\n",
              "    </div>\n",
              "  </div>\n",
              "  "
            ]
          },
          "metadata": {},
          "execution_count": 146
        }
      ]
    },
    {
      "cell_type": "code",
      "source": [
        "test_data['cluster'].value_counts()"
      ],
      "metadata": {
        "colab": {
          "base_uri": "https://localhost:8080/"
        },
        "id": "d5GQQi9r7Gvq",
        "outputId": "18434070-fbab-4f66-edc2-352d6d0d2cc1"
      },
      "execution_count": 147,
      "outputs": [
        {
          "output_type": "execute_result",
          "data": {
            "text/plain": [
              "1    4202\n",
              "3    2557\n",
              "0    1389\n",
              "4    1119\n",
              "2     523\n",
              "Name: cluster, dtype: int64"
            ]
          },
          "metadata": {},
          "execution_count": 147
        }
      ]
    },
    {
      "cell_type": "code",
      "source": [
        "# from sklearn.metrics.pairwise import cosine_similarity\n",
        "\n",
        "# dist = 1 - cosine_similarity(tfidf_vector) # Crashed session"
      ],
      "metadata": {
        "id": "4y_zrr_i7Gjr"
      },
      "execution_count": 148,
      "outputs": []
    },
    {
      "cell_type": "code",
      "source": [
        "#tfidf_vector_cluster_0 = tfidf_vectorizer.fit_transform(psp_data[psp_data['cluster'] == 1]['text'])"
      ],
      "metadata": {
        "id": "Ibykk0n8NKrR"
      },
      "execution_count": 149,
      "outputs": []
    },
    {
      "cell_type": "code",
      "source": [
        "#tfidf_vector_cluster_0"
      ],
      "metadata": {
        "id": "MwUKSWNw4-iZ"
      },
      "execution_count": 150,
      "outputs": []
    },
    {
      "cell_type": "markdown",
      "source": [
        "### Working clustering below, but it isn't hierarchical"
      ],
      "metadata": {
        "id": "5m8Fo7fO0unr"
      }
    },
    {
      "cell_type": "code",
      "source": [
        "from sklearn.cluster import KMeans\n",
        "import matplotlib.cm as cm\n",
        "\n",
        "from sklearn.cluster import MiniBatchKMeans\n",
        "from sklearn.feature_extraction.text import TfidfVectorizer\n",
        "from sklearn.decomposition import PCA\n",
        "from sklearn.manifold import TSNE"
      ],
      "metadata": {
        "id": "rhvjfAJn8pjz"
      },
      "execution_count": 151,
      "outputs": []
    },
    {
      "cell_type": "code",
      "source": [
        "# tfidf_vector = tfidf_vectorizer.fit_transform(psp_data['text'])"
      ],
      "metadata": {
        "id": "oMM0AphX_8tb"
      },
      "execution_count": 152,
      "outputs": []
    },
    {
      "cell_type": "code",
      "source": [
        "def find_optimal_clusters(data, max_k):\n",
        "    iters = range(2, max_k+1, 2)\n",
        "    \n",
        "    sse = []\n",
        "    for k in iters:\n",
        "        sse.append(MiniBatchKMeans(n_clusters=k, init_size=1024, batch_size=2048, random_state=20).fit(data).inertia_)\n",
        "        print('Fit {} clusters'.format(k))\n",
        "        \n",
        "    f, ax = plt.subplots(1, 1)\n",
        "    ax.plot(iters, sse, marker='o')\n",
        "    ax.set_xlabel('Cluster Centers')\n",
        "    ax.set_xticks(iters)\n",
        "    ax.set_xticklabels(iters)\n",
        "    ax.set_ylabel('SSE')\n",
        "    ax.set_title('SSE by Cluster Center Plot')\n",
        "    \n",
        "find_optimal_clusters(tfidf_vector, 50)"
      ],
      "metadata": {
        "colab": {
          "base_uri": "https://localhost:8080/",
          "height": 729
        },
        "id": "onNb663CALWY",
        "outputId": "a5201d20-7e5a-45e6-90ce-009e3582f715"
      },
      "execution_count": 153,
      "outputs": [
        {
          "output_type": "stream",
          "name": "stdout",
          "text": [
            "Fit 2 clusters\n",
            "Fit 4 clusters\n",
            "Fit 6 clusters\n",
            "Fit 8 clusters\n",
            "Fit 10 clusters\n",
            "Fit 12 clusters\n",
            "Fit 14 clusters\n",
            "Fit 16 clusters\n",
            "Fit 18 clusters\n",
            "Fit 20 clusters\n",
            "Fit 22 clusters\n",
            "Fit 24 clusters\n",
            "Fit 26 clusters\n",
            "Fit 28 clusters\n",
            "Fit 30 clusters\n",
            "Fit 32 clusters\n",
            "Fit 34 clusters\n",
            "Fit 36 clusters\n",
            "Fit 38 clusters\n",
            "Fit 40 clusters\n",
            "Fit 42 clusters\n",
            "Fit 44 clusters\n",
            "Fit 46 clusters\n",
            "Fit 48 clusters\n",
            "Fit 50 clusters\n"
          ]
        },
        {
          "output_type": "display_data",
          "data": {
            "text/plain": [
              "<Figure size 432x288 with 1 Axes>"
            ],
            "image/png": "[encoded data removed]"
          },
          "metadata": {
            "needs_background": "light"
          }
        }
      ]
    },
    {
      "cell_type": "code",
      "source": [],
      "metadata": {
        "id": "YHpFE75-RIsu"
      },
      "execution_count": 153,
      "outputs": []
    },
    {
      "cell_type": "code",
      "source": [],
      "metadata": {
        "id": "woYo2k3URIqW"
      },
      "execution_count": 153,
      "outputs": []
    },
    {
      "cell_type": "code",
      "source": [],
      "metadata": {
        "id": "z_e7m8utRInf"
      },
      "execution_count": 153,
      "outputs": []
    },
    {
      "cell_type": "code",
      "source": [],
      "metadata": {
        "id": "8MGbR5qjRIlE"
      },
      "execution_count": 153,
      "outputs": []
    },
    {
      "cell_type": "code",
      "source": [],
      "metadata": {
        "id": "2LxmiadNRIil"
      },
      "execution_count": 153,
      "outputs": []
    },
    {
      "cell_type": "code",
      "source": [],
      "metadata": {
        "id": "waLliIHpRIgC"
      },
      "execution_count": 153,
      "outputs": []
    }
  ]
}