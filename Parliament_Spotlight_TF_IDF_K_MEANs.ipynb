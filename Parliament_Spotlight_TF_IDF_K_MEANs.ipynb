{
  "nbformat": 4,
  "nbformat_minor": 0,
  "metadata": {
    "colab": {
      "provenance": [],
      "collapsed_sections": [],
      "authorship_tag": "ABX9TyMGvPRacDPuDWMpWYc6sBX6",
      "include_colab_link": true
    },
    "kernelspec": {
      "name": "python3",
      "display_name": "Python 3"
    },
    "language_info": {
      "name": "python"
    }
  },
  "cells": [
    {
      "cell_type": "markdown",
      "metadata": {
        "id": "view-in-github",
        "colab_type": "text"
      },
      "source": [
        "<a href=\"https://colab.research.google.com/github/Daniel-Karlik/Parliament_Spotlight_NLP/blob/dev_model/Parliament_Spotlight_TF_IDF_K_MEANs.ipynb\" target=\"_parent\"><img src=\"https://colab.research.google.com/assets/colab-badge.svg\" alt=\"Open In Colab\"/></a>"
      ]
    },
    {
      "cell_type": "code",
      "execution_count": 1,
      "metadata": {
        "id": "LMi6NRXyKPCJ"
      },
      "outputs": [],
      "source": [
        "import numpy as np\n",
        "import pandas as pd\n",
        "import pickle\n",
        "import matplotlib.pyplot as plt\n",
        "import glob\n",
        "import re\n",
        "import string"
      ]
    },
    {
      "cell_type": "code",
      "source": [
        "#from google.colab import auth\n",
        "from google.colab import drive\n",
        "#auth.authenticate_user()"
      ],
      "metadata": {
        "id": "CrNM_BNTy3uK"
      },
      "execution_count": 2,
      "outputs": []
    },
    {
      "cell_type": "code",
      "source": [
        "drive.mount('/content/drive/')\n",
        "# Path to our data on google drive\n",
        "DATA_PATH = \"/content/drive/MyDrive/NLP/\""
      ],
      "metadata": {
        "id": "aUOE8gBMy9YZ",
        "colab": {
          "base_uri": "https://localhost:8080/"
        },
        "outputId": "e79e7799-27e6-4890-9935-1b395a37deeb"
      },
      "execution_count": 3,
      "outputs": [
        {
          "output_type": "stream",
          "name": "stdout",
          "text": [
            "Mounted at /content/drive/\n"
          ]
        }
      ]
    },
    {
      "cell_type": "code",
      "source": [
        "# path_file = \"C:/Users/Taymad/Downloads/psp_data_300.pickle\" # not working, now I need to load psp_data_300.pkl manually into colab..."
      ],
      "metadata": {
        "id": "TsgVywK7Xkma"
      },
      "execution_count": 4,
      "outputs": []
    },
    {
      "cell_type": "code",
      "source": [
        "# psp_data = pickle.load(open('/content/drive/MyDrive/NLP/psp_data_300.pkl', 'rb'))"
      ],
      "metadata": {
        "id": "q3DjpREPXkjG"
      },
      "execution_count": 5,
      "outputs": []
    },
    {
      "cell_type": "code",
      "source": [
        "# type(psp_data)"
      ],
      "metadata": {
        "colab": {
          "base_uri": "https://localhost:8080/"
        },
        "id": "Ft_W-SJ1Xkgw",
        "outputId": "73ee43e0-ff97-4525-fd49-dd2537bb1bf3"
      },
      "execution_count": 6,
      "outputs": [
        {
          "output_type": "execute_result",
          "data": {
            "text/plain": [
              "pandas.core.frame.DataFrame"
            ]
          },
          "metadata": {},
          "execution_count": 6
        }
      ]
    },
    {
      "cell_type": "markdown",
      "source": [
        "## Removing stopwords"
      ],
      "metadata": {
        "id": "bvmPKL2F255S"
      }
    },
    {
      "cell_type": "code",
      "source": [
        "# from gensim.utils import simple_preprocess"
      ],
      "metadata": {
        "id": "YFo8u23DcN8Z"
      },
      "execution_count": 7,
      "outputs": []
    },
    {
      "cell_type": "code",
      "source": [
        "# with open('/content/drive/MyDrive/NLP/stopwords-cs.txt', 'r') as file:\n",
        "#     my_stopwords=[file.read().split('\\n')]"
      ],
      "metadata": {
        "id": "BuxRzrZccXTk"
      },
      "execution_count": 9,
      "outputs": []
    },
    {
      "cell_type": "code",
      "source": [
        "# from collections import Iterable\n",
        "# def flatten(lis):\n",
        "#      for item in lis:\n",
        "#          if isinstance(item, Iterable) and not isinstance(item, str):\n",
        "#              for x in flatten(item):\n",
        "#                  yield x\n",
        "#          else:        \n",
        "#              yield item\n",
        "\n",
        "# my_stopwords = list(flatten(my_stopwords))"
      ],
      "metadata": {
        "colab": {
          "base_uri": "https://localhost:8080/"
        },
        "id": "CqPSxsAIcaDh",
        "outputId": "d1090038-0663-4f13-9e74-b61712d9ed89"
      },
      "execution_count": 10,
      "outputs": [
        {
          "output_type": "stream",
          "name": "stderr",
          "text": [
            "/usr/local/lib/python3.7/dist-packages/ipykernel_launcher.py:1: DeprecationWarning: Using or importing the ABCs from 'collections' instead of from 'collections.abc' is deprecated since Python 3.3,and in 3.9 it will stop working\n",
            "  \"\"\"Entry point for launching an IPython kernel.\n"
          ]
        }
      ]
    },
    {
      "cell_type": "code",
      "source": [
        "# def remove_stopwords(texts):\n",
        "#     return [[word for word in simple_preprocess(str(doc)) \n",
        "#              if word not in my_stopwords] for doc in texts]\n",
        "\n",
        "\n",
        "# # remove stop words\n",
        "# psp_data['text'] = remove_stopwords(psp_data['text'])"
      ],
      "metadata": {
        "id": "phkMbKHacgGA"
      },
      "execution_count": 11,
      "outputs": []
    },
    {
      "cell_type": "code",
      "source": [
        "# print(len(psp_data['text']))"
      ],
      "metadata": {
        "colab": {
          "base_uri": "https://localhost:8080/"
        },
        "id": "wnv_9LDVfcxc",
        "outputId": "dd7aa3f1-1adb-4143-878a-b5d3ad22ef1b"
      },
      "execution_count": 12,
      "outputs": [
        {
          "output_type": "stream",
          "name": "stdout",
          "text": [
            "48949\n"
          ]
        }
      ]
    },
    {
      "cell_type": "code",
      "source": [
        "# psp_data['text'] = psp_data['text'].apply(lambda x: \" \".join(x))"
      ],
      "metadata": {
        "id": "macbKyDSjaQj"
      },
      "execution_count": 13,
      "outputs": []
    },
    {
      "cell_type": "code",
      "source": [
        "# psp_data.to_pickle(\"./psp_data_300_no_stopwords.pickle\")"
      ],
      "metadata": {
        "id": "-UYmFA1E4918"
      },
      "execution_count": 26,
      "outputs": []
    },
    {
      "cell_type": "markdown",
      "source": [
        "## Now we can use TF-IDF"
      ],
      "metadata": {
        "id": "fhuEZsGf4SKb"
      }
    },
    {
      "cell_type": "code",
      "source": [
        "psp_data = pickle.load(open('/content/drive/MyDrive/NLP/psp_data_300_no_stopwords.pickle', 'rb'))"
      ],
      "metadata": {
        "id": "DnQohfxC7if2"
      },
      "execution_count": null,
      "outputs": []
    },
    {
      "cell_type": "code",
      "source": [
        "from sklearn.feature_extraction.text import TfidfVectorizer\n",
        "from sklearn.feature_extraction.text import CountVectorizer"
      ],
      "metadata": {
        "id": "RdvctmAWXkeS"
      },
      "execution_count": 14,
      "outputs": []
    },
    {
      "cell_type": "code",
      "source": [
        "tfidf_vectorizer = TfidfVectorizer(input='content', max_features = 500, max_df = 0.7) # Hopefully stop_words will be filtered by TD-IDF mechanism"
      ],
      "metadata": {
        "id": "Fr7CyI5t68Nz"
      },
      "execution_count": 15,
      "outputs": []
    },
    {
      "cell_type": "code",
      "source": [
        "tfidf_vector = tfidf_vectorizer.fit_transform(psp_data['text']) # Run time 36s"
      ],
      "metadata": {
        "id": "pQILybrR7JPw"
      },
      "execution_count": 16,
      "outputs": []
    },
    {
      "cell_type": "code",
      "source": [
        "tfidf_df = pd.DataFrame(tfidf_vector.toarray(), columns=tfidf_vectorizer.get_feature_names_out()) # HERE IT CRASHES with too high max_features "
      ],
      "metadata": {
        "id": "L6Q5o_HO7ehh"
      },
      "execution_count": 17,
      "outputs": []
    },
    {
      "cell_type": "code",
      "source": [
        "tfidf_df.loc['00_Document Frequency'] = (tfidf_df > 0).sum()"
      ],
      "metadata": {
        "id": "fwgZSzNJ9zvZ"
      },
      "execution_count": 18,
      "outputs": []
    },
    {
      "cell_type": "markdown",
      "source": [
        "### First glance at our featured words"
      ],
      "metadata": {
        "id": "p4h30syz8dgi"
      }
    },
    {
      "cell_type": "code",
      "source": [
        "print(tfidf_df)"
      ],
      "metadata": {
        "colab": {
          "base_uri": "https://localhost:8080/"
        },
        "id": "sr9If1HCCB0H",
        "outputId": "48a8ce80-f1fd-4670-f7c0-dc8f2e43e7de"
      },
      "execution_count": 19,
      "outputs": [
        {
          "output_type": "stream",
          "name": "stdout",
          "text": [
            "                               bod         bodu    body        bychom  \\\n",
            "0                         0.000000     0.000000     0.0      0.015024   \n",
            "1                         0.000000     0.000000     0.0      0.032251   \n",
            "2                         0.000000     0.000000     0.0      0.000000   \n",
            "3                         0.000000     0.000000     0.0      0.000000   \n",
            "4                         0.000000     0.000000     0.0      0.027068   \n",
            "...                            ...          ...     ...           ...   \n",
            "48945                     0.000000     0.000000     0.0      0.000000   \n",
            "48946                     0.000000     0.093591     0.0      0.000000   \n",
            "48947                     0.000000     0.000000     0.0      0.000000   \n",
            "48948                     0.042518     0.177093     0.0      0.000000   \n",
            "00_Document Frequency  7571.000000  6726.000000  4054.0  15235.000000   \n",
            "\n",
            "                           bydlení          byť        celou         celá  \\\n",
            "0                         0.088183     0.000000     0.021432     0.022622   \n",
            "1                         0.000000     0.024366     0.046009     0.024281   \n",
            "2                         0.000000     0.027005     0.000000     0.026911   \n",
            "3                         0.073189     0.000000     0.000000     0.000000   \n",
            "4                         0.000000     0.040901     0.000000     0.000000   \n",
            "...                            ...          ...          ...          ...   \n",
            "48945                     0.000000     0.000000     0.000000     0.000000   \n",
            "48946                     0.000000     0.000000     0.000000     0.000000   \n",
            "48947                     0.000000     0.000000     0.000000     0.000000   \n",
            "48948                     0.000000     0.000000     0.000000     0.000000   \n",
            "00_Document Frequency  1916.000000  5033.000000  6044.000000  5091.000000   \n",
            "\n",
            "                              celé         celý  ...         řádu  \\\n",
            "0                         0.000000     0.045499  ...     0.000000   \n",
            "1                         0.000000     0.048836  ...     0.000000   \n",
            "2                         0.024129     0.027063  ...     0.000000   \n",
            "3                         0.000000     0.000000  ...     0.000000   \n",
            "4                         0.000000     0.000000  ...     0.000000   \n",
            "...                            ...          ...  ...          ...   \n",
            "48945                     0.000000     0.000000  ...     0.080312   \n",
            "48946                     0.000000     0.000000  ...     0.280857   \n",
            "48947                     0.000000     0.000000  ...     0.000000   \n",
            "48948                     0.000000     0.000000  ...     0.177146   \n",
            "00_Document Frequency  7134.000000  4998.000000  ...  6720.000000   \n",
            "\n",
            "                              říct        říkal         říká        říkám  \\\n",
            "0                         0.000000     0.020613     0.039511     0.081441   \n",
            "1                         0.000000     0.000000     0.000000     0.043707   \n",
            "2                         0.023588     0.073565     0.000000     0.072661   \n",
            "3                         0.049372     0.051325     0.000000     0.050695   \n",
            "4                         0.035726     0.037139     0.000000     0.073366   \n",
            "...                            ...          ...          ...          ...   \n",
            "48945                     0.000000     0.000000     0.000000     0.000000   \n",
            "48946                     0.000000     0.000000     0.000000     0.000000   \n",
            "48947                     0.000000     0.000000     0.000000     0.000000   \n",
            "48948                     0.000000     0.000000     0.000000     0.000000   \n",
            "00_Document Frequency  7617.000000  6802.000000  7698.000000  7055.000000   \n",
            "\n",
            "                            řízení    škol     školství   školy    životního  \n",
            "0                         0.000000     0.0     0.078882     0.0     0.051745  \n",
            "1                         0.000000     0.0     0.000000     0.0     0.027770  \n",
            "2                         0.000000     0.0     0.000000     0.0     0.000000  \n",
            "3                         0.046497     0.0     0.065470     0.0     0.000000  \n",
            "4                         0.000000     0.0     0.000000     0.0     0.000000  \n",
            "...                            ...     ...          ...     ...          ...  \n",
            "48945                     0.000000     0.0     0.000000     0.0     0.000000  \n",
            "48946                     0.000000     0.0     0.000000     0.0     0.000000  \n",
            "48947                     0.000000     0.0     0.000000     0.0     0.000000  \n",
            "48948                     0.000000     0.0     0.000000     0.0     0.000000  \n",
            "00_Document Frequency  8998.000000  2331.0  2997.000000  2635.0  3185.000000  \n",
            "\n",
            "[48950 rows x 500 columns]\n"
          ]
        }
      ]
    },
    {
      "cell_type": "markdown",
      "source": [
        "### Now we remove this auxiliary row"
      ],
      "metadata": {
        "id": "49xIMDsm8k4j"
      }
    },
    {
      "cell_type": "code",
      "source": [
        "tfidf_df = tfidf_df.drop('00_Document Frequency', errors='ignore')"
      ],
      "metadata": {
        "id": "GCw16ggi4WOC"
      },
      "execution_count": 20,
      "outputs": []
    },
    {
      "cell_type": "code",
      "source": [
        "tfidf_df.stack().reset_index()"
      ],
      "metadata": {
        "colab": {
          "base_uri": "https://localhost:8080/",
          "height": 424
        },
        "id": "h0miuBKt4c10",
        "outputId": "afd5828f-85c3-4718-ca92-dc739e45ed24"
      },
      "execution_count": 21,
      "outputs": [
        {
          "output_type": "execute_result",
          "data": {
            "text/plain": [
              "          level_0    level_1         0\n",
              "0               0        bod  0.000000\n",
              "1               0       bodu  0.000000\n",
              "2               0       body  0.000000\n",
              "3               0     bychom  0.015024\n",
              "4               0    bydlení  0.088183\n",
              "...           ...        ...       ...\n",
              "24474495    48948     řízení  0.000000\n",
              "24474496    48948       škol  0.000000\n",
              "24474497    48948   školství  0.000000\n",
              "24474498    48948      školy  0.000000\n",
              "24474499    48948  životního  0.000000\n",
              "\n",
              "[24474500 rows x 3 columns]"
            ],
            "text/html": [
              "\n",
              "  <div id=\"df-6aecb44c-1cf4-4d9f-b2c5-608e22c644e1\">\n",
              "    <div class=\"colab-df-container\">\n",
              "      <div>\n",
              "<style scoped>\n",
              "    .dataframe tbody tr th:only-of-type {\n",
              "        vertical-align: middle;\n",
              "    }\n",
              "\n",
              "    .dataframe tbody tr th {\n",
              "        vertical-align: top;\n",
              "    }\n",
              "\n",
              "    .dataframe thead th {\n",
              "        text-align: right;\n",
              "    }\n",
              "</style>\n",
              "<table border=\"1\" class=\"dataframe\">\n",
              "  <thead>\n",
              "    <tr style=\"text-align: right;\">\n",
              "      <th></th>\n",
              "      <th>level_0</th>\n",
              "      <th>level_1</th>\n",
              "      <th>0</th>\n",
              "    </tr>\n",
              "  </thead>\n",
              "  <tbody>\n",
              "    <tr>\n",
              "      <th>0</th>\n",
              "      <td>0</td>\n",
              "      <td>bod</td>\n",
              "      <td>0.000000</td>\n",
              "    </tr>\n",
              "    <tr>\n",
              "      <th>1</th>\n",
              "      <td>0</td>\n",
              "      <td>bodu</td>\n",
              "      <td>0.000000</td>\n",
              "    </tr>\n",
              "    <tr>\n",
              "      <th>2</th>\n",
              "      <td>0</td>\n",
              "      <td>body</td>\n",
              "      <td>0.000000</td>\n",
              "    </tr>\n",
              "    <tr>\n",
              "      <th>3</th>\n",
              "      <td>0</td>\n",
              "      <td>bychom</td>\n",
              "      <td>0.015024</td>\n",
              "    </tr>\n",
              "    <tr>\n",
              "      <th>4</th>\n",
              "      <td>0</td>\n",
              "      <td>bydlení</td>\n",
              "      <td>0.088183</td>\n",
              "    </tr>\n",
              "    <tr>\n",
              "      <th>...</th>\n",
              "      <td>...</td>\n",
              "      <td>...</td>\n",
              "      <td>...</td>\n",
              "    </tr>\n",
              "    <tr>\n",
              "      <th>24474495</th>\n",
              "      <td>48948</td>\n",
              "      <td>řízení</td>\n",
              "      <td>0.000000</td>\n",
              "    </tr>\n",
              "    <tr>\n",
              "      <th>24474496</th>\n",
              "      <td>48948</td>\n",
              "      <td>škol</td>\n",
              "      <td>0.000000</td>\n",
              "    </tr>\n",
              "    <tr>\n",
              "      <th>24474497</th>\n",
              "      <td>48948</td>\n",
              "      <td>školství</td>\n",
              "      <td>0.000000</td>\n",
              "    </tr>\n",
              "    <tr>\n",
              "      <th>24474498</th>\n",
              "      <td>48948</td>\n",
              "      <td>školy</td>\n",
              "      <td>0.000000</td>\n",
              "    </tr>\n",
              "    <tr>\n",
              "      <th>24474499</th>\n",
              "      <td>48948</td>\n",
              "      <td>životního</td>\n",
              "      <td>0.000000</td>\n",
              "    </tr>\n",
              "  </tbody>\n",
              "</table>\n",
              "<p>24474500 rows × 3 columns</p>\n",
              "</div>\n",
              "      <button class=\"colab-df-convert\" onclick=\"convertToInteractive('df-6aecb44c-1cf4-4d9f-b2c5-608e22c644e1')\"\n",
              "              title=\"Convert this dataframe to an interactive table.\"\n",
              "              style=\"display:none;\">\n",
              "        \n",
              "  <svg xmlns=\"http://www.w3.org/2000/svg\" height=\"24px\"viewBox=\"0 0 24 24\"\n",
              "       width=\"24px\">\n",
              "    <path d=\"M0 0h24v24H0V0z\" fill=\"none\"/>\n",
              "    <path d=\"M18.56 5.44l.94 2.06.94-2.06 2.06-.94-2.06-.94-.94-2.06-.94 2.06-2.06.94zm-11 1L8.5 8.5l.94-2.06 2.06-.94-2.06-.94L8.5 2.5l-.94 2.06-2.06.94zm10 10l.94 2.06.94-2.06 2.06-.94-2.06-.94-.94-2.06-.94 2.06-2.06.94z\"/><path d=\"M17.41 7.96l-1.37-1.37c-.4-.4-.92-.59-1.43-.59-.52 0-1.04.2-1.43.59L10.3 9.45l-7.72 7.72c-.78.78-.78 2.05 0 2.83L4 21.41c.39.39.9.59 1.41.59.51 0 1.02-.2 1.41-.59l7.78-7.78 2.81-2.81c.8-.78.8-2.07 0-2.86zM5.41 20L4 18.59l7.72-7.72 1.47 1.35L5.41 20z\"/>\n",
              "  </svg>\n",
              "      </button>\n",
              "      \n",
              "  <style>\n",
              "    .colab-df-container {\n",
              "      display:flex;\n",
              "      flex-wrap:wrap;\n",
              "      gap: 12px;\n",
              "    }\n",
              "\n",
              "    .colab-df-convert {\n",
              "      background-color: #E8F0FE;\n",
              "      border: none;\n",
              "      border-radius: 50%;\n",
              "      cursor: pointer;\n",
              "      display: none;\n",
              "      fill: #1967D2;\n",
              "      height: 32px;\n",
              "      padding: 0 0 0 0;\n",
              "      width: 32px;\n",
              "    }\n",
              "\n",
              "    .colab-df-convert:hover {\n",
              "      background-color: #E2EBFA;\n",
              "      box-shadow: 0px 1px 2px rgba(60, 64, 67, 0.3), 0px 1px 3px 1px rgba(60, 64, 67, 0.15);\n",
              "      fill: #174EA6;\n",
              "    }\n",
              "\n",
              "    [theme=dark] .colab-df-convert {\n",
              "      background-color: #3B4455;\n",
              "      fill: #D2E3FC;\n",
              "    }\n",
              "\n",
              "    [theme=dark] .colab-df-convert:hover {\n",
              "      background-color: #434B5C;\n",
              "      box-shadow: 0px 1px 3px 1px rgba(0, 0, 0, 0.15);\n",
              "      filter: drop-shadow(0px 1px 2px rgba(0, 0, 0, 0.3));\n",
              "      fill: #FFFFFF;\n",
              "    }\n",
              "  </style>\n",
              "\n",
              "      <script>\n",
              "        const buttonEl =\n",
              "          document.querySelector('#df-6aecb44c-1cf4-4d9f-b2c5-608e22c644e1 button.colab-df-convert');\n",
              "        buttonEl.style.display =\n",
              "          google.colab.kernel.accessAllowed ? 'block' : 'none';\n",
              "\n",
              "        async function convertToInteractive(key) {\n",
              "          const element = document.querySelector('#df-6aecb44c-1cf4-4d9f-b2c5-608e22c644e1');\n",
              "          const dataTable =\n",
              "            await google.colab.kernel.invokeFunction('convertToInteractive',\n",
              "                                                     [key], {});\n",
              "          if (!dataTable) return;\n",
              "\n",
              "          const docLinkHtml = 'Like what you see? Visit the ' +\n",
              "            '<a target=\"_blank\" href=https://colab.research.google.com/notebooks/data_table.ipynb>data table notebook</a>'\n",
              "            + ' to learn more about interactive tables.';\n",
              "          element.innerHTML = '';\n",
              "          dataTable['output_type'] = 'display_data';\n",
              "          await google.colab.output.renderOutput(dataTable, element);\n",
              "          const docLink = document.createElement('div');\n",
              "          docLink.innerHTML = docLinkHtml;\n",
              "          element.appendChild(docLink);\n",
              "        }\n",
              "      </script>\n",
              "    </div>\n",
              "  </div>\n",
              "  "
            ]
          },
          "metadata": {},
          "execution_count": 21
        }
      ]
    },
    {
      "cell_type": "markdown",
      "source": [
        "### We rename columns to be more understandables"
      ],
      "metadata": {
        "id": "6QWXM0Jv8WqR"
      }
    },
    {
      "cell_type": "code",
      "source": [
        "tfidf_df = tfidf_df.stack().reset_index() # This is necessary for some reason"
      ],
      "metadata": {
        "id": "2M-_3O2HEAg6"
      },
      "execution_count": 22,
      "outputs": []
    },
    {
      "cell_type": "code",
      "source": [
        "tfidf_df = tfidf_df.rename(columns={0:'tfidf', 'level_0': 'document_id','level_1': 'term'})"
      ],
      "metadata": {
        "id": "oXJmVK_F5Ptq"
      },
      "execution_count": 23,
      "outputs": []
    },
    {
      "cell_type": "code",
      "source": [
        "tfidf_df.sort_values(by=['document_id','tfidf'], ascending=[True,False]).groupby(['document_id']).head(10)"
      ],
      "metadata": {
        "colab": {
          "base_uri": "https://localhost:8080/",
          "height": 424
        },
        "id": "U2wvuhoN3cug",
        "outputId": "366b1d5c-9b2a-41ff-8935-a29109004776"
      },
      "execution_count": 24,
      "outputs": [
        {
          "output_type": "execute_result",
          "data": {
            "text/plain": [
              "          document_id      term     tfidf\n",
              "212                 0    peníze  0.328713\n",
              "394                 0     vláda  0.214425\n",
              "29                  0   dokonce  0.195148\n",
              "395                 0    vládní  0.183322\n",
              "306                 0  rozpočet  0.180411\n",
              "...               ...       ...       ...\n",
              "24474326        48948  sněmovna  0.193287\n",
              "24474085        48948    komise  0.189868\n",
              "24474490        48948      řádu  0.177146\n",
              "24474001        48948      bodu  0.177093\n",
              "24474146        48948    našeho  0.174631\n",
              "\n",
              "[489490 rows x 3 columns]"
            ],
            "text/html": [
              "\n",
              "  <div id=\"df-8dadd9af-39c6-4358-a445-34f788873322\">\n",
              "    <div class=\"colab-df-container\">\n",
              "      <div>\n",
              "<style scoped>\n",
              "    .dataframe tbody tr th:only-of-type {\n",
              "        vertical-align: middle;\n",
              "    }\n",
              "\n",
              "    .dataframe tbody tr th {\n",
              "        vertical-align: top;\n",
              "    }\n",
              "\n",
              "    .dataframe thead th {\n",
              "        text-align: right;\n",
              "    }\n",
              "</style>\n",
              "<table border=\"1\" class=\"dataframe\">\n",
              "  <thead>\n",
              "    <tr style=\"text-align: right;\">\n",
              "      <th></th>\n",
              "      <th>document_id</th>\n",
              "      <th>term</th>\n",
              "      <th>tfidf</th>\n",
              "    </tr>\n",
              "  </thead>\n",
              "  <tbody>\n",
              "    <tr>\n",
              "      <th>212</th>\n",
              "      <td>0</td>\n",
              "      <td>peníze</td>\n",
              "      <td>0.328713</td>\n",
              "    </tr>\n",
              "    <tr>\n",
              "      <th>394</th>\n",
              "      <td>0</td>\n",
              "      <td>vláda</td>\n",
              "      <td>0.214425</td>\n",
              "    </tr>\n",
              "    <tr>\n",
              "      <th>29</th>\n",
              "      <td>0</td>\n",
              "      <td>dokonce</td>\n",
              "      <td>0.195148</td>\n",
              "    </tr>\n",
              "    <tr>\n",
              "      <th>395</th>\n",
              "      <td>0</td>\n",
              "      <td>vládní</td>\n",
              "      <td>0.183322</td>\n",
              "    </tr>\n",
              "    <tr>\n",
              "      <th>306</th>\n",
              "      <td>0</td>\n",
              "      <td>rozpočet</td>\n",
              "      <td>0.180411</td>\n",
              "    </tr>\n",
              "    <tr>\n",
              "      <th>...</th>\n",
              "      <td>...</td>\n",
              "      <td>...</td>\n",
              "      <td>...</td>\n",
              "    </tr>\n",
              "    <tr>\n",
              "      <th>24474326</th>\n",
              "      <td>48948</td>\n",
              "      <td>sněmovna</td>\n",
              "      <td>0.193287</td>\n",
              "    </tr>\n",
              "    <tr>\n",
              "      <th>24474085</th>\n",
              "      <td>48948</td>\n",
              "      <td>komise</td>\n",
              "      <td>0.189868</td>\n",
              "    </tr>\n",
              "    <tr>\n",
              "      <th>24474490</th>\n",
              "      <td>48948</td>\n",
              "      <td>řádu</td>\n",
              "      <td>0.177146</td>\n",
              "    </tr>\n",
              "    <tr>\n",
              "      <th>24474001</th>\n",
              "      <td>48948</td>\n",
              "      <td>bodu</td>\n",
              "      <td>0.177093</td>\n",
              "    </tr>\n",
              "    <tr>\n",
              "      <th>24474146</th>\n",
              "      <td>48948</td>\n",
              "      <td>našeho</td>\n",
              "      <td>0.174631</td>\n",
              "    </tr>\n",
              "  </tbody>\n",
              "</table>\n",
              "<p>489490 rows × 3 columns</p>\n",
              "</div>\n",
              "      <button class=\"colab-df-convert\" onclick=\"convertToInteractive('df-8dadd9af-39c6-4358-a445-34f788873322')\"\n",
              "              title=\"Convert this dataframe to an interactive table.\"\n",
              "              style=\"display:none;\">\n",
              "        \n",
              "  <svg xmlns=\"http://www.w3.org/2000/svg\" height=\"24px\"viewBox=\"0 0 24 24\"\n",
              "       width=\"24px\">\n",
              "    <path d=\"M0 0h24v24H0V0z\" fill=\"none\"/>\n",
              "    <path d=\"M18.56 5.44l.94 2.06.94-2.06 2.06-.94-2.06-.94-.94-2.06-.94 2.06-2.06.94zm-11 1L8.5 8.5l.94-2.06 2.06-.94-2.06-.94L8.5 2.5l-.94 2.06-2.06.94zm10 10l.94 2.06.94-2.06 2.06-.94-2.06-.94-.94-2.06-.94 2.06-2.06.94z\"/><path d=\"M17.41 7.96l-1.37-1.37c-.4-.4-.92-.59-1.43-.59-.52 0-1.04.2-1.43.59L10.3 9.45l-7.72 7.72c-.78.78-.78 2.05 0 2.83L4 21.41c.39.39.9.59 1.41.59.51 0 1.02-.2 1.41-.59l7.78-7.78 2.81-2.81c.8-.78.8-2.07 0-2.86zM5.41 20L4 18.59l7.72-7.72 1.47 1.35L5.41 20z\"/>\n",
              "  </svg>\n",
              "      </button>\n",
              "      \n",
              "  <style>\n",
              "    .colab-df-container {\n",
              "      display:flex;\n",
              "      flex-wrap:wrap;\n",
              "      gap: 12px;\n",
              "    }\n",
              "\n",
              "    .colab-df-convert {\n",
              "      background-color: #E8F0FE;\n",
              "      border: none;\n",
              "      border-radius: 50%;\n",
              "      cursor: pointer;\n",
              "      display: none;\n",
              "      fill: #1967D2;\n",
              "      height: 32px;\n",
              "      padding: 0 0 0 0;\n",
              "      width: 32px;\n",
              "    }\n",
              "\n",
              "    .colab-df-convert:hover {\n",
              "      background-color: #E2EBFA;\n",
              "      box-shadow: 0px 1px 2px rgba(60, 64, 67, 0.3), 0px 1px 3px 1px rgba(60, 64, 67, 0.15);\n",
              "      fill: #174EA6;\n",
              "    }\n",
              "\n",
              "    [theme=dark] .colab-df-convert {\n",
              "      background-color: #3B4455;\n",
              "      fill: #D2E3FC;\n",
              "    }\n",
              "\n",
              "    [theme=dark] .colab-df-convert:hover {\n",
              "      background-color: #434B5C;\n",
              "      box-shadow: 0px 1px 3px 1px rgba(0, 0, 0, 0.15);\n",
              "      filter: drop-shadow(0px 1px 2px rgba(0, 0, 0, 0.3));\n",
              "      fill: #FFFFFF;\n",
              "    }\n",
              "  </style>\n",
              "\n",
              "      <script>\n",
              "        const buttonEl =\n",
              "          document.querySelector('#df-8dadd9af-39c6-4358-a445-34f788873322 button.colab-df-convert');\n",
              "        buttonEl.style.display =\n",
              "          google.colab.kernel.accessAllowed ? 'block' : 'none';\n",
              "\n",
              "        async function convertToInteractive(key) {\n",
              "          const element = document.querySelector('#df-8dadd9af-39c6-4358-a445-34f788873322');\n",
              "          const dataTable =\n",
              "            await google.colab.kernel.invokeFunction('convertToInteractive',\n",
              "                                                     [key], {});\n",
              "          if (!dataTable) return;\n",
              "\n",
              "          const docLinkHtml = 'Like what you see? Visit the ' +\n",
              "            '<a target=\"_blank\" href=https://colab.research.google.com/notebooks/data_table.ipynb>data table notebook</a>'\n",
              "            + ' to learn more about interactive tables.';\n",
              "          element.innerHTML = '';\n",
              "          dataTable['output_type'] = 'display_data';\n",
              "          await google.colab.output.renderOutput(dataTable, element);\n",
              "          const docLink = document.createElement('div');\n",
              "          docLink.innerHTML = docLinkHtml;\n",
              "          element.appendChild(docLink);\n",
              "        }\n",
              "      </script>\n",
              "    </div>\n",
              "  </div>\n",
              "  "
            ]
          },
          "metadata": {},
          "execution_count": 24
        }
      ]
    },
    {
      "cell_type": "markdown",
      "source": [
        "## Results above seems promising"
      ],
      "metadata": {
        "id": "ENJAi2ai86Yn"
      }
    },
    {
      "cell_type": "markdown",
      "source": [
        "## TODOs: k-means clustering, finding optimal parameters, TOP N words around center"
      ],
      "metadata": {
        "id": "xSMfKJZ79AFB"
      }
    },
    {
      "cell_type": "code",
      "source": [
        "from sklearn.cluster import KMeans\n",
        "import matplotlib.cm as cm\n",
        "\n",
        "from sklearn.cluster import MiniBatchKMeans\n",
        "from sklearn.feature_extraction.text import TfidfVectorizer\n",
        "from sklearn.decomposition import PCA\n",
        "from sklearn.manifold import TSNE"
      ],
      "metadata": {
        "id": "rhvjfAJn8pjz"
      },
      "execution_count": 31,
      "outputs": []
    },
    {
      "cell_type": "code",
      "source": [
        "# tfidf_vector = tfidf_vectorizer.fit_transform(psp_data['text'])"
      ],
      "metadata": {
        "id": "oMM0AphX_8tb"
      },
      "execution_count": null,
      "outputs": []
    },
    {
      "cell_type": "code",
      "source": [
        "def find_optimal_clusters(data, max_k):\n",
        "    iters = range(2, max_k+1, 2)\n",
        "    \n",
        "    sse = []\n",
        "    for k in iters:\n",
        "        sse.append(MiniBatchKMeans(n_clusters=k, init_size=1024, batch_size=2048, random_state=20).fit(data).inertia_)\n",
        "        print('Fit {} clusters'.format(k))\n",
        "        \n",
        "    f, ax = plt.subplots(1, 1)\n",
        "    ax.plot(iters, sse, marker='o')\n",
        "    ax.set_xlabel('Cluster Centers')\n",
        "    ax.set_xticks(iters)\n",
        "    ax.set_xticklabels(iters)\n",
        "    ax.set_ylabel('SSE')\n",
        "    ax.set_title('SSE by Cluster Center Plot')\n",
        "    \n",
        "find_optimal_clusters(tfidf_vector, 50)"
      ],
      "metadata": {
        "colab": {
          "base_uri": "https://localhost:8080/",
          "height": 729
        },
        "id": "onNb663CALWY",
        "outputId": "45ad6b03-3efd-41c0-8965-41d5d3511e49"
      },
      "execution_count": 35,
      "outputs": [
        {
          "output_type": "stream",
          "name": "stdout",
          "text": [
            "Fit 2 clusters\n",
            "Fit 4 clusters\n",
            "Fit 6 clusters\n",
            "Fit 8 clusters\n",
            "Fit 10 clusters\n",
            "Fit 12 clusters\n",
            "Fit 14 clusters\n",
            "Fit 16 clusters\n",
            "Fit 18 clusters\n",
            "Fit 20 clusters\n",
            "Fit 22 clusters\n",
            "Fit 24 clusters\n",
            "Fit 26 clusters\n",
            "Fit 28 clusters\n",
            "Fit 30 clusters\n",
            "Fit 32 clusters\n",
            "Fit 34 clusters\n",
            "Fit 36 clusters\n",
            "Fit 38 clusters\n",
            "Fit 40 clusters\n",
            "Fit 42 clusters\n",
            "Fit 44 clusters\n",
            "Fit 46 clusters\n",
            "Fit 48 clusters\n",
            "Fit 50 clusters\n"
          ]
        },
        {
          "output_type": "display_data",
          "data": {
            "text/plain": [
              "<Figure size 432x288 with 1 Axes>"
            ],
            "image/png": "[encoded data removed]"
          },
          "metadata": {
            "needs_background": "light"
          }
        }
      ]
    },
    {
      "cell_type": "code",
      "source": [
        "clusters = MiniBatchKMeans(n_clusters=48, init_size=1024, batch_size=2048, random_state=20).fit_predict(tfidf_vector)"
      ],
      "metadata": {
        "id": "eTCiUes38IDH"
      },
      "execution_count": 38,
      "outputs": []
    },
    {
      "cell_type": "code",
      "source": [
        "def plot_tsne_pca(data, labels):\n",
        "    max_label = max(labels)\n",
        "    max_items = np.random.choice(range(data.shape[0]), size=3000, replace=False)\n",
        "    \n",
        "    pca = PCA(n_components=2).fit_transform(data[max_items,:].todense())\n",
        "    tsne = TSNE().fit_transform(PCA(n_components=50).fit_transform(data[max_items,:].todense()))\n",
        "    \n",
        "    \n",
        "    idx = np.random.choice(range(pca.shape[0]), size=300, replace=False)\n",
        "    label_subset = labels[max_items]\n",
        "    label_subset = [cm.hsv(i/max_label) for i in label_subset[idx]]\n",
        "    \n",
        "    f, ax = plt.subplots(1, 2, figsize=(14, 6))\n",
        "    \n",
        "    ax[0].scatter(pca[idx, 0], pca[idx, 1], c=label_subset)\n",
        "    ax[0].set_title('PCA Cluster Plot')\n",
        "    \n",
        "    ax[1].scatter(tsne[idx, 0], tsne[idx, 1], c=label_subset)\n",
        "    ax[1].set_title('TSNE Cluster Plot')\n",
        "    \n",
        "plot_tsne_pca(tfidf_vector, clusters)"
      ],
      "metadata": {
        "colab": {
          "base_uri": "https://localhost:8080/",
          "height": 542
        },
        "id": "XG8_NqV-8IAg",
        "outputId": "a8bd64ee-1dee-4062-9cc4-43c7700e697e"
      },
      "execution_count": 39,
      "outputs": [
        {
          "output_type": "stream",
          "name": "stderr",
          "text": [
            "/usr/local/lib/python3.7/dist-packages/sklearn/utils/validation.py:598: FutureWarning: np.matrix usage is deprecated in 1.0 and will raise a TypeError in 1.2. Please convert to a numpy array with np.asarray. For more information see: https://numpy.org/doc/stable/reference/generated/numpy.matrix.html\n",
            "  FutureWarning,\n",
            "/usr/local/lib/python3.7/dist-packages/sklearn/utils/validation.py:598: FutureWarning: np.matrix usage is deprecated in 1.0 and will raise a TypeError in 1.2. Please convert to a numpy array with np.asarray. For more information see: https://numpy.org/doc/stable/reference/generated/numpy.matrix.html\n",
            "  FutureWarning,\n",
            "/usr/local/lib/python3.7/dist-packages/sklearn/manifold/_t_sne.py:783: FutureWarning: The default initialization in TSNE will change from 'random' to 'pca' in 1.2.\n",
            "  FutureWarning,\n",
            "/usr/local/lib/python3.7/dist-packages/sklearn/manifold/_t_sne.py:793: FutureWarning: The default learning rate in TSNE will change from 200.0 to 'auto' in 1.2.\n",
            "  FutureWarning,\n"
          ]
        },
        {
          "output_type": "display_data",
          "data": {
            "text/plain": [
              "<Figure size 1008x432 with 2 Axes>"
            ],
            "image/png": "[encoded data removed]"
          },
          "metadata": {
            "needs_background": "light"
          }
        }
      ]
    },
    {
      "cell_type": "code",
      "source": [
        "def get_top_keywords(data, clusters, labels, n_terms):\n",
        "    df = pd.DataFrame(data.todense()).groupby(clusters).mean()\n",
        "    \n",
        "    for i,r in df.iterrows():\n",
        "        print('\\nCluster {}'.format(i))\n",
        "        print(','.join([labels[t] for t in np.argsort(r)[-n_terms:]]))\n",
        "            \n",
        "get_top_keywords(tfidf_vector, clusters, tfidf_vectorizer.get_feature_names(), 5)"
      ],
      "metadata": {
        "colab": {
          "base_uri": "https://localhost:8080/"
        },
        "id": "KKclE5Fi8H-J",
        "outputId": "d4281eaa-a9c7-48be-95f5-3f81afe2fed9"
      },
      "execution_count": 40,
      "outputs": [
        {
          "output_type": "stream",
          "name": "stderr",
          "text": [
            "/usr/local/lib/python3.7/dist-packages/sklearn/utils/deprecation.py:87: FutureWarning: Function get_feature_names is deprecated; get_feature_names is deprecated in 1.0 and will be removed in 1.2. Please use get_feature_names_out instead.\n",
            "  warnings.warn(msg, category=FutureWarning)\n"
          ]
        },
        {
          "output_type": "stream",
          "name": "stdout",
          "text": [
            "\n",
            "Cluster 0\n",
            "státy,republiky,české,unie,evropské\n",
            "\n",
            "Cluster 1\n",
            "miliardy,roce,rozpočtu,korun,milionů\n",
            "\n",
            "Cluster 2\n",
            "soud,soudu,práva,právní,řízení\n",
            "\n",
            "Cluster 3\n",
            "rady,sněmovny,výboru,poslanecké,usnesení\n",
            "\n",
            "Cluster 4\n",
            "návrh,zahajuji,číslo,bod,hlasování\n",
            "\n",
            "Cluster 5\n",
            "výboru,návrhu,návrhy,návrh,pozměňovací\n",
            "\n",
            "Cluster 6\n",
            "znamená,teď,té,těch,samozřejmě\n",
            "\n",
            "Cluster 7\n",
            "ustanovení,návrh,pozměňovací,slova,odst\n",
            "\n",
            "Cluster 8\n",
            "zařízení,péče,ministerstvo,zdravotní,zdravotnictví\n",
            "\n",
            "Cluster 9\n",
            "návrh,vlády,území,české,republiky\n",
            "\n",
            "Cluster 10\n",
            "snížení,návrh,příjmů,daní,daně\n",
            "\n",
            "Cluster 11\n",
            "dneska,těch,peníze,no,teď\n",
            "\n",
            "Cluster 12\n",
            "zahraniční,poslanec,zdravotní,pracovní,důvody\n",
            "\n",
            "Cluster 13\n",
            "číslo,sněmovny,bod,schůze,poslanec\n",
            "\n",
            "Cluster 14\n",
            "práce,návrh,fondu,sociální,bydlení\n",
            "\n",
            "Cluster 15\n",
            "ministerstvo,vzdělávání,školy,škol,školství\n",
            "\n",
            "Cluster 16\n",
            "služeb,kraje,služby,činnost,činnosti\n",
            "\n",
            "Cluster 17\n",
            "děti,školství,vzdělávání,škol,školy\n",
            "\n",
            "Cluster 18\n",
            "řízení,státního,státních,správy,státní\n",
            "\n",
            "Cluster 19\n",
            "roce,návrh,mil,korun,pojištění\n",
            "\n",
            "Cluster 20\n",
            "republiky,česká,republice,národní,české\n",
            "\n",
            "Cluster 21\n",
            "ministra,ministerstva,ministr,ministerstvo,financí\n",
            "\n",
            "Cluster 22\n",
            "vláda,miliardy,rozpočtu,korun,miliard\n",
            "\n",
            "Cluster 23\n",
            "samozřejmě,republiky,české,vnitra,policie\n",
            "\n",
            "Cluster 24\n",
            "návrh,rozpočtu,státního,majetku,fondu\n",
            "\n",
            "Cluster 25\n",
            "české,čr,evropské,eu,zemědělství\n",
            "\n",
            "Cluster 26\n",
            "právní,výboru,čtení,návrhu,návrh\n",
            "\n",
            "Cluster 27\n",
            "odst,návrh,předpisů,znění,sb\n",
            "\n",
            "Cluster 28\n",
            "návrh,přítomných,číslo,pořadové,hlasování\n",
            "\n",
            "Cluster 29\n",
            "zahraniční,hodin,poslanec,pracovních,důvodů\n",
            "\n",
            "Cluster 30\n",
            "samozřejmě,ministerstvo,systému,dopravy,systém\n",
            "\n",
            "Cluster 31\n",
            "výši,rozpočtu,mld,mil,kč\n",
            "\n",
            "Cluster 32\n",
            "věcí,práce,služeb,sociální,sociálních\n",
            "\n",
            "Cluster 33\n",
            "evropské,české,sněmovny,poslanecké,komise\n",
            "\n",
            "Cluster 34\n",
            "české,vládě,prohlášení,vlády,vláda\n",
            "\n",
            "Cluster 35\n",
            "rok,roce,rozpočtu,korun,mld\n",
            "\n",
            "Cluster 36\n",
            "pane,bychom,věci,věc,chtěl\n",
            "\n",
            "Cluster 37\n",
            "republiky,státy,české,republika,česká\n",
            "\n",
            "Cluster 38\n",
            "daní,návrh,kraje,obcí,obce\n",
            "\n",
            "Cluster 39\n",
            "sociálních,práci,zaměstnanců,pracovní,práce\n",
            "\n",
            "Cluster 40\n",
            "úřad,úřadu,státní,veřejné,správy\n",
            "\n",
            "Cluster 41\n",
            "číslo,hlasovat,zahajuji,návrh,hlasování\n",
            "\n",
            "Cluster 42\n",
            "let,zařízení,péče,dětí,děti\n",
            "\n",
            "Cluster 43\n",
            "sněmovně,ústavní,návrh,sněmovny,poslanecké\n",
            "\n",
            "Cluster 44\n",
            "pojištění,zdravotnictví,péči,zdravotní,péče\n",
            "\n",
            "Cluster 45\n",
            "vláda,rok,rozpočet,státního,rozpočtu\n",
            "\n",
            "Cluster 46\n",
            "jim,těch,opatření,lidé,lidí\n",
            "\n",
            "Cluster 47\n",
            "ministerstva,ochrany,ministerstvo,životního,prostředí\n"
          ]
        }
      ]
    },
    {
      "cell_type": "code",
      "source": [],
      "metadata": {
        "id": "Zw2Iu6_kBc3N"
      },
      "execution_count": null,
      "outputs": []
    },
    {
      "cell_type": "code",
      "source": [
        "# tfidf_slice = tfidf_df[['government', 'borders', 'people', 'obama', 'war', 'honor','foreign', 'men', 'women', 'children']]\n",
        "# tfidf_slice.sort_index().round(decimals=2)\n"
      ],
      "metadata": {
        "id": "qaIe_qkv-JaA"
      },
      "execution_count": 25,
      "outputs": []
    }
  ]
}