{
  "nbformat": 4,
  "nbformat_minor": 0,
  "metadata": {
    "colab": {
      "provenance": [],
      "collapsed_sections": [],
      "authorship_tag": "ABX9TyPbEtQ0P88pMIVwxW513WBW",
      "include_colab_link": true
    },
    "kernelspec": {
      "name": "python3",
      "display_name": "Python 3"
    },
    "language_info": {
      "name": "python"
    }
  },
  "cells": [
    {
      "cell_type": "markdown",
      "metadata": {
        "id": "view-in-github",
        "colab_type": "text"
      },
      "source": [
        "<a href=\"https://colab.research.google.com/github/Daniel-Karlik/Parliament_Spotlight_NLP/blob/dev_model/Parliament_Spotlight_TF_IDF.ipynb\" target=\"_parent\"><img src=\"https://colab.research.google.com/assets/colab-badge.svg\" alt=\"Open In Colab\"/></a>"
      ]
    },
    {
      "cell_type": "code",
      "execution_count": 2,
      "metadata": {
        "id": "LMi6NRXyKPCJ"
      },
      "outputs": [],
      "source": [
        "import numpy as np\n",
        "import pandas as pd\n",
        "import pickle\n",
        "import matplotlib.pyplot as plt\n",
        "import glob\n",
        "import re\n",
        "import string"
      ]
    },
    {
      "cell_type": "code",
      "source": [
        "from google.colab import auth\n",
        "from google.colab import drive\n",
        "auth.authenticate_user()"
      ],
      "metadata": {
        "id": "CrNM_BNTy3uK"
      },
      "execution_count": 3,
      "outputs": []
    },
    {
      "cell_type": "code",
      "source": [
        "#drive.mount('/content/drive/')\n",
        "# Path to our data on google drive\n",
        "#DATA_PATH = \"/content/drive/MyDrive/NLP/\""
      ],
      "metadata": {
        "id": "aUOE8gBMy9YZ"
      },
      "execution_count": 4,
      "outputs": []
    },
    {
      "cell_type": "code",
      "source": [
        "path_file = \"C:/Users/Taymad/Downloads/psp_data_300.pickle\" # not working, now I need to load psp_data_300.pkl manually into colab..."
      ],
      "metadata": {
        "id": "TsgVywK7Xkma"
      },
      "execution_count": 5,
      "outputs": []
    },
    {
      "cell_type": "code",
      "source": [
        "psp_data = pickle.load(open('psp_data_300.pkl', 'rb'))"
      ],
      "metadata": {
        "id": "q3DjpREPXkjG"
      },
      "execution_count": 6,
      "outputs": []
    },
    {
      "cell_type": "code",
      "source": [
        "type(psp_data)"
      ],
      "metadata": {
        "colab": {
          "base_uri": "https://localhost:8080/"
        },
        "id": "Ft_W-SJ1Xkgw",
        "outputId": "5d2fdeec-3aec-4c70-92a6-199b2d04f5b2"
      },
      "execution_count": 7,
      "outputs": [
        {
          "output_type": "execute_result",
          "data": {
            "text/plain": [
              "pandas.core.frame.DataFrame"
            ]
          },
          "metadata": {},
          "execution_count": 7
        }
      ]
    },
    {
      "cell_type": "markdown",
      "source": [
        "## Removing stopwords"
      ],
      "metadata": {
        "id": "bvmPKL2F255S"
      }
    },
    {
      "cell_type": "code",
      "source": [
        "from gensim.utils import simple_preprocess"
      ],
      "metadata": {
        "id": "YFo8u23DcN8Z"
      },
      "execution_count": 8,
      "outputs": []
    },
    {
      "cell_type": "code",
      "source": [
        "with open('stopwords-cs.txt', 'r') as file:\n",
        "    my_stopwords=[file.read().split('\\n')]"
      ],
      "metadata": {
        "id": "BuxRzrZccXTk"
      },
      "execution_count": 9,
      "outputs": []
    },
    {
      "cell_type": "code",
      "source": [
        "from collections import Iterable\n",
        "def flatten(lis):\n",
        "     for item in lis:\n",
        "         if isinstance(item, Iterable) and not isinstance(item, str):\n",
        "             for x in flatten(item):\n",
        "                 yield x\n",
        "         else:        \n",
        "             yield item\n",
        "\n",
        "my_stopwords = list(flatten(my_stopwords))"
      ],
      "metadata": {
        "colab": {
          "base_uri": "https://localhost:8080/"
        },
        "id": "CqPSxsAIcaDh",
        "outputId": "aad47312-ff9c-406c-d77d-9424c8c16908"
      },
      "execution_count": 10,
      "outputs": [
        {
          "output_type": "stream",
          "name": "stderr",
          "text": [
            "/usr/local/lib/python3.7/dist-packages/ipykernel_launcher.py:1: DeprecationWarning: Using or importing the ABCs from 'collections' instead of from 'collections.abc' is deprecated since Python 3.3,and in 3.9 it will stop working\n",
            "  \"\"\"Entry point for launching an IPython kernel.\n"
          ]
        }
      ]
    },
    {
      "cell_type": "code",
      "source": [
        "def remove_stopwords(texts):\n",
        "    return [[word for word in simple_preprocess(str(doc)) \n",
        "             if word not in my_stopwords] for doc in texts]\n",
        "\n",
        "\n",
        "# remove stop words\n",
        "psp_data['text'] = remove_stopwords(psp_data['text'])"
      ],
      "metadata": {
        "id": "phkMbKHacgGA"
      },
      "execution_count": 11,
      "outputs": []
    },
    {
      "cell_type": "code",
      "source": [
        "print(len(psp_data['text']))"
      ],
      "metadata": {
        "colab": {
          "base_uri": "https://localhost:8080/"
        },
        "id": "wnv_9LDVfcxc",
        "outputId": "08737337-bb49-4cf4-d240-006b542c4af6"
      },
      "execution_count": 12,
      "outputs": [
        {
          "output_type": "stream",
          "name": "stdout",
          "text": [
            "48949\n"
          ]
        }
      ]
    },
    {
      "cell_type": "code",
      "source": [
        "psp_data['text'] = psp_data['text'].apply(lambda x: \" \".join(x))"
      ],
      "metadata": {
        "id": "macbKyDSjaQj"
      },
      "execution_count": 13,
      "outputs": []
    },
    {
      "cell_type": "markdown",
      "source": [
        "## Now we can use TF-IDF"
      ],
      "metadata": {
        "id": "fhuEZsGf4SKb"
      }
    },
    {
      "cell_type": "code",
      "source": [
        "from sklearn.feature_extraction.text import TfidfVectorizer\n",
        "from sklearn.feature_extraction.text import CountVectorizer"
      ],
      "metadata": {
        "id": "RdvctmAWXkeS"
      },
      "execution_count": 14,
      "outputs": []
    },
    {
      "cell_type": "code",
      "source": [
        "tfidf_vectorizer = TfidfVectorizer(input='content', max_features = 500, max_df = 0.7) # Hopefully stop_words will be filtered by TD-IDF mechanism"
      ],
      "metadata": {
        "id": "Fr7CyI5t68Nz"
      },
      "execution_count": 15,
      "outputs": []
    },
    {
      "cell_type": "code",
      "source": [
        "tfidf_vector = tfidf_vectorizer.fit_transform(psp_data['text']) # Run time 36s"
      ],
      "metadata": {
        "id": "pQILybrR7JPw"
      },
      "execution_count": 16,
      "outputs": []
    },
    {
      "cell_type": "code",
      "source": [
        "tfidf_df = pd.DataFrame(tfidf_vector.toarray(), columns=tfidf_vectorizer.get_feature_names_out()) # HERE IT CRASHES with too high max_features "
      ],
      "metadata": {
        "id": "L6Q5o_HO7ehh"
      },
      "execution_count": 17,
      "outputs": []
    },
    {
      "cell_type": "code",
      "source": [
        "tfidf_df.loc['00_Document Frequency'] = (tfidf_df > 0).sum()"
      ],
      "metadata": {
        "id": "fwgZSzNJ9zvZ"
      },
      "execution_count": 18,
      "outputs": []
    },
    {
      "cell_type": "markdown",
      "source": [
        "### First glance at our featured words"
      ],
      "metadata": {
        "id": "p4h30syz8dgi"
      }
    },
    {
      "cell_type": "code",
      "source": [
        "print(tfidf_df)"
      ],
      "metadata": {
        "colab": {
          "base_uri": "https://localhost:8080/"
        },
        "id": "sr9If1HCCB0H",
        "outputId": "5554dc26-e818-4456-9c44-2668cc441263"
      },
      "execution_count": 19,
      "outputs": [
        {
          "output_type": "stream",
          "name": "stdout",
          "text": [
            "                              abych       abychom       abyste      alespoň  \\\n",
            "0                          0.031501      0.014407     0.123993     0.020708   \n",
            "1                          0.033830      0.015472     0.000000     0.044478   \n",
            "2                          0.018665      0.000000     0.000000     0.024540   \n",
            "3                          0.000000      0.036076     0.000000     0.000000   \n",
            "4                          0.056869      0.026008     0.000000     0.000000   \n",
            "...                             ...           ...          ...          ...   \n",
            "48945                      0.000000      0.000000     0.000000     0.000000   \n",
            "48946                      0.132798      0.000000     0.348471     0.000000   \n",
            "48947                      0.000000      0.000000     0.000000     0.000000   \n",
            "48948                      0.067376      0.000000     0.088400     0.000000   \n",
            "00_Document Frequency  13580.000000  16500.000000  6662.000000  6621.000000   \n",
            "\n",
            "                                 ať          bod         bodu    body  \\\n",
            "0                          0.000000     0.000000     0.000000     0.0   \n",
            "1                          0.056356     0.000000     0.000000     0.0   \n",
            "2                          0.124375     0.000000     0.000000     0.0   \n",
            "3                          0.000000     0.000000     0.000000     0.0   \n",
            "4                          0.031579     0.000000     0.000000     0.0   \n",
            "...                             ...          ...          ...     ...   \n",
            "48945                      0.000000     0.000000     0.000000     0.0   \n",
            "48946                      0.000000     0.000000     0.086840     0.0   \n",
            "48947                      0.000000     0.000000     0.000000     0.0   \n",
            "48948                      0.112240     0.042312     0.176235     0.0   \n",
            "00_Document Frequency  10551.000000  7571.000000  6726.000000  4054.0   \n",
            "\n",
            "                             bychom      bydlení  ...        říkal  \\\n",
            "0                          0.014957     0.087791  ...     0.020522   \n",
            "1                          0.032125     0.000000  ...     0.000000   \n",
            "2                          0.000000     0.000000  ...     0.072958   \n",
            "3                          0.000000     0.073281  ...     0.051390   \n",
            "4                          0.027002     0.000000  ...     0.037048   \n",
            "...                             ...          ...  ...          ...   \n",
            "48945                      0.000000     0.000000  ...     0.000000   \n",
            "48946                      0.000000     0.000000  ...     0.000000   \n",
            "48947                      0.000000     0.000000  ...     0.000000   \n",
            "48948                      0.000000     0.000000  ...     0.000000   \n",
            "00_Document Frequency  15235.000000  1916.000000  ...  6802.000000   \n",
            "\n",
            "                              říká        říkám       řízení    škol  \\\n",
            "0                         0.039336     0.081080     0.000000     0.0   \n",
            "1                         0.000000     0.043537     0.000000     0.0   \n",
            "2                         0.000000     0.072062     0.000000     0.0   \n",
            "3                         0.000000     0.050759     0.046555     0.0   \n",
            "4                         0.000000     0.073186     0.000000     0.0   \n",
            "...                            ...          ...          ...     ...   \n",
            "48945                     0.000000     0.000000     0.000000     0.0   \n",
            "48946                     0.000000     0.000000     0.000000     0.0   \n",
            "48947                     0.000000     0.000000     0.000000     0.0   \n",
            "48948                     0.000000     0.000000     0.000000     0.0   \n",
            "00_Document Frequency  7698.000000  7055.000000  8998.000000  2331.0   \n",
            "\n",
            "                          školství   školy    životního        žádné  \\\n",
            "0                         0.078532     0.0     0.051515     0.040143   \n",
            "1                         0.000000     0.0     0.027662     0.043110   \n",
            "2                         0.000000     0.0     0.000000     0.000000   \n",
            "3                         0.065552     0.0     0.000000     0.000000   \n",
            "4                         0.000000     0.0     0.000000     0.000000   \n",
            "...                            ...     ...          ...          ...   \n",
            "48945                     0.000000     0.0     0.000000     0.000000   \n",
            "48946                     0.000000     0.0     0.000000     0.000000   \n",
            "48947                     0.000000     0.0     0.000000     0.000000   \n",
            "48948                     0.000000     0.0     0.000000     0.000000   \n",
            "00_Document Frequency  2997.000000  2635.0  3185.000000  7261.000000   \n",
            "\n",
            "                             žádný  \n",
            "0                         0.000000  \n",
            "1                         0.000000  \n",
            "2                         0.000000  \n",
            "3                         0.000000  \n",
            "4                         0.000000  \n",
            "...                            ...  \n",
            "48945                     0.162311  \n",
            "48946                     0.000000  \n",
            "48947                     0.000000  \n",
            "48948                     0.000000  \n",
            "00_Document Frequency  6765.000000  \n",
            "\n",
            "[48950 rows x 500 columns]\n"
          ]
        }
      ]
    },
    {
      "cell_type": "markdown",
      "source": [
        "### Now we remove this auxiliary row"
      ],
      "metadata": {
        "id": "49xIMDsm8k4j"
      }
    },
    {
      "cell_type": "code",
      "source": [
        "tfidf_df = tfidf_df.drop('00_Document Frequency', errors='ignore')"
      ],
      "metadata": {
        "id": "GCw16ggi4WOC"
      },
      "execution_count": 20,
      "outputs": []
    },
    {
      "cell_type": "code",
      "source": [
        "tfidf_df.stack().reset_index()"
      ],
      "metadata": {
        "colab": {
          "base_uri": "https://localhost:8080/",
          "height": 424
        },
        "id": "h0miuBKt4c10",
        "outputId": "d663625f-e520-45a2-9c07-d8f1dd63dbfc"
      },
      "execution_count": 21,
      "outputs": [
        {
          "output_type": "execute_result",
          "data": {
            "text/plain": [
              "          level_0    level_1         0\n",
              "0               0      abych  0.031501\n",
              "1               0    abychom  0.014407\n",
              "2               0     abyste  0.123993\n",
              "3               0    alespoň  0.020708\n",
              "4               0         ať  0.000000\n",
              "...           ...        ...       ...\n",
              "24474495    48948   školství  0.000000\n",
              "24474496    48948      školy  0.000000\n",
              "24474497    48948  životního  0.000000\n",
              "24474498    48948      žádné  0.000000\n",
              "24474499    48948      žádný  0.000000\n",
              "\n",
              "[24474500 rows x 3 columns]"
            ],
            "text/html": [
              "\n",
              "  <div id=\"df-e6238df3-c672-48dd-9a86-c77da3f1b46b\">\n",
              "    <div class=\"colab-df-container\">\n",
              "      <div>\n",
              "<style scoped>\n",
              "    .dataframe tbody tr th:only-of-type {\n",
              "        vertical-align: middle;\n",
              "    }\n",
              "\n",
              "    .dataframe tbody tr th {\n",
              "        vertical-align: top;\n",
              "    }\n",
              "\n",
              "    .dataframe thead th {\n",
              "        text-align: right;\n",
              "    }\n",
              "</style>\n",
              "<table border=\"1\" class=\"dataframe\">\n",
              "  <thead>\n",
              "    <tr style=\"text-align: right;\">\n",
              "      <th></th>\n",
              "      <th>level_0</th>\n",
              "      <th>level_1</th>\n",
              "      <th>0</th>\n",
              "    </tr>\n",
              "  </thead>\n",
              "  <tbody>\n",
              "    <tr>\n",
              "      <th>0</th>\n",
              "      <td>0</td>\n",
              "      <td>abych</td>\n",
              "      <td>0.031501</td>\n",
              "    </tr>\n",
              "    <tr>\n",
              "      <th>1</th>\n",
              "      <td>0</td>\n",
              "      <td>abychom</td>\n",
              "      <td>0.014407</td>\n",
              "    </tr>\n",
              "    <tr>\n",
              "      <th>2</th>\n",
              "      <td>0</td>\n",
              "      <td>abyste</td>\n",
              "      <td>0.123993</td>\n",
              "    </tr>\n",
              "    <tr>\n",
              "      <th>3</th>\n",
              "      <td>0</td>\n",
              "      <td>alespoň</td>\n",
              "      <td>0.020708</td>\n",
              "    </tr>\n",
              "    <tr>\n",
              "      <th>4</th>\n",
              "      <td>0</td>\n",
              "      <td>ať</td>\n",
              "      <td>0.000000</td>\n",
              "    </tr>\n",
              "    <tr>\n",
              "      <th>...</th>\n",
              "      <td>...</td>\n",
              "      <td>...</td>\n",
              "      <td>...</td>\n",
              "    </tr>\n",
              "    <tr>\n",
              "      <th>24474495</th>\n",
              "      <td>48948</td>\n",
              "      <td>školství</td>\n",
              "      <td>0.000000</td>\n",
              "    </tr>\n",
              "    <tr>\n",
              "      <th>24474496</th>\n",
              "      <td>48948</td>\n",
              "      <td>školy</td>\n",
              "      <td>0.000000</td>\n",
              "    </tr>\n",
              "    <tr>\n",
              "      <th>24474497</th>\n",
              "      <td>48948</td>\n",
              "      <td>životního</td>\n",
              "      <td>0.000000</td>\n",
              "    </tr>\n",
              "    <tr>\n",
              "      <th>24474498</th>\n",
              "      <td>48948</td>\n",
              "      <td>žádné</td>\n",
              "      <td>0.000000</td>\n",
              "    </tr>\n",
              "    <tr>\n",
              "      <th>24474499</th>\n",
              "      <td>48948</td>\n",
              "      <td>žádný</td>\n",
              "      <td>0.000000</td>\n",
              "    </tr>\n",
              "  </tbody>\n",
              "</table>\n",
              "<p>24474500 rows × 3 columns</p>\n",
              "</div>\n",
              "      <button class=\"colab-df-convert\" onclick=\"convertToInteractive('df-e6238df3-c672-48dd-9a86-c77da3f1b46b')\"\n",
              "              title=\"Convert this dataframe to an interactive table.\"\n",
              "              style=\"display:none;\">\n",
              "        \n",
              "  <svg xmlns=\"http://www.w3.org/2000/svg\" height=\"24px\"viewBox=\"0 0 24 24\"\n",
              "       width=\"24px\">\n",
              "    <path d=\"M0 0h24v24H0V0z\" fill=\"none\"/>\n",
              "    <path d=\"M18.56 5.44l.94 2.06.94-2.06 2.06-.94-2.06-.94-.94-2.06-.94 2.06-2.06.94zm-11 1L8.5 8.5l.94-2.06 2.06-.94-2.06-.94L8.5 2.5l-.94 2.06-2.06.94zm10 10l.94 2.06.94-2.06 2.06-.94-2.06-.94-.94-2.06-.94 2.06-2.06.94z\"/><path d=\"M17.41 7.96l-1.37-1.37c-.4-.4-.92-.59-1.43-.59-.52 0-1.04.2-1.43.59L10.3 9.45l-7.72 7.72c-.78.78-.78 2.05 0 2.83L4 21.41c.39.39.9.59 1.41.59.51 0 1.02-.2 1.41-.59l7.78-7.78 2.81-2.81c.8-.78.8-2.07 0-2.86zM5.41 20L4 18.59l7.72-7.72 1.47 1.35L5.41 20z\"/>\n",
              "  </svg>\n",
              "      </button>\n",
              "      \n",
              "  <style>\n",
              "    .colab-df-container {\n",
              "      display:flex;\n",
              "      flex-wrap:wrap;\n",
              "      gap: 12px;\n",
              "    }\n",
              "\n",
              "    .colab-df-convert {\n",
              "      background-color: #E8F0FE;\n",
              "      border: none;\n",
              "      border-radius: 50%;\n",
              "      cursor: pointer;\n",
              "      display: none;\n",
              "      fill: #1967D2;\n",
              "      height: 32px;\n",
              "      padding: 0 0 0 0;\n",
              "      width: 32px;\n",
              "    }\n",
              "\n",
              "    .colab-df-convert:hover {\n",
              "      background-color: #E2EBFA;\n",
              "      box-shadow: 0px 1px 2px rgba(60, 64, 67, 0.3), 0px 1px 3px 1px rgba(60, 64, 67, 0.15);\n",
              "      fill: #174EA6;\n",
              "    }\n",
              "\n",
              "    [theme=dark] .colab-df-convert {\n",
              "      background-color: #3B4455;\n",
              "      fill: #D2E3FC;\n",
              "    }\n",
              "\n",
              "    [theme=dark] .colab-df-convert:hover {\n",
              "      background-color: #434B5C;\n",
              "      box-shadow: 0px 1px 3px 1px rgba(0, 0, 0, 0.15);\n",
              "      filter: drop-shadow(0px 1px 2px rgba(0, 0, 0, 0.3));\n",
              "      fill: #FFFFFF;\n",
              "    }\n",
              "  </style>\n",
              "\n",
              "      <script>\n",
              "        const buttonEl =\n",
              "          document.querySelector('#df-e6238df3-c672-48dd-9a86-c77da3f1b46b button.colab-df-convert');\n",
              "        buttonEl.style.display =\n",
              "          google.colab.kernel.accessAllowed ? 'block' : 'none';\n",
              "\n",
              "        async function convertToInteractive(key) {\n",
              "          const element = document.querySelector('#df-e6238df3-c672-48dd-9a86-c77da3f1b46b');\n",
              "          const dataTable =\n",
              "            await google.colab.kernel.invokeFunction('convertToInteractive',\n",
              "                                                     [key], {});\n",
              "          if (!dataTable) return;\n",
              "\n",
              "          const docLinkHtml = 'Like what you see? Visit the ' +\n",
              "            '<a target=\"_blank\" href=https://colab.research.google.com/notebooks/data_table.ipynb>data table notebook</a>'\n",
              "            + ' to learn more about interactive tables.';\n",
              "          element.innerHTML = '';\n",
              "          dataTable['output_type'] = 'display_data';\n",
              "          await google.colab.output.renderOutput(dataTable, element);\n",
              "          const docLink = document.createElement('div');\n",
              "          docLink.innerHTML = docLinkHtml;\n",
              "          element.appendChild(docLink);\n",
              "        }\n",
              "      </script>\n",
              "    </div>\n",
              "  </div>\n",
              "  "
            ]
          },
          "metadata": {},
          "execution_count": 21
        }
      ]
    },
    {
      "cell_type": "markdown",
      "source": [
        "### We rename columns to be more understandables"
      ],
      "metadata": {
        "id": "6QWXM0Jv8WqR"
      }
    },
    {
      "cell_type": "code",
      "source": [
        "tfidf_df = tfidf_df.stack().reset_index() # This is necessary for some reason"
      ],
      "metadata": {
        "id": "2M-_3O2HEAg6"
      },
      "execution_count": 22,
      "outputs": []
    },
    {
      "cell_type": "code",
      "source": [
        "tfidf_df = tfidf_df.rename(columns={0:'tfidf', 'level_0': 'document_id','level_1': 'term'})"
      ],
      "metadata": {
        "id": "oXJmVK_F5Ptq"
      },
      "execution_count": 23,
      "outputs": []
    },
    {
      "cell_type": "code",
      "source": [
        "tfidf_df.sort_values(by=['document_id','tfidf'], ascending=[True,False]).groupby(['document_id']).head(10)"
      ],
      "metadata": {
        "colab": {
          "base_uri": "https://localhost:8080/",
          "height": 424
        },
        "id": "U2wvuhoN3cug",
        "outputId": "45cad929-c615-41d8-c49a-eb4c12c15573"
      },
      "execution_count": 25,
      "outputs": [
        {
          "output_type": "execute_result",
          "data": {
            "text/plain": [
              "          document_id      term     tfidf\n",
              "216                 0    peníze  0.327253\n",
              "393                 0     vláda  0.213473\n",
              "34                  0   dokonce  0.194281\n",
              "394                 0    vládní  0.182508\n",
              "307                 0  rozpočet  0.179610\n",
              "...               ...       ...       ...\n",
              "24474327        48948  sněmovna  0.192350\n",
              "24474090        48948    komise  0.188948\n",
              "24474488        48948      řádu  0.176288\n",
              "24474006        48948      bodu  0.176235\n",
              "24474150        48948    našeho  0.173785\n",
              "\n",
              "[489490 rows x 3 columns]"
            ],
            "text/html": [
              "\n",
              "  <div id=\"df-689b60b5-b916-4ef7-8ee6-09b49c317dba\">\n",
              "    <div class=\"colab-df-container\">\n",
              "      <div>\n",
              "<style scoped>\n",
              "    .dataframe tbody tr th:only-of-type {\n",
              "        vertical-align: middle;\n",
              "    }\n",
              "\n",
              "    .dataframe tbody tr th {\n",
              "        vertical-align: top;\n",
              "    }\n",
              "\n",
              "    .dataframe thead th {\n",
              "        text-align: right;\n",
              "    }\n",
              "</style>\n",
              "<table border=\"1\" class=\"dataframe\">\n",
              "  <thead>\n",
              "    <tr style=\"text-align: right;\">\n",
              "      <th></th>\n",
              "      <th>document_id</th>\n",
              "      <th>term</th>\n",
              "      <th>tfidf</th>\n",
              "    </tr>\n",
              "  </thead>\n",
              "  <tbody>\n",
              "    <tr>\n",
              "      <th>216</th>\n",
              "      <td>0</td>\n",
              "      <td>peníze</td>\n",
              "      <td>0.327253</td>\n",
              "    </tr>\n",
              "    <tr>\n",
              "      <th>393</th>\n",
              "      <td>0</td>\n",
              "      <td>vláda</td>\n",
              "      <td>0.213473</td>\n",
              "    </tr>\n",
              "    <tr>\n",
              "      <th>34</th>\n",
              "      <td>0</td>\n",
              "      <td>dokonce</td>\n",
              "      <td>0.194281</td>\n",
              "    </tr>\n",
              "    <tr>\n",
              "      <th>394</th>\n",
              "      <td>0</td>\n",
              "      <td>vládní</td>\n",
              "      <td>0.182508</td>\n",
              "    </tr>\n",
              "    <tr>\n",
              "      <th>307</th>\n",
              "      <td>0</td>\n",
              "      <td>rozpočet</td>\n",
              "      <td>0.179610</td>\n",
              "    </tr>\n",
              "    <tr>\n",
              "      <th>...</th>\n",
              "      <td>...</td>\n",
              "      <td>...</td>\n",
              "      <td>...</td>\n",
              "    </tr>\n",
              "    <tr>\n",
              "      <th>24474327</th>\n",
              "      <td>48948</td>\n",
              "      <td>sněmovna</td>\n",
              "      <td>0.192350</td>\n",
              "    </tr>\n",
              "    <tr>\n",
              "      <th>24474090</th>\n",
              "      <td>48948</td>\n",
              "      <td>komise</td>\n",
              "      <td>0.188948</td>\n",
              "    </tr>\n",
              "    <tr>\n",
              "      <th>24474488</th>\n",
              "      <td>48948</td>\n",
              "      <td>řádu</td>\n",
              "      <td>0.176288</td>\n",
              "    </tr>\n",
              "    <tr>\n",
              "      <th>24474006</th>\n",
              "      <td>48948</td>\n",
              "      <td>bodu</td>\n",
              "      <td>0.176235</td>\n",
              "    </tr>\n",
              "    <tr>\n",
              "      <th>24474150</th>\n",
              "      <td>48948</td>\n",
              "      <td>našeho</td>\n",
              "      <td>0.173785</td>\n",
              "    </tr>\n",
              "  </tbody>\n",
              "</table>\n",
              "<p>489490 rows × 3 columns</p>\n",
              "</div>\n",
              "      <button class=\"colab-df-convert\" onclick=\"convertToInteractive('df-689b60b5-b916-4ef7-8ee6-09b49c317dba')\"\n",
              "              title=\"Convert this dataframe to an interactive table.\"\n",
              "              style=\"display:none;\">\n",
              "        \n",
              "  <svg xmlns=\"http://www.w3.org/2000/svg\" height=\"24px\"viewBox=\"0 0 24 24\"\n",
              "       width=\"24px\">\n",
              "    <path d=\"M0 0h24v24H0V0z\" fill=\"none\"/>\n",
              "    <path d=\"M18.56 5.44l.94 2.06.94-2.06 2.06-.94-2.06-.94-.94-2.06-.94 2.06-2.06.94zm-11 1L8.5 8.5l.94-2.06 2.06-.94-2.06-.94L8.5 2.5l-.94 2.06-2.06.94zm10 10l.94 2.06.94-2.06 2.06-.94-2.06-.94-.94-2.06-.94 2.06-2.06.94z\"/><path d=\"M17.41 7.96l-1.37-1.37c-.4-.4-.92-.59-1.43-.59-.52 0-1.04.2-1.43.59L10.3 9.45l-7.72 7.72c-.78.78-.78 2.05 0 2.83L4 21.41c.39.39.9.59 1.41.59.51 0 1.02-.2 1.41-.59l7.78-7.78 2.81-2.81c.8-.78.8-2.07 0-2.86zM5.41 20L4 18.59l7.72-7.72 1.47 1.35L5.41 20z\"/>\n",
              "  </svg>\n",
              "      </button>\n",
              "      \n",
              "  <style>\n",
              "    .colab-df-container {\n",
              "      display:flex;\n",
              "      flex-wrap:wrap;\n",
              "      gap: 12px;\n",
              "    }\n",
              "\n",
              "    .colab-df-convert {\n",
              "      background-color: #E8F0FE;\n",
              "      border: none;\n",
              "      border-radius: 50%;\n",
              "      cursor: pointer;\n",
              "      display: none;\n",
              "      fill: #1967D2;\n",
              "      height: 32px;\n",
              "      padding: 0 0 0 0;\n",
              "      width: 32px;\n",
              "    }\n",
              "\n",
              "    .colab-df-convert:hover {\n",
              "      background-color: #E2EBFA;\n",
              "      box-shadow: 0px 1px 2px rgba(60, 64, 67, 0.3), 0px 1px 3px 1px rgba(60, 64, 67, 0.15);\n",
              "      fill: #174EA6;\n",
              "    }\n",
              "\n",
              "    [theme=dark] .colab-df-convert {\n",
              "      background-color: #3B4455;\n",
              "      fill: #D2E3FC;\n",
              "    }\n",
              "\n",
              "    [theme=dark] .colab-df-convert:hover {\n",
              "      background-color: #434B5C;\n",
              "      box-shadow: 0px 1px 3px 1px rgba(0, 0, 0, 0.15);\n",
              "      filter: drop-shadow(0px 1px 2px rgba(0, 0, 0, 0.3));\n",
              "      fill: #FFFFFF;\n",
              "    }\n",
              "  </style>\n",
              "\n",
              "      <script>\n",
              "        const buttonEl =\n",
              "          document.querySelector('#df-689b60b5-b916-4ef7-8ee6-09b49c317dba button.colab-df-convert');\n",
              "        buttonEl.style.display =\n",
              "          google.colab.kernel.accessAllowed ? 'block' : 'none';\n",
              "\n",
              "        async function convertToInteractive(key) {\n",
              "          const element = document.querySelector('#df-689b60b5-b916-4ef7-8ee6-09b49c317dba');\n",
              "          const dataTable =\n",
              "            await google.colab.kernel.invokeFunction('convertToInteractive',\n",
              "                                                     [key], {});\n",
              "          if (!dataTable) return;\n",
              "\n",
              "          const docLinkHtml = 'Like what you see? Visit the ' +\n",
              "            '<a target=\"_blank\" href=https://colab.research.google.com/notebooks/data_table.ipynb>data table notebook</a>'\n",
              "            + ' to learn more about interactive tables.';\n",
              "          element.innerHTML = '';\n",
              "          dataTable['output_type'] = 'display_data';\n",
              "          await google.colab.output.renderOutput(dataTable, element);\n",
              "          const docLink = document.createElement('div');\n",
              "          docLink.innerHTML = docLinkHtml;\n",
              "          element.appendChild(docLink);\n",
              "        }\n",
              "      </script>\n",
              "    </div>\n",
              "  </div>\n",
              "  "
            ]
          },
          "metadata": {},
          "execution_count": 25
        }
      ]
    },
    {
      "cell_type": "markdown",
      "source": [
        "## Results above seems promising"
      ],
      "metadata": {
        "id": "ENJAi2ai86Yn"
      }
    },
    {
      "cell_type": "markdown",
      "source": [
        "## TODOs: k-means clustering, finding optimal parameters, TOP N words around center"
      ],
      "metadata": {
        "id": "xSMfKJZ79AFB"
      }
    },
    {
      "cell_type": "code",
      "source": [
        "# tfidf_slice = tfidf_df[['government', 'borders', 'people', 'obama', 'war', 'honor','foreign', 'men', 'women', 'children']]\n",
        "# tfidf_slice.sort_index().round(decimals=2)\n"
      ],
      "metadata": {
        "id": "qaIe_qkv-JaA"
      },
      "execution_count": 26,
      "outputs": []
    }
  ]
}